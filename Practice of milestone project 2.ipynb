{
 "cells": [
  {
   "cell_type": "code",
   "execution_count": 1,
   "metadata": {},
   "outputs": [],
   "source": [
    "import random"
   ]
  },
  {
   "cell_type": "code",
   "execution_count": 2,
   "metadata": {},
   "outputs": [],
   "source": [
    "shapes = ('Hearts','Diamonds','Spades','Clubs')"
   ]
  },
  {
   "cell_type": "code",
   "execution_count": 3,
   "metadata": {},
   "outputs": [],
   "source": [
    "#copied from pierian data\n",
    "ranks = ('Two', 'Three', 'Four', 'Five', 'Six', 'Seven', 'Eight', 'Nine', 'Ten', 'Jack', 'Queen', 'King', 'Ace')\n",
    "values = {'Two':2, 'Three':3, 'Four':4, 'Five':5, 'Six':6, 'Seven':7, 'Eight':8, \n",
    "            'Nine':9, 'Ten':10, 'Jack':11, 'Queen':12, 'King':13, 'Ace':14}"
   ]
  },
  {
   "cell_type": "code",
   "execution_count": 4,
   "metadata": {},
   "outputs": [],
   "source": [
    "# first we need to create CLASS CARD as per data "
   ]
  },
  {
   "cell_type": "code",
   "execution_count": 5,
   "metadata": {},
   "outputs": [],
   "source": [
    "class cards:\n",
    "    \n",
    "    def __init__(self,shape,rank):\n",
    "        self.rank = rank\n",
    "        self.shape = shape\n",
    "        self.value = values[rank]\n",
    "        \n",
    "    def __str__(self):\n",
    "        return self.rank + \" Of \" + self.shape"
   ]
  },
  {
   "cell_type": "code",
   "execution_count": 6,
   "metadata": {},
   "outputs": [
    {
     "data": {
      "text/plain": [
       "'Hearts'"
      ]
     },
     "execution_count": 6,
     "metadata": {},
     "output_type": "execute_result"
    }
   ],
   "source": [
    "shapes[0]"
   ]
  },
  {
   "cell_type": "code",
   "execution_count": 7,
   "metadata": {},
   "outputs": [
    {
     "data": {
      "text/plain": [
       "'Seven'"
      ]
     },
     "execution_count": 7,
     "metadata": {},
     "output_type": "execute_result"
    }
   ],
   "source": [
    "ranks[5]"
   ]
  },
  {
   "cell_type": "code",
   "execution_count": 8,
   "metadata": {},
   "outputs": [
    {
     "data": {
      "text/plain": [
       "3"
      ]
     },
     "execution_count": 8,
     "metadata": {},
     "output_type": "execute_result"
    }
   ],
   "source": [
    "values['Three']"
   ]
  },
  {
   "cell_type": "code",
   "execution_count": 9,
   "metadata": {},
   "outputs": [
    {
     "data": {
      "text/plain": [
       "2"
      ]
     },
     "execution_count": 9,
     "metadata": {},
     "output_type": "execute_result"
    }
   ],
   "source": [
    "values['Two']"
   ]
  },
  {
   "cell_type": "code",
   "execution_count": 10,
   "metadata": {},
   "outputs": [
    {
     "data": {
      "text/plain": [
       "7"
      ]
     },
     "execution_count": 10,
     "metadata": {},
     "output_type": "execute_result"
    }
   ],
   "source": [
    "values['Seven']"
   ]
  },
  {
   "cell_type": "code",
   "execution_count": 11,
   "metadata": {},
   "outputs": [
    {
     "name": "stdout",
     "output_type": "stream",
     "text": [
      "{'Two': 2, 'Three': 3, 'Four': 4, 'Five': 5, 'Six': 6, 'Seven': 7, 'Eight': 8, 'Nine': 9, 'Ten': 10, 'Jack': 11, 'Queen': 12, 'King': 13, 'Ace': 14}\n"
     ]
    }
   ],
   "source": [
    "print(values)"
   ]
  },
  {
   "cell_type": "code",
   "execution_count": 12,
   "metadata": {},
   "outputs": [],
   "source": [
    "Gamecard1 = cards('Hearts','Seven')"
   ]
  },
  {
   "cell_type": "code",
   "execution_count": 13,
   "metadata": {},
   "outputs": [
    {
     "name": "stdout",
     "output_type": "stream",
     "text": [
      "Seven Of Hearts\n"
     ]
    }
   ],
   "source": [
    "print(Gamecard1)"
   ]
  },
  {
   "cell_type": "code",
   "execution_count": 14,
   "metadata": {},
   "outputs": [],
   "source": [
    "Gamecard1 = cards('Hearts','Seven')"
   ]
  },
  {
   "cell_type": "code",
   "execution_count": 15,
   "metadata": {},
   "outputs": [],
   "source": [
    "gamecard2 = cards(shapes[2],ranks[10])"
   ]
  },
  {
   "cell_type": "code",
   "execution_count": 16,
   "metadata": {},
   "outputs": [
    {
     "data": {
      "text/plain": [
       "'Queen'"
      ]
     },
     "execution_count": 16,
     "metadata": {},
     "output_type": "execute_result"
    }
   ],
   "source": [
    "gamecard2.rank"
   ]
  },
  {
   "cell_type": "code",
   "execution_count": 17,
   "metadata": {},
   "outputs": [
    {
     "data": {
      "text/plain": [
       "'Spades'"
      ]
     },
     "execution_count": 17,
     "metadata": {},
     "output_type": "execute_result"
    }
   ],
   "source": [
    "gamecard2.shape"
   ]
  },
  {
   "cell_type": "code",
   "execution_count": 18,
   "metadata": {},
   "outputs": [
    {
     "data": {
      "text/plain": [
       "12"
      ]
     },
     "execution_count": 18,
     "metadata": {},
     "output_type": "execute_result"
    }
   ],
   "source": [
    "gamecard2.value"
   ]
  },
  {
   "cell_type": "code",
   "execution_count": 19,
   "metadata": {},
   "outputs": [
    {
     "name": "stdout",
     "output_type": "stream",
     "text": [
      "Queen Of Spades\n"
     ]
    }
   ],
   "source": [
    "print(gamecard2)"
   ]
  },
  {
   "cell_type": "code",
   "execution_count": 20,
   "metadata": {},
   "outputs": [],
   "source": [
    "class deck_card:\n",
    "    \n",
    "    def __init__(self):\n",
    "        self.all_card_list=[]\n",
    "        \n",
    "        for shape in shapes:\n",
    "            for rank in ranks:\n",
    "                self.all_card_list.append(cards(shape,rank))\n",
    "                \n",
    "    def shuffle_mode(self):\n",
    "        random.shuffle(self.all_card_list)\n",
    "        \n",
    "    def Taking_onecard(self):\n",
    "        return self.all_card_list.pop()"
   ]
  },
  {
   "cell_type": "code",
   "execution_count": 21,
   "metadata": {},
   "outputs": [],
   "source": [
    "d = deck_card()"
   ]
  },
  {
   "cell_type": "code",
   "execution_count": 22,
   "metadata": {},
   "outputs": [
    {
     "data": {
      "text/plain": [
       "52"
      ]
     },
     "execution_count": 22,
     "metadata": {},
     "output_type": "execute_result"
    }
   ],
   "source": [
    "len(d.all_card_list)"
   ]
  },
  {
   "cell_type": "code",
   "execution_count": 23,
   "metadata": {},
   "outputs": [
    {
     "data": {
      "text/plain": [
       "[<__main__.cards at 0x17ca95e3a48>,\n",
       " <__main__.cards at 0x17ca95e3ac8>,\n",
       " <__main__.cards at 0x17ca95e3cc8>,\n",
       " <__main__.cards at 0x17ca95e3bc8>,\n",
       " <__main__.cards at 0x17ca95e3d08>,\n",
       " <__main__.cards at 0x17ca95ea108>,\n",
       " <__main__.cards at 0x17ca95ea188>,\n",
       " <__main__.cards at 0x17ca95ea1c8>,\n",
       " <__main__.cards at 0x17ca95ea208>,\n",
       " <__main__.cards at 0x17ca95ea148>,\n",
       " <__main__.cards at 0x17ca95ea248>,\n",
       " <__main__.cards at 0x17ca95ea288>,\n",
       " <__main__.cards at 0x17ca95ea2c8>,\n",
       " <__main__.cards at 0x17ca95ea308>,\n",
       " <__main__.cards at 0x17ca95ea348>,\n",
       " <__main__.cards at 0x17ca95ea388>,\n",
       " <__main__.cards at 0x17ca95ea3c8>,\n",
       " <__main__.cards at 0x17ca95ea408>,\n",
       " <__main__.cards at 0x17ca95ea448>,\n",
       " <__main__.cards at 0x17ca95ea488>,\n",
       " <__main__.cards at 0x17ca95ea4c8>,\n",
       " <__main__.cards at 0x17ca95ea508>,\n",
       " <__main__.cards at 0x17ca95ea548>,\n",
       " <__main__.cards at 0x17ca95ea588>,\n",
       " <__main__.cards at 0x17ca95ea5c8>,\n",
       " <__main__.cards at 0x17ca95ea608>,\n",
       " <__main__.cards at 0x17ca95ea648>,\n",
       " <__main__.cards at 0x17ca95ea688>,\n",
       " <__main__.cards at 0x17ca95ea6c8>,\n",
       " <__main__.cards at 0x17ca95ea708>,\n",
       " <__main__.cards at 0x17ca95ea748>,\n",
       " <__main__.cards at 0x17ca95ea788>,\n",
       " <__main__.cards at 0x17ca95ea7c8>,\n",
       " <__main__.cards at 0x17ca95ea808>,\n",
       " <__main__.cards at 0x17ca95ea848>,\n",
       " <__main__.cards at 0x17ca95ea888>,\n",
       " <__main__.cards at 0x17ca95ea8c8>,\n",
       " <__main__.cards at 0x17ca95ea908>,\n",
       " <__main__.cards at 0x17ca95ea948>,\n",
       " <__main__.cards at 0x17ca95ea988>,\n",
       " <__main__.cards at 0x17ca95ea9c8>,\n",
       " <__main__.cards at 0x17ca95eaa08>,\n",
       " <__main__.cards at 0x17ca95eaa48>,\n",
       " <__main__.cards at 0x17ca95eaa88>,\n",
       " <__main__.cards at 0x17ca95eaac8>,\n",
       " <__main__.cards at 0x17ca95eab08>,\n",
       " <__main__.cards at 0x17ca95eab48>,\n",
       " <__main__.cards at 0x17ca95eab88>,\n",
       " <__main__.cards at 0x17ca95eabc8>,\n",
       " <__main__.cards at 0x17ca95eac08>,\n",
       " <__main__.cards at 0x17ca95eac48>,\n",
       " <__main__.cards at 0x17ca95eac88>]"
      ]
     },
     "execution_count": 23,
     "metadata": {},
     "output_type": "execute_result"
    }
   ],
   "source": [
    "d.all_card_list"
   ]
  },
  {
   "cell_type": "code",
   "execution_count": 24,
   "metadata": {},
   "outputs": [
    {
     "name": "stdout",
     "output_type": "stream",
     "text": [
      "<__main__.deck_card object at 0x0000017CA95E3B88>\n"
     ]
    }
   ],
   "source": [
    "print(d)"
   ]
  },
  {
   "cell_type": "code",
   "execution_count": 25,
   "metadata": {},
   "outputs": [
    {
     "data": {
      "text/plain": [
       "<bound method deck_card.shuffle_mode of <__main__.deck_card object at 0x0000017CA95E3B88>>"
      ]
     },
     "execution_count": 25,
     "metadata": {},
     "output_type": "execute_result"
    }
   ],
   "source": [
    "d.shuffle_mode"
   ]
  },
  {
   "cell_type": "code",
   "execution_count": 26,
   "metadata": {},
   "outputs": [
    {
     "name": "stdout",
     "output_type": "stream",
     "text": [
      "Two Of Hearts\n"
     ]
    }
   ],
   "source": [
    "print(d.all_card_list[0])"
   ]
  },
  {
   "cell_type": "code",
   "execution_count": 27,
   "metadata": {},
   "outputs": [
    {
     "data": {
      "text/plain": [
       "[<__main__.cards at 0x17ca95e3a48>,\n",
       " <__main__.cards at 0x17ca95e3ac8>,\n",
       " <__main__.cards at 0x17ca95e3cc8>,\n",
       " <__main__.cards at 0x17ca95e3bc8>,\n",
       " <__main__.cards at 0x17ca95e3d08>,\n",
       " <__main__.cards at 0x17ca95ea108>,\n",
       " <__main__.cards at 0x17ca95ea188>,\n",
       " <__main__.cards at 0x17ca95ea1c8>,\n",
       " <__main__.cards at 0x17ca95ea208>,\n",
       " <__main__.cards at 0x17ca95ea148>,\n",
       " <__main__.cards at 0x17ca95ea248>,\n",
       " <__main__.cards at 0x17ca95ea288>,\n",
       " <__main__.cards at 0x17ca95ea2c8>,\n",
       " <__main__.cards at 0x17ca95ea308>,\n",
       " <__main__.cards at 0x17ca95ea348>,\n",
       " <__main__.cards at 0x17ca95ea388>,\n",
       " <__main__.cards at 0x17ca95ea3c8>,\n",
       " <__main__.cards at 0x17ca95ea408>,\n",
       " <__main__.cards at 0x17ca95ea448>,\n",
       " <__main__.cards at 0x17ca95ea488>,\n",
       " <__main__.cards at 0x17ca95ea4c8>,\n",
       " <__main__.cards at 0x17ca95ea508>,\n",
       " <__main__.cards at 0x17ca95ea548>,\n",
       " <__main__.cards at 0x17ca95ea588>,\n",
       " <__main__.cards at 0x17ca95ea5c8>,\n",
       " <__main__.cards at 0x17ca95ea608>,\n",
       " <__main__.cards at 0x17ca95ea648>,\n",
       " <__main__.cards at 0x17ca95ea688>,\n",
       " <__main__.cards at 0x17ca95ea6c8>,\n",
       " <__main__.cards at 0x17ca95ea708>,\n",
       " <__main__.cards at 0x17ca95ea748>,\n",
       " <__main__.cards at 0x17ca95ea788>,\n",
       " <__main__.cards at 0x17ca95ea7c8>,\n",
       " <__main__.cards at 0x17ca95ea808>,\n",
       " <__main__.cards at 0x17ca95ea848>,\n",
       " <__main__.cards at 0x17ca95ea888>,\n",
       " <__main__.cards at 0x17ca95ea8c8>,\n",
       " <__main__.cards at 0x17ca95ea908>,\n",
       " <__main__.cards at 0x17ca95ea948>,\n",
       " <__main__.cards at 0x17ca95ea988>,\n",
       " <__main__.cards at 0x17ca95ea9c8>,\n",
       " <__main__.cards at 0x17ca95eaa08>,\n",
       " <__main__.cards at 0x17ca95eaa48>,\n",
       " <__main__.cards at 0x17ca95eaa88>,\n",
       " <__main__.cards at 0x17ca95eaac8>,\n",
       " <__main__.cards at 0x17ca95eab08>,\n",
       " <__main__.cards at 0x17ca95eab48>,\n",
       " <__main__.cards at 0x17ca95eab88>,\n",
       " <__main__.cards at 0x17ca95eabc8>,\n",
       " <__main__.cards at 0x17ca95eac08>,\n",
       " <__main__.cards at 0x17ca95eac48>,\n",
       " <__main__.cards at 0x17ca95eac88>]"
      ]
     },
     "execution_count": 27,
     "metadata": {},
     "output_type": "execute_result"
    }
   ],
   "source": [
    "d.all_card_list"
   ]
  },
  {
   "cell_type": "code",
   "execution_count": 28,
   "metadata": {},
   "outputs": [],
   "source": [
    "d.shuffle_mode()"
   ]
  },
  {
   "cell_type": "code",
   "execution_count": 29,
   "metadata": {},
   "outputs": [
    {
     "data": {
      "text/plain": [
       "[<__main__.cards at 0x17ca95ea248>,\n",
       " <__main__.cards at 0x17ca95e3ac8>,\n",
       " <__main__.cards at 0x17ca95eabc8>,\n",
       " <__main__.cards at 0x17ca95ea3c8>,\n",
       " <__main__.cards at 0x17ca95eaac8>,\n",
       " <__main__.cards at 0x17ca95ea188>,\n",
       " <__main__.cards at 0x17ca95ea448>,\n",
       " <__main__.cards at 0x17ca95eab08>,\n",
       " <__main__.cards at 0x17ca95ea508>,\n",
       " <__main__.cards at 0x17ca95ea888>,\n",
       " <__main__.cards at 0x17ca95ea108>,\n",
       " <__main__.cards at 0x17ca95eac08>,\n",
       " <__main__.cards at 0x17ca95ea848>,\n",
       " <__main__.cards at 0x17ca95eac88>,\n",
       " <__main__.cards at 0x17ca95ea648>,\n",
       " <__main__.cards at 0x17ca95ea488>,\n",
       " <__main__.cards at 0x17ca95ea1c8>,\n",
       " <__main__.cards at 0x17ca95eaa48>,\n",
       " <__main__.cards at 0x17ca95e3a48>,\n",
       " <__main__.cards at 0x17ca95ea608>,\n",
       " <__main__.cards at 0x17ca95eac48>,\n",
       " <__main__.cards at 0x17ca95ea788>,\n",
       " <__main__.cards at 0x17ca95ea7c8>,\n",
       " <__main__.cards at 0x17ca95ea6c8>,\n",
       " <__main__.cards at 0x17ca95ea808>,\n",
       " <__main__.cards at 0x17ca95ea308>,\n",
       " <__main__.cards at 0x17ca95ea408>,\n",
       " <__main__.cards at 0x17ca95e3d08>,\n",
       " <__main__.cards at 0x17ca95eab48>,\n",
       " <__main__.cards at 0x17ca95ea208>,\n",
       " <__main__.cards at 0x17ca95eaa88>,\n",
       " <__main__.cards at 0x17ca95ea688>,\n",
       " <__main__.cards at 0x17ca95ea5c8>,\n",
       " <__main__.cards at 0x17ca95ea588>,\n",
       " <__main__.cards at 0x17ca95ea4c8>,\n",
       " <__main__.cards at 0x17ca95e3cc8>,\n",
       " <__main__.cards at 0x17ca95ea8c8>,\n",
       " <__main__.cards at 0x17ca95ea348>,\n",
       " <__main__.cards at 0x17ca95ea9c8>,\n",
       " <__main__.cards at 0x17ca95eaa08>,\n",
       " <__main__.cards at 0x17ca95ea388>,\n",
       " <__main__.cards at 0x17ca95e3bc8>,\n",
       " <__main__.cards at 0x17ca95ea2c8>,\n",
       " <__main__.cards at 0x17ca95eab88>,\n",
       " <__main__.cards at 0x17ca95ea548>,\n",
       " <__main__.cards at 0x17ca95ea988>,\n",
       " <__main__.cards at 0x17ca95ea708>,\n",
       " <__main__.cards at 0x17ca95ea948>,\n",
       " <__main__.cards at 0x17ca95ea908>,\n",
       " <__main__.cards at 0x17ca95ea288>,\n",
       " <__main__.cards at 0x17ca95ea748>,\n",
       " <__main__.cards at 0x17ca95ea148>]"
      ]
     },
     "execution_count": 29,
     "metadata": {},
     "output_type": "execute_result"
    }
   ],
   "source": [
    "d.all_card_list"
   ]
  },
  {
   "cell_type": "code",
   "execution_count": 30,
   "metadata": {},
   "outputs": [
    {
     "name": "stdout",
     "output_type": "stream",
     "text": [
      "Queen Of Hearts\n"
     ]
    }
   ],
   "source": [
    "print(d.all_card_list[0])"
   ]
  },
  {
   "cell_type": "code",
   "execution_count": 31,
   "metadata": {},
   "outputs": [
    {
     "name": "stdout",
     "output_type": "stream",
     "text": [
      "Jack Of Hearts\n"
     ]
    }
   ],
   "source": [
    "print(d.all_card_list[51])"
   ]
  },
  {
   "cell_type": "code",
   "execution_count": 32,
   "metadata": {},
   "outputs": [],
   "source": [
    "taken1 = d.Taking_onecard()"
   ]
  },
  {
   "cell_type": "code",
   "execution_count": 33,
   "metadata": {},
   "outputs": [
    {
     "name": "stdout",
     "output_type": "stream",
     "text": [
      "Jack Of Hearts\n"
     ]
    }
   ],
   "source": [
    "print(taken1)"
   ]
  },
  {
   "cell_type": "code",
   "execution_count": 34,
   "metadata": {},
   "outputs": [
    {
     "data": {
      "text/plain": [
       "51"
      ]
     },
     "execution_count": 34,
     "metadata": {},
     "output_type": "execute_result"
    }
   ],
   "source": [
    "len(d.all_card_list)"
   ]
  },
  {
   "cell_type": "code",
   "execution_count": 35,
   "metadata": {},
   "outputs": [],
   "source": [
    "taken2 = d.Taking_onecard()"
   ]
  },
  {
   "cell_type": "code",
   "execution_count": 36,
   "metadata": {},
   "outputs": [
    {
     "name": "stdout",
     "output_type": "stream",
     "text": [
      "Six Of Spades\n"
     ]
    }
   ],
   "source": [
    "print(taken2)"
   ]
  },
  {
   "cell_type": "code",
   "execution_count": 37,
   "metadata": {},
   "outputs": [
    {
     "data": {
      "text/plain": [
       "50"
      ]
     },
     "execution_count": 37,
     "metadata": {},
     "output_type": "execute_result"
    }
   ],
   "source": [
    "len(d.all_card_list)"
   ]
  },
  {
   "cell_type": "code",
   "execution_count": 38,
   "metadata": {},
   "outputs": [],
   "source": [
    "class player_turn():\n",
    "    \n",
    "    def __init__(self,name):\n",
    "        self.name = name\n",
    "        self.all_cards_list = []\n",
    "        \n",
    "    def player_took1(self):\n",
    "        return self.all_cards_list.pop(0)\n",
    "    \n",
    "    def add_playercards(self,new_cards):\n",
    "        if type(new_cards) == type([]):\n",
    "            self.all_cards_list.extend(new_cards)\n",
    "        else:\n",
    "            self.all_cards_list.append(new_cards)\n",
    "            \n",
    "    def __str__(self):\n",
    "        return f'Player {self.name} has {len(self.all_cards_list)} cards '\n",
    "        \n",
    "    "
   ]
  },
  {
   "cell_type": "code",
   "execution_count": 39,
   "metadata": {},
   "outputs": [],
   "source": [
    "p = player_turn('Govind')"
   ]
  },
  {
   "cell_type": "code",
   "execution_count": 40,
   "metadata": {},
   "outputs": [
    {
     "name": "stdout",
     "output_type": "stream",
     "text": [
      "Player Govind has 0 cards \n"
     ]
    }
   ],
   "source": [
    "print(p)"
   ]
  },
  {
   "cell_type": "code",
   "execution_count": 41,
   "metadata": {},
   "outputs": [],
   "source": [
    "p.add_playercards(taken1)"
   ]
  },
  {
   "cell_type": "code",
   "execution_count": 42,
   "metadata": {},
   "outputs": [
    {
     "name": "stdout",
     "output_type": "stream",
     "text": [
      "Player Govind has 1 cards \n"
     ]
    }
   ],
   "source": [
    "print(p)"
   ]
  },
  {
   "cell_type": "code",
   "execution_count": 43,
   "metadata": {},
   "outputs": [
    {
     "name": "stdout",
     "output_type": "stream",
     "text": [
      "Jack Of Hearts\n"
     ]
    }
   ],
   "source": [
    "print(taken1)"
   ]
  },
  {
   "cell_type": "code",
   "execution_count": 44,
   "metadata": {},
   "outputs": [],
   "source": [
    "p.add_playercards(taken2)"
   ]
  },
  {
   "cell_type": "code",
   "execution_count": 45,
   "metadata": {},
   "outputs": [
    {
     "name": "stdout",
     "output_type": "stream",
     "text": [
      "Player Govind has 2 cards \n"
     ]
    }
   ],
   "source": [
    "print(p)"
   ]
  },
  {
   "cell_type": "code",
   "execution_count": 46,
   "metadata": {},
   "outputs": [],
   "source": [
    "# GAME LOGIC"
   ]
  },
  {
   "cell_type": "code",
   "execution_count": 64,
   "metadata": {},
   "outputs": [],
   "source": [
    "class player_turn():\n",
    "    \n",
    "    def __init__(self):\n",
    "        self.name = input()\n",
    "        self.all_cards_list = []\n",
    "        \n",
    "    def player_took1(self):\n",
    "        return self.all_cards_list.pop(0)\n",
    "    \n",
    "    def add_playercards(self,new_cards):\n",
    "        if type(new_cards) == type([]):\n",
    "            self.all_cards_list.extend(new_cards)\n",
    "        else:\n",
    "            self.all_cards_list.append(new_cards)\n",
    "            \n",
    "    def __str__(self):\n",
    "        return f'Player {self.name} has {len(self.all_cards_list)} cards '\n",
    "        \n",
    "    "
   ]
  },
  {
   "cell_type": "code",
   "execution_count": 65,
   "metadata": {},
   "outputs": [
    {
     "name": "stdout",
     "output_type": "stream",
     "text": [
      "Govind GS\n"
     ]
    }
   ],
   "source": [
    "player_one =player_turn()"
   ]
  },
  {
   "cell_type": "code",
   "execution_count": 66,
   "metadata": {},
   "outputs": [
    {
     "name": "stdout",
     "output_type": "stream",
     "text": [
      "Player Govind GS has 0 cards \n"
     ]
    }
   ],
   "source": [
    "print(player_one)"
   ]
  },
  {
   "cell_type": "code",
   "execution_count": 67,
   "metadata": {},
   "outputs": [
    {
     "name": "stdout",
     "output_type": "stream",
     "text": [
      "JOSE\n"
     ]
    }
   ],
   "source": [
    "player_two = player_turn()"
   ]
  },
  {
   "cell_type": "code",
   "execution_count": 68,
   "metadata": {},
   "outputs": [
    {
     "name": "stdout",
     "output_type": "stream",
     "text": [
      "Player JOSE has 0 cards \n"
     ]
    }
   ],
   "source": [
    "print(player_two)"
   ]
  },
  {
   "cell_type": "code",
   "execution_count": 69,
   "metadata": {},
   "outputs": [],
   "source": [
    "# Shuffle"
   ]
  },
  {
   "cell_type": "code",
   "execution_count": 70,
   "metadata": {},
   "outputs": [],
   "source": [
    "new_deck = deck_card()"
   ]
  },
  {
   "cell_type": "code",
   "execution_count": 71,
   "metadata": {},
   "outputs": [],
   "source": [
    "new_deck.shuffle_mode()"
   ]
  },
  {
   "cell_type": "code",
   "execution_count": 72,
   "metadata": {},
   "outputs": [
    {
     "data": {
      "text/plain": [
       "52"
      ]
     },
     "execution_count": 72,
     "metadata": {},
     "output_type": "execute_result"
    }
   ],
   "source": [
    "len(new_deck.all_card_list)"
   ]
  },
  {
   "cell_type": "code",
   "execution_count": 73,
   "metadata": {},
   "outputs": [
    {
     "data": {
      "text/plain": [
       "26.0"
      ]
     },
     "execution_count": 73,
     "metadata": {},
     "output_type": "execute_result"
    }
   ],
   "source": [
    "len(new_deck.all_card_list)/2"
   ]
  },
  {
   "cell_type": "code",
   "execution_count": 74,
   "metadata": {},
   "outputs": [],
   "source": [
    "for card in range(26):\n",
    "    player_one.add_playercards(new_deck.Taking_onecard())\n",
    "    player_two.add_playercards(new_deck.Taking_onecard())\n",
    "    "
   ]
  },
  {
   "cell_type": "code",
   "execution_count": 75,
   "metadata": {},
   "outputs": [
    {
     "data": {
      "text/plain": [
       "26"
      ]
     },
     "execution_count": 75,
     "metadata": {},
     "output_type": "execute_result"
    }
   ],
   "source": [
    "len (player_one.all_cards_list)"
   ]
  },
  {
   "cell_type": "code",
   "execution_count": 76,
   "metadata": {},
   "outputs": [
    {
     "data": {
      "text/plain": [
       "26"
      ]
     },
     "execution_count": 76,
     "metadata": {},
     "output_type": "execute_result"
    }
   ],
   "source": [
    "len (player_two.all_cards_list)"
   ]
  },
  {
   "cell_type": "code",
   "execution_count": 77,
   "metadata": {},
   "outputs": [],
   "source": [
    "# GAME ON"
   ]
  },
  {
   "cell_type": "code",
   "execution_count": 78,
   "metadata": {},
   "outputs": [
    {
     "data": {
      "text/plain": [
       "'Govind GS'"
      ]
     },
     "execution_count": 78,
     "metadata": {},
     "output_type": "execute_result"
    }
   ],
   "source": [
    "player_one.name"
   ]
  },
  {
   "cell_type": "code",
   "execution_count": 79,
   "metadata": {},
   "outputs": [],
   "source": [
    "game_on = True"
   ]
  },
  {
   "cell_type": "code",
   "execution_count": 80,
   "metadata": {},
   "outputs": [
    {
     "name": "stdout",
     "output_type": "stream",
     "text": [
      "Round 1 Begins!!!!!\n",
      "Round 2 Begins!!!!!\n",
      "Round 3 Begins!!!!!\n",
      "Round 4 Begins!!!!!\n",
      "Round 5 Begins!!!!!\n",
      "Round 6 Begins!!!!!\n",
      "Round 7 Begins!!!!!\n",
      "Round 8 Begins!!!!!\n",
      "Round 9 Begins!!!!!\n",
      "Round 10 Begins!!!!!\n",
      "Round 11 Begins!!!!!\n",
      "Round 12 Begins!!!!!\n",
      "Round 13 Begins!!!!!\n",
      "Round 14 Begins!!!!!\n",
      "Round 15 Begins!!!!!\n",
      "Round 16 Begins!!!!!\n",
      "Round 17 Begins!!!!!\n",
      "Round 18 Begins!!!!!\n",
      "Round 19 Begins!!!!!\n",
      "Round 20 Begins!!!!!\n",
      "Round 21 Begins!!!!!\n",
      "Round 22 Begins!!!!!\n",
      "Round 23 Begins!!!!!\n",
      "Round 24 Begins!!!!!\n",
      "Round 25 Begins!!!!!\n",
      "Round 26 Begins!!!!!\n",
      "Round 27 Begins!!!!!\n",
      "Round 28 Begins!!!!!\n",
      "Round 29 Begins!!!!!\n",
      "Round 30 Begins!!!!!\n",
      "Round 31 Begins!!!!!\n",
      "Round 32 Begins!!!!!\n",
      "Round 33 Begins!!!!!\n",
      "Round 34 Begins!!!!!\n",
      "Round 35 Begins!!!!!\n",
      "Round 36 Begins!!!!!\n",
      "Round 37 Begins!!!!!\n",
      "Round 38 Begins!!!!!\n",
      "Round 39 Begins!!!!!\n",
      "WE ARE AT WAR!!!!!\n",
      "Round 40 Begins!!!!!\n",
      "Round 41 Begins!!!!!\n",
      "Round 42 Begins!!!!!\n",
      "Round 43 Begins!!!!!\n",
      "Round 44 Begins!!!!!\n",
      "WE ARE AT WAR!!!!!\n",
      "Round 45 Begins!!!!!\n",
      "Round 46 Begins!!!!!\n",
      "Round 47 Begins!!!!!\n",
      "Round 48 Begins!!!!!\n",
      "Round 49 Begins!!!!!\n",
      "Round 50 Begins!!!!!\n",
      "Round 51 Begins!!!!!\n",
      "Round 52 Begins!!!!!\n",
      "WE ARE AT WAR!!!!!\n",
      "Round 53 Begins!!!!!\n",
      "WE ARE AT WAR!!!!!\n",
      "Round 54 Begins!!!!!\n",
      "Round 55 Begins!!!!!\n",
      "Round 56 Begins!!!!!\n",
      "Round 57 Begins!!!!!\n",
      "Round 58 Begins!!!!!\n",
      "Round 59 Begins!!!!!\n",
      "Round 60 Begins!!!!!\n",
      "Round 61 Begins!!!!!\n",
      "Round 62 Begins!!!!!\n",
      "Round 63 Begins!!!!!\n",
      "Round 64 Begins!!!!!\n",
      "Round 65 Begins!!!!!\n",
      "Round 66 Begins!!!!!\n",
      "Round 67 Begins!!!!!\n",
      "Round 68 Begins!!!!!\n",
      "Round 69 Begins!!!!!\n",
      "WE ARE AT WAR!!!!!\n",
      "Round 70 Begins!!!!!\n",
      "Round 71 Begins!!!!!\n",
      "Round 72 Begins!!!!!\n",
      "Round 73 Begins!!!!!\n",
      "Round 74 Begins!!!!!\n",
      "Round 75 Begins!!!!!\n",
      "Round 76 Begins!!!!!\n",
      "Round 77 Begins!!!!!\n",
      "Round 78 Begins!!!!!\n",
      "WE ARE AT WAR!!!!!\n",
      "Round 79 Begins!!!!!\n",
      "Round 80 Begins!!!!!\n",
      "Round 81 Begins!!!!!\n",
      "Round 82 Begins!!!!!\n",
      "Round 83 Begins!!!!!\n",
      "Round 84 Begins!!!!!\n",
      "WE ARE AT WAR!!!!!\n",
      "Round 85 Begins!!!!!\n",
      "Round 86 Begins!!!!!\n",
      "Round 87 Begins!!!!!\n",
      "Round 88 Begins!!!!!\n",
      "Round 89 Begins!!!!!\n",
      "Round 90 Begins!!!!!\n",
      "Round 91 Begins!!!!!\n",
      "WE ARE AT WAR!!!!!\n",
      "Round 92 Begins!!!!!\n",
      "Round 93 Begins!!!!!\n",
      "Round 94 Begins!!!!!\n",
      "Round 95 Begins!!!!!\n",
      "Round 96 Begins!!!!!\n",
      "Round 97 Begins!!!!!\n",
      "Round 98 Begins!!!!!\n",
      "Round 99 Begins!!!!!\n",
      "Round 100 Begins!!!!!\n",
      "Round 101 Begins!!!!!\n",
      "Round 102 Begins!!!!!\n",
      "Round 103 Begins!!!!!\n",
      "Round 104 Begins!!!!!\n",
      "Round 105 Begins!!!!!\n",
      "Round 106 Begins!!!!!\n",
      "Round 107 Begins!!!!!\n",
      "Round 108 Begins!!!!!\n",
      "Round 109 Begins!!!!!\n",
      "WE ARE AT WAR!!!!!\n",
      "WE ARE AT WAR!!!!!\n",
      "Round 110 Begins!!!!!\n",
      "Round 111 Begins!!!!!\n",
      "Round 112 Begins!!!!!\n",
      "Round 113 Begins!!!!!\n",
      "Round 114 Begins!!!!!\n",
      "Round 115 Begins!!!!!\n",
      "WE ARE AT WAR!!!!!\n",
      "Round 116 Begins!!!!!\n",
      "Round 117 Begins!!!!!\n",
      "Round 118 Begins!!!!!\n",
      "Round 119 Begins!!!!!\n",
      "Round 120 Begins!!!!!\n",
      "Round 121 Begins!!!!!\n",
      "Round 122 Begins!!!!!\n",
      "WE ARE AT WAR!!!!!\n",
      "Round 123 Begins!!!!!\n",
      "Round 124 Begins!!!!!\n",
      "Round 125 Begins!!!!!\n",
      "Round 126 Begins!!!!!\n",
      "Round 127 Begins!!!!!\n",
      "Round 128 Begins!!!!!\n",
      "WE ARE AT WAR!!!!!\n",
      "Round 129 Begins!!!!!\n",
      "Round 130 Begins!!!!!\n",
      "Round 131 Begins!!!!!\n",
      "Round 132 Begins!!!!!\n",
      "Round 133 Begins!!!!!\n",
      "Round 134 Begins!!!!!\n",
      "WE ARE AT WAR!!!!!\n",
      "Round 135 Begins!!!!!\n",
      "Round 136 Begins!!!!!\n",
      "Round 137 Begins!!!!!\n",
      "Round 138 Begins!!!!!\n",
      "Round 139 Begins!!!!!\n",
      "Round 140 Begins!!!!!\n",
      "Round 141 Begins!!!!!\n",
      "Round 142 Begins!!!!!\n",
      "Round 143 Begins!!!!!\n",
      "Round 144 Begins!!!!!\n",
      "Round 145 Begins!!!!!\n",
      "Round 146 Begins!!!!!\n",
      "Round 147 Begins!!!!!\n",
      "Round 148 Begins!!!!!\n",
      "Round 149 Begins!!!!!\n",
      "Round 150 Begins!!!!!\n",
      "Round 151 Begins!!!!!\n",
      "Round 152 Begins!!!!!\n",
      "Round 153 Begins!!!!!\n",
      "WE ARE AT WAR!!!!!\n",
      "Round 154 Begins!!!!!\n",
      "Round 155 Begins!!!!!\n",
      "Round 156 Begins!!!!!\n",
      "Round 157 Begins!!!!!\n",
      "Round 158 Begins!!!!!\n",
      "Round 159 Begins!!!!!\n",
      "Round 160 Begins!!!!!\n",
      "Round 161 Begins!!!!!\n",
      "Round 162 Begins!!!!!\n",
      "Round 163 Begins!!!!!\n",
      "Round 164 Begins!!!!!\n",
      "Round 165 Begins!!!!!\n",
      "Round 166 Begins!!!!!\n",
      "Round 167 Begins!!!!!\n",
      "Round 168 Begins!!!!!\n",
      "Round 169 Begins!!!!!\n",
      "Round 170 Begins!!!!!\n",
      "Round 171 Begins!!!!!\n",
      "Round 172 Begins!!!!!\n",
      "Round 173 Begins!!!!!\n",
      "Round 174 Begins!!!!!\n",
      "Round 175 Begins!!!!!\n",
      "Round 176 Begins!!!!!\n",
      "Round 177 Begins!!!!!\n",
      "Round 178 Begins!!!!!\n",
      "Round 179 Begins!!!!!\n",
      "Round 180 Begins!!!!!\n",
      "Round 181 Begins!!!!!\n",
      "Round 182 Begins!!!!!\n",
      "Round 183 Begins!!!!!\n",
      "Round 184 Begins!!!!!\n",
      "Round 185 Begins!!!!!\n",
      "Round 186 Begins!!!!!\n",
      "Round 187 Begins!!!!!\n",
      "Round 188 Begins!!!!!\n",
      "Round 189 Begins!!!!!\n",
      "Round 190 Begins!!!!!\n",
      "Round 191 Begins!!!!!\n",
      "Round 192 Begins!!!!!\n",
      "Round 193 Begins!!!!!\n",
      "Round 194 Begins!!!!!\n",
      "Round 195 Begins!!!!!\n",
      "Round 196 Begins!!!!!\n",
      "Round 197 Begins!!!!!\n",
      "Round 198 Begins!!!!!\n",
      "Round 199 Begins!!!!!\n",
      "Round 200 Begins!!!!!\n",
      "Round 201 Begins!!!!!\n",
      "Round 202 Begins!!!!!\n",
      "Round 203 Begins!!!!!\n",
      "Round 204 Begins!!!!!\n",
      "Round 205 Begins!!!!!\n",
      "Round 206 Begins!!!!!\n",
      "Round 207 Begins!!!!!\n",
      "Round 208 Begins!!!!!\n",
      "Round 209 Begins!!!!!\n",
      "Round 210 Begins!!!!!\n",
      "Round 211 Begins!!!!!\n",
      "Round 212 Begins!!!!!\n",
      "Round 213 Begins!!!!!\n",
      "Round 214 Begins!!!!!\n",
      "Round 215 Begins!!!!!\n",
      "Round 216 Begins!!!!!\n",
      "Round 217 Begins!!!!!\n",
      "Round 218 Begins!!!!!\n",
      "Round 219 Begins!!!!!\n",
      "Round 220 Begins!!!!!\n",
      "Round 221 Begins!!!!!\n",
      "Round 222 Begins!!!!!\n",
      "Round 223 Begins!!!!!\n",
      "Round 224 Begins!!!!!\n",
      "Round 225 Begins!!!!!\n",
      "Round 226 Begins!!!!!\n",
      "Round 227 Begins!!!!!\n",
      "Round 228 Begins!!!!!\n",
      "Round 229 Begins!!!!!\n",
      "Round 230 Begins!!!!!\n",
      "Round 231 Begins!!!!!\n",
      "Round 232 Begins!!!!!\n",
      "Round 233 Begins!!!!!\n",
      "Round 234 Begins!!!!!\n",
      "Round 235 Begins!!!!!\n",
      "Round 236 Begins!!!!!\n",
      "Round 237 Begins!!!!!\n",
      "Round 238 Begins!!!!!\n",
      "Round 239 Begins!!!!!\n",
      "Round 240 Begins!!!!!\n",
      "Round 241 Begins!!!!!\n",
      "Round 242 Begins!!!!!\n",
      "Round 243 Begins!!!!!\n",
      "Round 244 Begins!!!!!\n",
      "Round 245 Begins!!!!!\n",
      "Round 246 Begins!!!!!\n",
      "Round 247 Begins!!!!!\n",
      "Round 248 Begins!!!!!\n",
      "Round 249 Begins!!!!!\n",
      "Round 250 Begins!!!!!\n",
      "Round 251 Begins!!!!!\n",
      "WE ARE AT WAR!!!!!\n",
      "Round 252 Begins!!!!!\n",
      "Round 253 Begins!!!!!\n",
      "Round 254 Begins!!!!!\n",
      "Round 255 Begins!!!!!\n",
      "Round 256 Begins!!!!!\n",
      "Round 257 Begins!!!!!\n",
      "Round 258 Begins!!!!!\n",
      "Round 259 Begins!!!!!\n",
      "Round 260 Begins!!!!!\n",
      "Round 261 Begins!!!!!\n",
      "Round 262 Begins!!!!!\n",
      "Round 263 Begins!!!!!\n",
      "Round 264 Begins!!!!!\n",
      "Round 265 Begins!!!!!\n",
      "Round 266 Begins!!!!!\n",
      "Round 267 Begins!!!!!\n",
      "Round 268 Begins!!!!!\n",
      "Round 269 Begins!!!!!\n",
      "Round 270 Begins!!!!!\n",
      "Round 271 Begins!!!!!\n",
      "Round 272 Begins!!!!!\n",
      "Round 273 Begins!!!!!\n",
      "Round 274 Begins!!!!!\n",
      "Round 275 Begins!!!!!\n",
      "Round 276 Begins!!!!!\n",
      "Round 277 Begins!!!!!\n",
      "Round 278 Begins!!!!!\n",
      "Round 279 Begins!!!!!\n",
      "Round 280 Begins!!!!!\n",
      "Round 281 Begins!!!!!\n",
      "Round 282 Begins!!!!!\n",
      "Round 283 Begins!!!!!\n",
      "Round 284 Begins!!!!!\n",
      "Round 285 Begins!!!!!\n",
      "Round 286 Begins!!!!!\n",
      "Round 287 Begins!!!!!\n",
      "Round 288 Begins!!!!!\n",
      "Round 289 Begins!!!!!\n",
      "Round 290 Begins!!!!!\n",
      "Round 291 Begins!!!!!\n",
      "Round 292 Begins!!!!!\n",
      "Round 293 Begins!!!!!\n",
      "Round 294 Begins!!!!!\n",
      "Round 295 Begins!!!!!\n",
      "Round 296 Begins!!!!!\n",
      "Round 297 Begins!!!!!\n",
      "Round 298 Begins!!!!!\n",
      "Round 299 Begins!!!!!\n",
      "Round 300 Begins!!!!!\n",
      "Round 301 Begins!!!!!\n",
      "Round 302 Begins!!!!!\n",
      "Round 303 Begins!!!!!\n",
      "Round 304 Begins!!!!!\n",
      "Round 305 Begins!!!!!\n",
      "Round 306 Begins!!!!!\n",
      "Round 307 Begins!!!!!\n",
      "Round 308 Begins!!!!!\n",
      "Round 309 Begins!!!!!\n",
      "Round 310 Begins!!!!!\n",
      "Round 311 Begins!!!!!\n",
      "Round 312 Begins!!!!!\n",
      "Round 313 Begins!!!!!\n",
      "Round 314 Begins!!!!!\n",
      "Round 315 Begins!!!!!\n",
      "Round 316 Begins!!!!!\n",
      "Round 317 Begins!!!!!\n",
      "Round 318 Begins!!!!!\n",
      "Round 319 Begins!!!!!\n",
      "Round 320 Begins!!!!!\n",
      "Round 321 Begins!!!!!\n",
      "Round 322 Begins!!!!!\n",
      "Round 323 Begins!!!!!\n",
      "Round 324 Begins!!!!!\n",
      "Round 325 Begins!!!!!\n",
      "Round 326 Begins!!!!!\n",
      "Round 327 Begins!!!!!\n",
      "Round 328 Begins!!!!!\n",
      "Round 329 Begins!!!!!\n",
      "Round 330 Begins!!!!!\n",
      "Round 331 Begins!!!!!\n",
      "Round 332 Begins!!!!!\n",
      "Round 333 Begins!!!!!\n",
      "Round 334 Begins!!!!!\n",
      "Round 335 Begins!!!!!\n",
      "Round 336 Begins!!!!!\n",
      "Round 337 Begins!!!!!\n",
      "Round 338 Begins!!!!!\n",
      "Round 339 Begins!!!!!\n",
      "Round 340 Begins!!!!!\n",
      "Round 341 Begins!!!!!\n",
      "Round 342 Begins!!!!!\n",
      "Round 343 Begins!!!!!\n",
      "Round 344 Begins!!!!!\n",
      "Round 345 Begins!!!!!\n",
      "Round 346 Begins!!!!!\n",
      "Round 347 Begins!!!!!\n",
      "Round 348 Begins!!!!!\n",
      "Round 349 Begins!!!!!\n",
      "Round 350 Begins!!!!!\n",
      "Round 351 Begins!!!!!\n",
      "Round 352 Begins!!!!!\n",
      "Round 353 Begins!!!!!\n",
      "Round 354 Begins!!!!!\n",
      "Round 355 Begins!!!!!\n",
      "Round 356 Begins!!!!!\n",
      "Round 357 Begins!!!!!\n",
      "Round 358 Begins!!!!!\n",
      "Round 359 Begins!!!!!\n",
      "Round 360 Begins!!!!!\n",
      "Round 361 Begins!!!!!\n",
      "Round 362 Begins!!!!!\n",
      "Round 363 Begins!!!!!\n",
      "Round 364 Begins!!!!!\n",
      "Round 365 Begins!!!!!\n",
      "Round 366 Begins!!!!!\n",
      "Round 367 Begins!!!!!\n",
      "Round 368 Begins!!!!!\n",
      "Round 369 Begins!!!!!\n",
      "Round 370 Begins!!!!!\n",
      "Round 371 Begins!!!!!\n",
      "Round 372 Begins!!!!!\n",
      "Round 373 Begins!!!!!\n",
      "Round 374 Begins!!!!!\n",
      "Round 375 Begins!!!!!\n",
      "Round 376 Begins!!!!!\n",
      "Round 377 Begins!!!!!\n",
      "Round 378 Begins!!!!!\n",
      "Round 379 Begins!!!!!\n",
      "Round 380 Begins!!!!!\n",
      "Round 381 Begins!!!!!\n",
      "Round 382 Begins!!!!!\n",
      "Round 383 Begins!!!!!\n",
      "Round 384 Begins!!!!!\n",
      "Round 385 Begins!!!!!\n",
      "Round 386 Begins!!!!!\n",
      "Round 387 Begins!!!!!\n",
      "Round 388 Begins!!!!!\n",
      "Round 389 Begins!!!!!\n",
      "Round 390 Begins!!!!!\n",
      "Round 391 Begins!!!!!\n",
      "Round 392 Begins!!!!!\n",
      "Round 393 Begins!!!!!\n",
      "Round 394 Begins!!!!!\n",
      "Round 395 Begins!!!!!\n",
      "Round 396 Begins!!!!!\n",
      "Round 397 Begins!!!!!\n",
      "Round 398 Begins!!!!!\n",
      "Round 399 Begins!!!!!\n",
      "Round 400 Begins!!!!!\n",
      "Round 401 Begins!!!!!\n",
      "Round 402 Begins!!!!!\n",
      "Round 403 Begins!!!!!\n",
      "Round 404 Begins!!!!!\n",
      "Round 405 Begins!!!!!\n",
      "Round 406 Begins!!!!!\n",
      "Round 407 Begins!!!!!\n",
      "Round 408 Begins!!!!!\n",
      "Round 409 Begins!!!!!\n",
      "Round 410 Begins!!!!!\n",
      "Round 411 Begins!!!!!\n",
      "Round 412 Begins!!!!!\n",
      "Round 413 Begins!!!!!\n",
      "Round 414 Begins!!!!!\n",
      "Round 415 Begins!!!!!\n",
      "Round 416 Begins!!!!!\n",
      "Round 417 Begins!!!!!\n",
      "Round 418 Begins!!!!!\n",
      "Round 419 Begins!!!!!\n",
      "Round 420 Begins!!!!!\n",
      "Round 421 Begins!!!!!\n",
      "Round 422 Begins!!!!!\n",
      "Round 423 Begins!!!!!\n",
      "Round 424 Begins!!!!!\n",
      "WE ARE AT WAR!!!!!\n",
      "Round 425 Begins!!!!!\n",
      "Round 426 Begins!!!!!\n",
      "Round 427 Begins!!!!!\n",
      "Round 428 Begins!!!!!\n",
      "Round 429 Begins!!!!!\n",
      "Round 430 Begins!!!!!\n",
      "Round 431 Begins!!!!!\n",
      "Round 432 Begins!!!!!\n",
      "Round 433 Begins!!!!!\n",
      "Round 434 Begins!!!!!\n",
      "Round 435 Begins!!!!!\n",
      "Round 436 Begins!!!!!\n",
      "Round 437 Begins!!!!!\n",
      "Round 438 Begins!!!!!\n",
      "Round 439 Begins!!!!!\n",
      "Round 440 Begins!!!!!\n",
      "Round 441 Begins!!!!!\n",
      "Round 442 Begins!!!!!\n",
      "Round 443 Begins!!!!!\n",
      "Round 444 Begins!!!!!\n",
      "WE ARE AT WAR!!!!!\n",
      "Round 445 Begins!!!!!\n",
      "Round 446 Begins!!!!!\n",
      "Round 447 Begins!!!!!\n",
      "Round 448 Begins!!!!!\n",
      "Round 449 Begins!!!!!\n",
      "Round 450 Begins!!!!!\n",
      "Round 451 Begins!!!!!\n",
      "Round 452 Begins!!!!!\n",
      "Round 453 Begins!!!!!\n",
      "Round 454 Begins!!!!!\n",
      "Round 455 Begins!!!!!\n",
      "Round 456 Begins!!!!!\n",
      "Round 457 Begins!!!!!\n",
      "Round 458 Begins!!!!!\n",
      "Round 459 Begins!!!!!\n",
      "Round 460 Begins!!!!!\n",
      "Round 461 Begins!!!!!\n",
      "Round 462 Begins!!!!!\n",
      "Round 463 Begins!!!!!\n",
      "Round 464 Begins!!!!!\n",
      "Round 465 Begins!!!!!\n",
      "WE ARE AT WAR!!!!!\n",
      "Round 466 Begins!!!!!\n",
      "Round 467 Begins!!!!!\n",
      "Round 468 Begins!!!!!\n",
      "Round 469 Begins!!!!!\n",
      "Round 470 Begins!!!!!\n",
      "Round 471 Begins!!!!!\n",
      "Round 472 Begins!!!!!\n",
      "Round 473 Begins!!!!!\n",
      "Round 474 Begins!!!!!\n",
      "Round 475 Begins!!!!!\n",
      "Round 476 Begins!!!!!\n",
      "Round 477 Begins!!!!!\n",
      "Round 478 Begins!!!!!\n",
      "Round 479 Begins!!!!!\n",
      "Round 480 Begins!!!!!\n",
      "Round 481 Begins!!!!!\n",
      "Round 482 Begins!!!!!\n",
      "Round 483 Begins!!!!!\n",
      "Round 484 Begins!!!!!\n",
      "Round 485 Begins!!!!!\n",
      "Round 486 Begins!!!!!\n",
      "Round 487 Begins!!!!!\n",
      "Round 488 Begins!!!!!\n",
      "Round 489 Begins!!!!!\n",
      "Round 490 Begins!!!!!\n",
      "WE ARE AT WAR!!!!!\n",
      "Round 491 Begins!!!!!\n",
      "Round 492 Begins!!!!!\n",
      "Round 493 Begins!!!!!\n",
      "Round 494 Begins!!!!!\n",
      "Round 495 Begins!!!!!\n",
      "Round 496 Begins!!!!!\n",
      "Round 497 Begins!!!!!\n",
      "Round 498 Begins!!!!!\n",
      "Round 499 Begins!!!!!\n",
      "Round 500 Begins!!!!!\n",
      "Round 501 Begins!!!!!\n",
      "Round 502 Begins!!!!!\n",
      "Round 503 Begins!!!!!\n",
      "Round 504 Begins!!!!!\n",
      "Round 505 Begins!!!!!\n",
      "Round 506 Begins!!!!!\n",
      "Round 507 Begins!!!!!\n",
      "Round 508 Begins!!!!!\n",
      "Round 509 Begins!!!!!\n",
      "Round 510 Begins!!!!!\n",
      "Round 511 Begins!!!!!\n",
      "Round 512 Begins!!!!!\n",
      "Round 513 Begins!!!!!\n",
      "Round 514 Begins!!!!!\n",
      "Round 515 Begins!!!!!\n",
      "Round 516 Begins!!!!!\n",
      "Round 517 Begins!!!!!\n",
      "Round 518 Begins!!!!!\n",
      "WE ARE AT WAR!!!!!\n",
      "Round 519 Begins!!!!!\n",
      "Round 520 Begins!!!!!\n",
      "Round 521 Begins!!!!!\n",
      "Round 522 Begins!!!!!\n",
      "Round 523 Begins!!!!!\n",
      "Round 524 Begins!!!!!\n",
      "Round 525 Begins!!!!!\n",
      "Round 526 Begins!!!!!\n",
      "Round 527 Begins!!!!!\n",
      "Round 528 Begins!!!!!\n",
      "Round 529 Begins!!!!!\n",
      "Round 530 Begins!!!!!\n",
      "Round 531 Begins!!!!!\n",
      "Round 532 Begins!!!!!\n",
      "WE ARE AT WAR!!!!!\n",
      "Round 533 Begins!!!!!\n",
      "Round 534 Begins!!!!!\n",
      "Round 535 Begins!!!!!\n",
      "Round 536 Begins!!!!!\n",
      "Round 537 Begins!!!!!\n",
      "Round 538 Begins!!!!!\n",
      "Round 539 Begins!!!!!\n",
      "Round 540 Begins!!!!!\n",
      "Round 541 Begins!!!!!\n",
      "Round 542 Begins!!!!!\n",
      "Round 543 Begins!!!!!\n",
      "Round 544 Begins!!!!!\n",
      "Round 545 Begins!!!!!\n",
      "Round 546 Begins!!!!!\n",
      "Round 547 Begins!!!!!\n",
      "Round 548 Begins!!!!!\n",
      "Round 549 Begins!!!!!\n",
      "Round 550 Begins!!!!!\n",
      "Round 551 Begins!!!!!\n",
      "Round 552 Begins!!!!!\n",
      "WE ARE AT WAR!!!!!\n",
      "Player Govind GS unable to declare war \n",
      "PLAYER JOSE WINS!!!!!\n"
     ]
    }
   ],
   "source": [
    "round_num = 0\n",
    "\n",
    "while game_on:\n",
    "    \n",
    "    \n",
    "    round_num += 1\n",
    "    print(f'Round {round_num} Begins!!!!!')\n",
    "    \n",
    "    if len(player_one.all_cards_list) ==0:\n",
    "        print(f'Player {player_one.name}, Out of card!!\\n')\n",
    "        print(f'Congrats!,Player {player_two.name} Has won the game...!')\n",
    "        game_on = False\n",
    "        break\n",
    "        \n",
    "    if len(player_two.all_cards_list) ==0:\n",
    "        print(f'Player {player_two.name}, Out of card!!\\n')\n",
    "        print(f'Congrats!,Player {player_one.name} Has won the game...!')\n",
    "        game_on = False\n",
    "        break\n",
    "        \n",
    "    player_one_cards=[]\n",
    "    player_one_cards.append(player_one.player_took1())\n",
    "    \n",
    "    player_two_cards=[]\n",
    "    player_two_cards.append(player_two.player_took1())\n",
    "    \n",
    "    \n",
    "    at_war = True\n",
    "    \n",
    "    while at_war:\n",
    "        \n",
    "        if player_one_cards[-1].value > player_two_cards[-1].value:\n",
    "            \n",
    "            player_one.add_playercards(player_one_cards)\n",
    "            player_one.add_playercards(player_two_cards)\n",
    "            at_war =False\n",
    "        \n",
    "        elif player_one_cards[-1].value < player_two_cards[-1].value:\n",
    "            \n",
    "            player_two.add_playercards(player_one_cards)\n",
    "            player_two.add_playercards(player_two_cards)\n",
    "            at_war =False\n",
    "        \n",
    "        else:\n",
    "            \n",
    "            print(\"WE ARE AT WAR!!!!!\")\n",
    "            \n",
    "            if len(player_one.all_cards_list) < 5:\n",
    "                print(f\"Player {player_one.name} unable to declare war \")\n",
    "                print(f\"PLAYER {player_two.name} WINS!!!!!\")\n",
    "                game_on=False\n",
    "                break\n",
    "            \n",
    "            elif len(player_two.all_cards_list) < 5:\n",
    "                print(f\"Player {player_two.name} unable to declare war \")\n",
    "                print(f\"PLAYER {player_one.name} WINS!!!!!\")\n",
    "                game_on=False\n",
    "                break\n",
    "            \n",
    "            else:\n",
    "                for num in range(5):\n",
    "                    \n",
    "                    \n",
    "                    player_one_cards.append(player_one.player_took1())\n",
    "                    player_two_cards.append(player_two.player_took1())\n",
    "            "
   ]
  },
  {
   "cell_type": "code",
   "execution_count": 1,
   "metadata": {},
   "outputs": [],
   "source": [
    "import random\n",
    "\n",
    "suits = ('Hearts', 'Diamonds', 'Spades', 'Clubs')\n",
    "ranks = ('Two', 'Three', 'Four', 'Five', 'Six', 'Seven', 'Eight', 'Nine', 'Ten', 'Jack', 'Queen', 'King', 'Ace')\n",
    "values = {'Two':2, 'Three':3, 'Four':4, 'Five':5, 'Six':6, 'Seven':7, 'Eight':8, 'Nine':9, 'Ten':10, 'Jack':10,\n",
    "         'Queen':10, 'King':10, 'Ace':11}\n",
    "\n",
    "playing = True"
   ]
  },
  {
   "cell_type": "code",
   "execution_count": 2,
   "metadata": {},
   "outputs": [],
   "source": [
    "class Card:\n",
    "\n",
    "    def __init__(self,suit,rank):\n",
    "        self.suit = suit\n",
    "        self.rank = rank\n",
    "        \n",
    "    def __str__(self):\n",
    "        return self.rank + ' of ' + self.suit"
   ]
  },
  {
   "cell_type": "code",
   "execution_count": 3,
   "metadata": {},
   "outputs": [],
   "source": [
    "class Deck:\n",
    "    \n",
    "    def __init__(self):\n",
    "        self.deck = []  # start with an empty list\n",
    "        for suit in suits:\n",
    "            for rank in ranks:\n",
    "                self.deck.append(Card(suit,rank))  # build Card objects and add them to the list\n",
    "    \n",
    "    def __str__(self):\n",
    "        deck_comp = ''  # start with an empty string\n",
    "        for card in self.deck:\n",
    "            deck_comp += '\\n '+card.__str__() # add each Card object's print string\n",
    "        return 'The deck has:' + deck_comp\n",
    "\n",
    "    def shuffle(self):\n",
    "        random.shuffle(self.deck)\n",
    "        \n",
    "    def deal(self):\n",
    "        single_card = self.deck.pop()\n",
    "        return single_card"
   ]
  },
  {
   "cell_type": "code",
   "execution_count": 4,
   "metadata": {},
   "outputs": [],
   "source": [
    "class Hand:\n",
    "    \n",
    "    def __init__(self):\n",
    "        self.cards = []  # start with an empty list as we did in the Deck class\n",
    "        self.value = 0   # start with zero value\n",
    "        self.aces = 0    # add an attribute to keep track of aces\n",
    "    \n",
    "    def add_card(self,card):\n",
    "        self.cards.append(card)\n",
    "        self.value += values[card.rank]\n",
    "        if card.rank == 'Ace':\n",
    "            self.aces += 1  # add to self.aces\n",
    "    \n",
    "    def adjust_for_ace(self):\n",
    "        while self.value > 21 and self.aces:\n",
    "            self.value -= 10\n",
    "            self.aces -= 1 "
   ]
  },
  {
   "cell_type": "code",
   "execution_count": 5,
   "metadata": {},
   "outputs": [],
   "source": [
    "class Chips:\n",
    "    \n",
    "    def __init__(self):\n",
    "        self.total = 100  ### This can be set to a default value or supplied by a user input\n",
    "        self.bet = 0\n",
    "        \n",
    "    def win_bet(self):\n",
    "        self.total += self.bet\n",
    "    \n",
    "    def lose_bet(self):\n",
    "        self.total -= self.bet"
   ]
  },
  {
   "cell_type": "code",
   "execution_count": 6,
   "metadata": {},
   "outputs": [],
   "source": [
    "c=Chips()"
   ]
  },
  {
   "cell_type": "code",
   "execution_count": 7,
   "metadata": {},
   "outputs": [
    {
     "ename": "SyntaxError",
     "evalue": "invalid syntax (<ipython-input-7-cf463a5954f9>, line 1)",
     "output_type": "error",
     "traceback": [
      "\u001b[1;36m  File \u001b[1;32m\"<ipython-input-7-cf463a5954f9>\"\u001b[1;36m, line \u001b[1;32m1\u001b[0m\n\u001b[1;33m    c.\u001b[0m\n\u001b[1;37m      ^\u001b[0m\n\u001b[1;31mSyntaxError\u001b[0m\u001b[1;31m:\u001b[0m invalid syntax\n"
     ]
    }
   ],
   "source": [
    "c."
   ]
  },
  {
   "cell_type": "code",
   "execution_count": 8,
   "metadata": {},
   "outputs": [],
   "source": [
    "def take_bet(chips):\n",
    "    \n",
    "    while True:\n",
    "        try:\n",
    "            chips.bet = int(input('How many chips would you like to bet? '))\n",
    "        except ValueError:\n",
    "            print('Sorry, a bet must be an integer!')\n",
    "        else:\n",
    "            if chips.bet > chips.total:\n",
    "                print(\"Sorry, your bet can't exceed\",chips.total)\n",
    "            else:\n",
    "                break"
   ]
  },
  {
   "cell_type": "code",
   "execution_count": 9,
   "metadata": {},
   "outputs": [],
   "source": [
    "def hit(deck,hand):\n",
    "    \n",
    "    hand.add_card(deck.deal())\n",
    "    hand.adjust_for_ace()"
   ]
  },
  {
   "cell_type": "code",
   "execution_count": 10,
   "metadata": {},
   "outputs": [],
   "source": [
    "def hit_or_stand(deck,hand):\n",
    "    global playing  # to control an upcoming while loop\n",
    "    \n",
    "    while True:\n",
    "        x = input(\"Would you like to Hit or Stand? Enter 'h' or 's' \")\n",
    "        \n",
    "        if x[0].lower() == 'h':\n",
    "            hit(deck,hand)  # hit() function defined above\n",
    "\n",
    "        elif x[0].lower() == 's':\n",
    "            print(\"Player stands. Dealer is playing.\")\n",
    "            playing = False\n",
    "\n",
    "        else:\n",
    "            print(\"Sorry, please try again.\")\n",
    "            continue\n",
    "        break"
   ]
  },
  {
   "cell_type": "code",
   "execution_count": 11,
   "metadata": {},
   "outputs": [],
   "source": [
    "def show_some(player,dealer):\n",
    "    print(\"\\nDealer's Hand:\")\n",
    "    print(\" <card hidden>\")\n",
    "    print('',dealer.cards[1])  \n",
    "    print(\"\\nPlayer's Hand:\", *player.cards, sep='\\n ')\n",
    "    \n",
    "def show_all(player,dealer):\n",
    "    print(\"\\nDealer's Hand:\", *dealer.cards, sep='\\n ')\n",
    "    print(\"Dealer's Hand =\",dealer.value)\n",
    "    print(\"\\nPlayer's Hand:\", *player.cards, sep='\\n ')\n",
    "    print(\"Player's Hand =\",player.value)"
   ]
  },
  {
   "cell_type": "code",
   "execution_count": 12,
   "metadata": {},
   "outputs": [],
   "source": [
    "def player_busts(player,dealer,chips):\n",
    "    print(\"Player busts!\")\n",
    "    chips.lose_bet()\n",
    "\n",
    "def player_wins(player,dealer,chips):\n",
    "    print(\"Player wins!\")\n",
    "    chips.win_bet()\n",
    "\n",
    "def dealer_busts(player,dealer,chips):\n",
    "    print(\"Dealer busts!\")\n",
    "    chips.win_bet()\n",
    "    \n",
    "def dealer_wins(player,dealer,chips):\n",
    "    print(\"Dealer wins!\")\n",
    "    chips.lose_bet()\n",
    "    \n",
    "def push(player,dealer):\n",
    "    print(\"Dealer and Player tie! It's a push.\")"
   ]
  },
  {
   "cell_type": "code",
   "execution_count": 13,
   "metadata": {},
   "outputs": [
    {
     "name": "stdout",
     "output_type": "stream",
     "text": [
      "Welcome to BlackJack! Get as close to 21 as you can without going over!\n",
      "    Dealer hits until she reaches 17. Aces count as 1 or 11.\n",
      "How many chips would you like to bet? 60\n",
      "\n",
      "Dealer's Hand:\n",
      " <card hidden>\n",
      " Four of Spades\n",
      "\n",
      "Player's Hand:\n",
      " Ace of Diamonds\n",
      " Five of Hearts\n",
      "Would you like to Hit or Stand? Enter 'h' or 's' h\n",
      "\n",
      "Dealer's Hand:\n",
      " <card hidden>\n",
      " Four of Spades\n",
      "\n",
      "Player's Hand:\n",
      " Ace of Diamonds\n",
      " Five of Hearts\n",
      " Ten of Clubs\n",
      "Would you like to Hit or Stand? Enter 'h' or 's' h\n",
      "\n",
      "Dealer's Hand:\n",
      " <card hidden>\n",
      " Four of Spades\n",
      "\n",
      "Player's Hand:\n",
      " Ace of Diamonds\n",
      " Five of Hearts\n",
      " Ten of Clubs\n",
      " Three of Clubs\n",
      "Would you like to Hit or Stand? Enter 'h' or 's' s\n",
      "Player stands. Dealer is playing.\n",
      "\n",
      "Dealer's Hand:\n",
      " <card hidden>\n",
      " Four of Spades\n",
      "\n",
      "Player's Hand:\n",
      " Ace of Diamonds\n",
      " Five of Hearts\n",
      " Ten of Clubs\n",
      " Three of Clubs\n",
      "\n",
      "Dealer's Hand:\n",
      " Eight of Clubs\n",
      " Four of Spades\n",
      " Four of Hearts\n",
      " Five of Diamonds\n",
      "Dealer's Hand = 21\n",
      "\n",
      "Player's Hand:\n",
      " Ace of Diamonds\n",
      " Five of Hearts\n",
      " Ten of Clubs\n",
      " Three of Clubs\n",
      "Player's Hand = 19\n",
      "Dealer wins!\n",
      "\n",
      "Player's winnings stand at 40\n",
      "Would you like to play another hand? Enter 'y' or 'n' n\n",
      "Thanks for playing!\n"
     ]
    }
   ],
   "source": [
    "while True:\n",
    "    # Print an opening statement\n",
    "    print('Welcome to BlackJack! Get as close to 21 as you can without going over!\\n\\\n",
    "    Dealer hits until she reaches 17. Aces count as 1 or 11.')\n",
    "    \n",
    "    # Create & shuffle the deck, deal two cards to each player\n",
    "    deck = Deck()\n",
    "    deck.shuffle()\n",
    "    \n",
    "    player_hand = Hand()\n",
    "    player_hand.add_card(deck.deal())\n",
    "    player_hand.add_card(deck.deal())\n",
    "    \n",
    "    dealer_hand = Hand()\n",
    "    dealer_hand.add_card(deck.deal())\n",
    "    dealer_hand.add_card(deck.deal())\n",
    "            \n",
    "    # Set up the Player's chips\n",
    "    player_chips = Chips()  # remember the default value is 100    \n",
    "    \n",
    "    # Prompt the Player for their bet\n",
    "    take_bet(player_chips)\n",
    "    \n",
    "    # Show cards (but keep one dealer card hidden)\n",
    "    show_some(player_hand,dealer_hand)\n",
    "    \n",
    "    while playing:  # recall this variable from our hit_or_stand function\n",
    "        \n",
    "        # Prompt for Player to Hit or Stand\n",
    "        hit_or_stand(deck,player_hand) \n",
    "        \n",
    "        # Show cards (but keep one dealer card hidden)\n",
    "        show_some(player_hand,dealer_hand)  \n",
    "        \n",
    "        # If player's hand exceeds 21, run player_busts() and break out of loop\n",
    "        if player_hand.value > 21:\n",
    "            player_busts(player_hand,dealer_hand,player_chips)\n",
    "            break        \n",
    "\n",
    "\n",
    "    # If Player hasn't busted, play Dealer's hand until Dealer reaches 17 \n",
    "    if player_hand.value <= 21:\n",
    "        \n",
    "        while dealer_hand.value < 17:\n",
    "            hit(deck,dealer_hand)    \n",
    "    \n",
    "        # Show all cards\n",
    "        show_all(player_hand,dealer_hand)\n",
    "        \n",
    "        # Run different winning scenarios\n",
    "        if dealer_hand.value > 21:\n",
    "            dealer_busts(player_hand,dealer_hand,player_chips)\n",
    "\n",
    "        elif dealer_hand.value > player_hand.value:\n",
    "            dealer_wins(player_hand,dealer_hand,player_chips)\n",
    "\n",
    "        elif dealer_hand.value < player_hand.value:\n",
    "            player_wins(player_hand,dealer_hand,player_chips)\n",
    "\n",
    "        else:\n",
    "            push(player_hand,dealer_hand)        \n",
    "    \n",
    "    # Inform Player of their chips total \n",
    "    print(\"\\nPlayer's winnings stand at\",player_chips.total)\n",
    "    \n",
    "    # Ask to play again\n",
    "    new_game = input(\"Would you like to play another hand? Enter 'y' or 'n' \")\n",
    "    \n",
    "    if new_game[0].lower()=='y':\n",
    "        playing=True\n",
    "        continue\n",
    "    else:\n",
    "        print(\"Thanks for playing!\")\n",
    "        break"
   ]
  },
  {
   "cell_type": "code",
   "execution_count": null,
   "metadata": {},
   "outputs": [],
   "source": []
  }
 ],
 "metadata": {
  "kernelspec": {
   "display_name": "Python 3",
   "language": "python",
   "name": "python3"
  },
  "language_info": {
   "codemirror_mode": {
    "name": "ipython",
    "version": 3
   },
   "file_extension": ".py",
   "mimetype": "text/x-python",
   "name": "python",
   "nbconvert_exporter": "python",
   "pygments_lexer": "ipython3",
   "version": "3.7.6"
  }
 },
 "nbformat": 4,
 "nbformat_minor": 4
}
