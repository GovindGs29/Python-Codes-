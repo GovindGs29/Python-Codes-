{
 "cells": [
  {
   "cell_type": "code",
   "execution_count": 1,
   "metadata": {},
   "outputs": [],
   "source": [
    "def Banking_menu():\n",
    "    #Account details.name == name ---> Balance(amount),Options for Banking\n",
    "    print(\"\"\"\\n THIS IS THE MAIN PAGE OF THE SIMPLE BANK PROGRAM \\n\n",
    "    PLease Choose any option that Listed below :\\n\n",
    "    _______________________________________________\n",
    "    \n",
    "    1.Balance Check\n",
    "    2.Withdraw\n",
    "    3.Deposit\n",
    "    4.Transfer\n",
    "    ________________________________________________\n",
    "    \"\"\")\n",
    "    choice = True\n",
    "    while choice:\n",
    "        try:\n",
    "            option = int(input(\"Pick a Choice! 1-4 :\"))\n",
    "        except ValueError:\n",
    "            print(\"Please enter a valid digit!!\")\n",
    "        else:\n",
    "            if option not in range(1,5):\n",
    "                print('Enter a valid number !') \n",
    "            else:\n",
    "                print('Choice Accepted.. Loading..!')\n",
    "                Choice_1 = Choice_affect(option)\n",
    "                "
   ]
  },
  {
   "cell_type": "code",
   "execution_count": 2,
   "metadata": {},
   "outputs": [],
   "source": [
    "def Choice_affect(option_value):\n",
    "    if option_value == 1:\n",
    "        print('Dear ---> 0 balance in your account ')\n",
    "        \n",
    "    elif option_value == 2:\n",
    "        print(\"you can withdraw your amount\")\n",
    "    elif option_value == 3:\n",
    "        print('You can deposit')\n",
    "    else:\n",
    "        print('Welcome to transfer screen')\n",
    "    "
   ]
  },
  {
   "cell_type": "code",
   "execution_count": 29,
   "metadata": {},
   "outputs": [
    {
     "name": "stdout",
     "output_type": "stream",
     "text": [
      "Enter Name user 1: Govind\n"
     ]
    }
   ],
   "source": [
    "username_1 = input(\"Enter Name user 1: \")"
   ]
  },
  {
   "cell_type": "code",
   "execution_count": 30,
   "metadata": {},
   "outputs": [
    {
     "name": "stdout",
     "output_type": "stream",
     "text": [
      "Enter Name user 3: Saro\n"
     ]
    }
   ],
   "source": [
    "username_3 = input(\"Enter Name user 3: \")"
   ]
  },
  {
   "cell_type": "code",
   "execution_count": 31,
   "metadata": {},
   "outputs": [
    {
     "name": "stdout",
     "output_type": "stream",
     "text": [
      "Enter Name user 2: Roshu\n"
     ]
    }
   ],
   "source": [
    "username_2 = input(\"Enter Name user 2: \")"
   ]
  },
  {
   "cell_type": "code",
   "execution_count": 32,
   "metadata": {},
   "outputs": [
    {
     "name": "stdout",
     "output_type": "stream",
     "text": [
      "Create password u1: 1234\n"
     ]
    }
   ],
   "source": [
    "password_for_user1 = input(\"Create password u1: \")"
   ]
  },
  {
   "cell_type": "code",
   "execution_count": 33,
   "metadata": {},
   "outputs": [
    {
     "name": "stdout",
     "output_type": "stream",
     "text": [
      "Create password u3: 0000\n"
     ]
    }
   ],
   "source": [
    "password_for_user3 = input(\"Create password u3: \")"
   ]
  },
  {
   "cell_type": "code",
   "execution_count": 6,
   "metadata": {},
   "outputs": [
    {
     "name": "stdout",
     "output_type": "stream",
     "text": [
      "Create password u2: 5678\n"
     ]
    }
   ],
   "source": [
    "password_for_user2 = input(\"Create password u2: \")"
   ]
  },
  {
   "cell_type": "code",
   "execution_count": 34,
   "metadata": {},
   "outputs": [
    {
     "name": "stdout",
     "output_type": "stream",
     "text": [
      "488484\n"
     ]
    }
   ],
   "source": [
    "balacne_1 = int(input())"
   ]
  },
  {
   "cell_type": "code",
   "execution_count": 35,
   "metadata": {},
   "outputs": [
    {
     "name": "stdout",
     "output_type": "stream",
     "text": [
      "5454\n"
     ]
    }
   ],
   "source": [
    "balacne_2 = int(input())"
   ]
  },
  {
   "cell_type": "code",
   "execution_count": 36,
   "metadata": {},
   "outputs": [
    {
     "name": "stdout",
     "output_type": "stream",
     "text": [
      "959554\n"
     ]
    }
   ],
   "source": [
    "balacne_3 = int(input())"
   ]
  },
  {
   "cell_type": "code",
   "execution_count": 37,
   "metadata": {},
   "outputs": [],
   "source": [
    "key1 = {'name':username_1, 'passw':password_for_user1,'Bal_amount':balacne_1}\n",
    "key2 = {'name':username_2, 'passw':password_for_user2,'Bal_amount':balacne_2}"
   ]
  },
  {
   "cell_type": "code",
   "execution_count": 38,
   "metadata": {},
   "outputs": [
    {
     "data": {
      "text/plain": [
       "{'name': 'Govind', 'passw': '1234', 'Bal_amount': 488484}"
      ]
     },
     "execution_count": 38,
     "metadata": {},
     "output_type": "execute_result"
    }
   ],
   "source": [
    "key1"
   ]
  },
  {
   "cell_type": "code",
   "execution_count": 39,
   "metadata": {},
   "outputs": [
    {
     "data": {
      "text/plain": [
       "{'name': 'Roshu', 'passw': '5678', 'Bal_amount': 5454}"
      ]
     },
     "execution_count": 39,
     "metadata": {},
     "output_type": "execute_result"
    }
   ],
   "source": [
    "key2"
   ]
  },
  {
   "cell_type": "code",
   "execution_count": 64,
   "metadata": {},
   "outputs": [],
   "source": [
    "def Transfer_full():\n",
    "    u1 = input()\n",
    "    def transfer_1():\n",
    "            T1 = key1['Bal_amount']\n",
    "            print(f'\\n Welcome {u1}')\n",
    "            print(\"\"\"\\nWlcome to transfer Window !\n",
    "            Please, Check the details about the receiver Correctly...\n",
    "            NOTE : Once the process is done it cannot be Changed!!!\n",
    "            \"\"\")\n",
    "            while True:\n",
    "                TUD = input('Enter the Receiver ID : ')\n",
    "                break\n",
    "            return TUD,u1,T1\n",
    "    def transfer_2():\n",
    "            T1 = key2['Bal_amount']\n",
    "            print(f'\\n Welcome {u1}')\n",
    "            print(\"\"\"\\nWlcome to transfer Window !\n",
    "            Please, Check the details about the receiver Correctly...\n",
    "            NOTE : Once the process is done it cannot be Changed!!!\n",
    "            \"\"\")\n",
    "            while True:\n",
    "                TUD = input('Enter the Receiver ID : ')\n",
    "                break\n",
    "            return TUD,u1,T1\n",
    "    def transfer_3():\n",
    "            T1 = key3['Bal_amount']\n",
    "            print(f'\\n Welcome {u1}')\n",
    "            print(\"\"\"\\nWlcome to transfer Window !\n",
    "            Please, Check the details about the receiver Correctly...\n",
    "            NOTE : Once the process is done it cannot be Changed!!!\n",
    "            \"\"\")\n",
    "            while True:\n",
    "                TUD = input('Enter the Receiver ID : ')\n",
    "                break\n",
    "            return TUD,u1,T1\n",
    "    if u1 == key1['name']:\n",
    "        TUD,u1,T1 = transfer_1()\n",
    "    elif u1 == key2['name']:\n",
    "        TUD,u1,T1 = transfer_2()\n",
    "    elif u1 == key3['name']:\n",
    "        TUD,u1,T1 = transfer_3()\n",
    "    else:\n",
    "        print('None Fouund!')\n",
    "        \n",
    "    Result = Transfer_nn(TUD,u1,T1)"
   ]
  },
  {
   "cell_type": "code",
   "execution_count": 65,
   "metadata": {},
   "outputs": [],
   "source": [
    "def Transfer_nn(TUD,u1,T1):\n",
    "    print(T1)\n",
    "    def tansfer_amount1(T1):\n",
    "        if TUD == key1['name']:\n",
    "            TUN1 = key1['name']\n",
    "            TUNA1 = key1['Bal_amount']\n",
    "            print(f'Enter Transfer amount to {TUN1} !')\n",
    "            while True:\n",
    "                try:\n",
    "                    Amount = int(input('Amount : '))\n",
    "                except ValueError:\n",
    "                    print('Please enter only respective values!')   \n",
    "                else:\n",
    "                    if T1 < Amount :\n",
    "                        print('Insufficient Balance !\\n')\n",
    "                        print('Try again!!!')\n",
    "                    else:\n",
    "                        key1['Bal_amount'] = int(TUNA1) + Amount\n",
    "                        print(\"Amount Transfered successfully!!\")\n",
    "                        TUNA1 = key1['Bal_amount']\n",
    "                        T1 -= Amount\n",
    "                        print(f'Current balance of {u1} is {T1}')\n",
    "                        break \n",
    "            return TUN1,TUNA1,u1,T1\n",
    "    def tansfer_amount2(T1):\n",
    "        if TUD == key2['name']:\n",
    "            TUN2 = key2['name']\n",
    "            TUNA2 = key2['Bal_amount']\n",
    "            print(f'Enter Transfer amount to {TUN2} !')\n",
    "            while True:\n",
    "                try:\n",
    "                    Amount = int(input('Amount : '))\n",
    "                except ValueError:\n",
    "                    print('Please enter only respective values!')   \n",
    "                else:\n",
    "                    if T1 < Amount :\n",
    "                        print('Insufficient Balance !\\n')\n",
    "                        print('Try again!!!')\n",
    "                    else:\n",
    "                        key2['Bal_amount'] = int(TUNA2) + Amount\n",
    "                        print(\"Amount Transfered successfully!!\")\n",
    "                        TUNA2 = key2['Bal_amount']\n",
    "                        T1 -= Amount\n",
    "                        print(f'Current balance of {u1} is {T1}')\n",
    "                        break \n",
    "            return TUN2,TUNA2,u1,T1\n",
    "    \n",
    "    def tansfer_amount3(T1):\n",
    "        if TUD == key3['name']:\n",
    "            TUN3 = key3['name']\n",
    "            TUNA3 = key3['Bal_amount']\n",
    "            print(f'Enter Transfer amount to {TUN3} !')\n",
    "            while True:\n",
    "                try:\n",
    "                    Amount = int(input('Amount : '))\n",
    "                except ValueError:\n",
    "                    print('Please enter only respective values!')   \n",
    "                else:\n",
    "                    if T1 < Amount :\n",
    "                        print('Insufficient Balance !\\n')\n",
    "                        print('Try again!!!')\n",
    "                    else:\n",
    "                        key3['Bal_amount'] = int(TUNA3) + Amount\n",
    "                        print(\"Amount Transfered successfully!!\")\n",
    "                        TUNA3 = key3['Bal_amount']\n",
    "                        T1 -= Amount\n",
    "                        print(f'Current balance of {u1} is {T1}')\n",
    "                        break \n",
    "            return TUN3,TUNA3,u1,T1\n",
    "   \n",
    "    tansfer_amount1(T1)\n",
    "    tansfer_amount2(T1)\n",
    "    tansfer_amount3(T1)"
   ]
  },
  {
   "cell_type": "code",
   "execution_count": 66,
   "metadata": {},
   "outputs": [],
   "source": [
    "key3 = {'name':username_3, 'passw':password_for_user3,'Bal_amount':balacne_3}"
   ]
  },
  {
   "cell_type": "code",
   "execution_count": 70,
   "metadata": {},
   "outputs": [
    {
     "data": {
      "text/plain": [
       "({'name': 'Govind', 'passw': '1234', 'Bal_amount': 488484},\n",
       " {'name': 'Roshu', 'passw': '5678', 'Bal_amount': 5454},\n",
       " {'name': 'Saro', 'passw': '0000', 'Bal_amount': 965554})"
      ]
     },
     "execution_count": 70,
     "metadata": {},
     "output_type": "execute_result"
    }
   ],
   "source": [
    "key1,key2,key3"
   ]
  },
  {
   "cell_type": "code",
   "execution_count": 68,
   "metadata": {},
   "outputs": [
    {
     "name": "stdout",
     "output_type": "stream",
     "text": [
      "Govind\n",
      "\n",
      " Welcome Govind\n",
      "\n",
      "Wlcome to transfer Window !\n",
      "            Please, Check the details about the receiver Correctly...\n",
      "            NOTE : Once the process is done it cannot be Changed!!!\n",
      "            \n",
      "Enter the Receiver ID : Saro\n",
      "488484\n",
      "Enter Transfer amount to Saro !\n",
      "Amount : 6000\n",
      "Amount Transfered successfully!!\n",
      "Current balance of Govind is 482484\n"
     ]
    }
   ],
   "source": [
    "Transfer_full()"
   ]
  },
  {
   "cell_type": "code",
   "execution_count": 75,
   "metadata": {},
   "outputs": [],
   "source": [
    "    def transfer_1():\n",
    "            T1 = key1['Bal_amount']\n",
    "            print('\\n')\n",
    "            print(\"\"\"\\nWlcome to transfer Window !\n",
    "            Please, Check the details about the receiver Correctly...\n",
    "            NOTE : Once the process is done it cannot be Changed!!!\n",
    "            \"\"\")\n",
    "            while True:\n",
    "                TUD = input('Enter the Receiver ID : ')\n",
    "                break\n",
    "            return TUD,key1['Bal_amount']"
   ]
  },
  {
   "cell_type": "code",
   "execution_count": 76,
   "metadata": {},
   "outputs": [
    {
     "name": "stdout",
     "output_type": "stream",
     "text": [
      "\n",
      "\n",
      "\n",
      "Wlcome to transfer Window !\n",
      "        Please, Check the details about the receiver Correctly...\n",
      "        NOTE : Once the process is done it cannot be Changed!!!\n",
      "        \n",
      "Enter the Receiver ID : asas\n"
     ]
    },
    {
     "data": {
      "text/plain": [
       "('asas', 488484)"
      ]
     },
     "execution_count": 76,
     "metadata": {},
     "output_type": "execute_result"
    }
   ],
   "source": [
    "transfer_1()"
   ]
  },
  {
   "cell_type": "code",
   "execution_count": null,
   "metadata": {},
   "outputs": [],
   "source": [
    "def Transfer_nn(TUD,u1,T1):\n",
    "    print(T1)\n",
    "    def tansfer_amount1(T1):\n",
    "            TUN1 = key1['name']\n",
    "            TUNA1 = key1['Bal_amount']\n",
    "            print(f'Enter Transfer amount to {TUN1} !')\n",
    "            while True:\n",
    "                try:\n",
    "                    Amount = int(input('Amount : '))\n",
    "                except ValueError:\n",
    "                    print('Please enter only respective values!')   \n",
    "                else:\n",
    "                    if T1 < Amount :\n",
    "                        print('Insufficient Balance !\\n')\n",
    "                        print('Try again!!!')\n",
    "                    else:\n",
    "                        key1['Bal_amount'] = int(TUNA1) + Amount\n",
    "                        print(\"Amount Transfered successfully!!\")\n",
    "                        TUNA1 = key1['Bal_amount']\n",
    "                        T1 -= Amount\n",
    "                        print(f'Current balance of {u1} is {T1}')\n",
    "                        break \n",
    "            return TUN1,TUNA1,u1,T1,Amount\n",
    "    def tansfer_amount2(T1):\n",
    "            TUN2 = key2['name']\n",
    "            TUNA2 = key2['Bal_amount']\n",
    "            print(f'Enter Transfer amount to {TUN2} !')\n",
    "            while True:\n",
    "                try:\n",
    "                    Amount = int(input('Amount : '))\n",
    "                except ValueError:\n",
    "                    print('Please enter only respective values!')   \n",
    "                else:\n",
    "                    if T1 < Amount :\n",
    "                        print('Insufficient Balance !\\n')\n",
    "                        print('Try again!!!')\n",
    "                    else:\n",
    "                        key2['Bal_amount'] = int(TUNA2) + Amount\n",
    "                        print(\"Amount Transfered successfully!!\")\n",
    "                        TUNA2 = key2['Bal_amount']\n",
    "                        T1 -= Amount\n",
    "                        print(f'Current balance of {u1} is {T1}')\n",
    "                        break \n",
    "            return TUN2,TUNA2,u1,T1,Amount\n",
    "    \n",
    "    def tansfer_amount3(T1):\n",
    "            TUN3 = key3['name']\n",
    "            TUNA3 = key3['Bal_amount']\n",
    "            print(f'Enter Transfer amount to {TUN3} !')\n",
    "            while True:\n",
    "                try:\n",
    "                    Amount = int(input('Amount : '))\n",
    "                except ValueError:\n",
    "                    print('Please enter only respective values!')   \n",
    "                else:\n",
    "                    if T1 < Amount :\n",
    "                        print('Insufficient Balance !\\n')\n",
    "                        print('Try again!!!')\n",
    "                    else:\n",
    "                        key3['Bal_amount'] = int(TUNA3) + Amount\n",
    "                        print(\"Amount Transfered successfully!!\")\n",
    "                        TUNA3 = key3['Bal_amount']\n",
    "                        T1 -= Amount\n",
    "                        print(f'Current balance of {u1} is {T1}')\n",
    "                        break \n",
    "            return TUN3,TUNA3,u1,T1,Amount\n",
    "    def tansfer_amount4(T1):\n",
    "            TUN4 = key4['name']\n",
    "            TUNA4 = key4['Bal_amount']\n",
    "            print(f'Enter Transfer amount to {TUN4} !')\n",
    "            while True:\n",
    "                try:\n",
    "                    Amount = int(input('Amount : '))\n",
    "                except ValueError:\n",
    "                    print('Please enter only respective values!')   \n",
    "                else:\n",
    "                    if T1 < Amount :\n",
    "                        print('Insufficient Balance !\\n')\n",
    "                        print('Try again!!!')\n",
    "                    else:\n",
    "                        key4['Bal_amount'] = int(TUNA4) + Amount\n",
    "                        print(\"Amount Transfered successfully!!\")\n",
    "                        TUNA4 = key4['Bal_amount']\n",
    "                        T1 -= Amount\n",
    "                        print(f'Current balance of {u1} is {T1}')\n",
    "                        break \n",
    "            return TUN4,TUNA4,u1,T1,Amount\n",
    "    def tansfer_amount5(T1):\n",
    "            TUN5 = key5['name']\n",
    "            TUNA5 = key5['Bal_amount']\n",
    "            print(f'Enter Transfer amount to {TUN5} !')\n",
    "            while True:\n",
    "                try:\n",
    "                    Amount = int(input('Amount : '))\n",
    "                except ValueError:\n",
    "                    print('Please enter only respective values!')   \n",
    "                else:\n",
    "                    if T1 < Amount :\n",
    "                        print('Insufficient Balance !\\n')\n",
    "                        print('Try again!!!')\n",
    "                    else:\n",
    "                        key5['Bal_amount'] = int(TUNA5) + Amount\n",
    "                        print(\"Amount Transfered successfully!!\")\n",
    "                        TUNA5 = key5['Bal_amount']\n",
    "                        T1 -= Amount\n",
    "                        print(f'Current balance of {u1} is {T1}')\n",
    "                        break \n",
    "            return TUN5,TUNA5,u1,T1,Amount\n",
    "    if TUD == key1['name']:\n",
    "        TUN1,TUNA1,u1,T1,Amount_get = tansfer_amount1(T1)\n",
    "        return Amount_get\n",
    "    elif TUD == key2['name']:\n",
    "        TUN2,TUNA2,u1,T1,Amount_get = tansfer_amount2(T1)\n",
    "        return Amount_get\n",
    "    elif TUD == key3['name']:\n",
    "        TUN3,TUNA3,u1,T1,Amount_get = tansfer_amount3(T1)\n",
    "        return Amount_get\n",
    "    elif TUD == key4['name']:\n",
    "        TUN4,TUNA4,u1,T1,Amount_get = tansfer_amount4(T1)\n",
    "        return Amount_get\n",
    "    elif TUD == key5['name']:\n",
    "        TUN4,TUNA4,u1,T1,Amount_get = tansfer_amount5(T1)\n",
    "        return Amount_get\n",
    "    else:\n",
    "        print('NONE')\n",
    "        \n",
    "    \n",
    "    if u1 == key1['name']:\n",
    "        key1['Bal_amount'] -=Amount_get\n",
    "    elif u1 == key2['name']:\n",
    "        key2['Bal_amount'] -= Amount_get\n",
    "    elif u1 == key3['name']:\n",
    "        key3['Bal_amount'] -= Amount_get\n",
    "    elif u1 == key4['name']:\n",
    "        key4['Bal_amount'] -= Amount_get\n",
    "    elif u1 == key5['name']:\n",
    "        key5['Bal_amount'] -= Amount_get\n",
    "    else:\n",
    "        print('NONE FOUND!!')\n",
    "    \n"
   ]
  }
 ],
 "metadata": {
  "kernelspec": {
   "display_name": "Python 3",
   "language": "python",
   "name": "python3"
  },
  "language_info": {
   "codemirror_mode": {
    "name": "ipython",
    "version": 3
   },
   "file_extension": ".py",
   "mimetype": "text/x-python",
   "name": "python",
   "nbconvert_exporter": "python",
   "pygments_lexer": "ipython3",
   "version": "3.7.6"
  }
 },
 "nbformat": 4,
 "nbformat_minor": 4
}
