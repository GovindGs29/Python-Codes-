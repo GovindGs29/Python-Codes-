{
 "cells": [
  {
   "cell_type": "code",
   "execution_count": 1,
   "metadata": {
    "scrolled": true
   },
   "outputs": [
    {
     "name": "stdout",
     "output_type": "stream",
     "text": [
      "Enter Name user 1: Govind\n"
     ]
    }
   ],
   "source": [
    "username_1 = input(\"Enter Name user 1: \")"
   ]
  },
  {
   "cell_type": "code",
   "execution_count": 2,
   "metadata": {},
   "outputs": [
    {
     "name": "stdout",
     "output_type": "stream",
     "text": [
      "Enter Name user 2 : Saro\n"
     ]
    }
   ],
   "source": [
    "username_2 = input(\"Enter Name user 2 : \")"
   ]
  },
  {
   "cell_type": "code",
   "execution_count": 3,
   "metadata": {},
   "outputs": [
    {
     "name": "stdout",
     "output_type": "stream",
     "text": [
      "Enter Name user 3: Jose\n"
     ]
    }
   ],
   "source": [
    "username_3 = input(\"Enter Name user 3: \")"
   ]
  },
  {
   "cell_type": "code",
   "execution_count": 4,
   "metadata": {},
   "outputs": [
    {
     "name": "stdout",
     "output_type": "stream",
     "text": [
      "Enter Name user 4: Srngs\n"
     ]
    }
   ],
   "source": [
    "username_4 = input(\"Enter Name user 4: \")"
   ]
  },
  {
   "cell_type": "code",
   "execution_count": 5,
   "metadata": {},
   "outputs": [
    {
     "name": "stdout",
     "output_type": "stream",
     "text": [
      "Enter Name user 5: Roshu\n"
     ]
    }
   ],
   "source": [
    "username_5 = input(\"Enter Name user 5: \")"
   ]
  },
  {
   "cell_type": "code",
   "execution_count": 6,
   "metadata": {},
   "outputs": [
    {
     "name": "stdout",
     "output_type": "stream",
     "text": [
      "Create password u1: 1234\n"
     ]
    }
   ],
   "source": [
    "password_for_user1 = input(\"Create password u1: \")"
   ]
  },
  {
   "cell_type": "code",
   "execution_count": 7,
   "metadata": {},
   "outputs": [
    {
     "name": "stdout",
     "output_type": "stream",
     "text": [
      "Create password u2: 5678\n"
     ]
    }
   ],
   "source": [
    "password_for_user2 = input(\"Create password u2: \")"
   ]
  },
  {
   "cell_type": "code",
   "execution_count": 8,
   "metadata": {},
   "outputs": [
    {
     "name": "stdout",
     "output_type": "stream",
     "text": [
      "Create password u3: 9876\n"
     ]
    }
   ],
   "source": [
    "password_for_user3 = input(\"Create password u3: \")"
   ]
  },
  {
   "cell_type": "code",
   "execution_count": 9,
   "metadata": {},
   "outputs": [
    {
     "name": "stdout",
     "output_type": "stream",
     "text": [
      "Create password u4: 5432\n"
     ]
    }
   ],
   "source": [
    "password_for_user4 = input(\"Create password u4: \")"
   ]
  },
  {
   "cell_type": "code",
   "execution_count": 10,
   "metadata": {},
   "outputs": [
    {
     "name": "stdout",
     "output_type": "stream",
     "text": [
      "Create password u5: 1000\n"
     ]
    }
   ],
   "source": [
    "password_for_user5 = input(\"Create password u5: \")"
   ]
  },
  {
   "cell_type": "code",
   "execution_count": 11,
   "metadata": {},
   "outputs": [
    {
     "name": "stdout",
     "output_type": "stream",
     "text": [
      "9999888\n"
     ]
    }
   ],
   "source": [
    "balacne_1 = int(input())"
   ]
  },
  {
   "cell_type": "code",
   "execution_count": 12,
   "metadata": {},
   "outputs": [
    {
     "name": "stdout",
     "output_type": "stream",
     "text": [
      "787878\n"
     ]
    }
   ],
   "source": [
    "balacne_2 = int(input())"
   ]
  },
  {
   "cell_type": "code",
   "execution_count": 13,
   "metadata": {},
   "outputs": [
    {
     "name": "stdout",
     "output_type": "stream",
     "text": [
      "456545\n"
     ]
    }
   ],
   "source": [
    "balacne_3 = int(input())"
   ]
  },
  {
   "cell_type": "code",
   "execution_count": 14,
   "metadata": {},
   "outputs": [
    {
     "name": "stdout",
     "output_type": "stream",
     "text": [
      "455878\n"
     ]
    }
   ],
   "source": [
    "balacne_4 = int(input())"
   ]
  },
  {
   "cell_type": "code",
   "execution_count": 15,
   "metadata": {},
   "outputs": [
    {
     "name": "stdout",
     "output_type": "stream",
     "text": [
      "1554875\n"
     ]
    }
   ],
   "source": [
    "balacne_5 = int(input())"
   ]
  },
  {
   "cell_type": "code",
   "execution_count": 16,
   "metadata": {},
   "outputs": [],
   "source": [
    "def Account_check():\n",
    "    print('Welcome to Sample bank program!!\\n')\n",
    "    while True:\n",
    "        u,p = login()\n",
    "        if u == key1['name'] and p == key1['passw'] or u == key2['name'] and p == key2['passw'] or u == key3['name'] and p == key3['passw'] or u == key4['name'] and p == key4['passw'] or u == key5['name'] and p == key5['passw']:\n",
    "            print(f'Welcome {u} Have a good banking with us !!')\n",
    "            return u,p\n",
    "        else:\n",
    "            print('\\nSorry username not found!!')\n",
    "            G = input('Do you wana try again ? Y/N: ')\n",
    "            if G.lower() in ('y','yes'):\n",
    "                login_form = True\n",
    "            else:\n",
    "                print('Thanks for Banking!!')\n",
    "                login_form = False\n",
    "                break"
   ]
  },
  {
   "cell_type": "code",
   "execution_count": 17,
   "metadata": {},
   "outputs": [],
   "source": [
    "def login():\n",
    "    print('Login with your user name and password\\n')\n",
    "    username = input(\"Your user name :\")\n",
    "    password = input(\"Password :\")\n",
    "    return username,password"
   ]
  },
  {
   "cell_type": "code",
   "execution_count": 18,
   "metadata": {},
   "outputs": [],
   "source": [
    "key1 = {'name':username_1, 'passw':password_for_user1,'Bal_amount':balacne_1}\n",
    "key2 = {'name':username_2, 'passw':password_for_user2,'Bal_amount':balacne_2}\n",
    "key3 = {'name':username_3, 'passw':password_for_user3,'Bal_amount':balacne_3}\n",
    "key4 = {'name':username_4, 'passw':password_for_user4,'Bal_amount':balacne_4}\n",
    "key5 = {'name':username_5, 'passw':password_for_user5,'Bal_amount':balacne_5}"
   ]
  },
  {
   "cell_type": "code",
   "execution_count": 39,
   "metadata": {},
   "outputs": [],
   "source": [
    "def Banking_menu(u1):\n",
    "    #Account details.name == name ---> Balance(amount),Options for Banking\n",
    "    print(\"\"\"\\n THIS IS THE MAIN PAGE OF THE SIMPLE BANK PROGRAM \\n\n",
    "    PLease Choose any option that Listed below :\\n\n",
    "    _______________________________________________\n",
    "    \n",
    "    1.Balance Check\n",
    "    2.Withdraw\n",
    "    3.Deposit\n",
    "    4.Transfer\n",
    "    5.Exit\n",
    "    ________________________________________________\n",
    "    \"\"\")\n",
    "    choice = True\n",
    "    while choice:\n",
    "        try:\n",
    "            option = int(input(\"Pick a Choice! 1-5 :\"))\n",
    "        except ValueError:\n",
    "            print(\"Please enter a valid digit!!\")\n",
    "        else:\n",
    "            if option not in range(1,6):\n",
    "                print('Enter a valid number !') \n",
    "            elif option == 5:\n",
    "                print(\"Logging Out!! Please wait.....\")\n",
    "                print('Thanks for Banking!!')\n",
    "                choice = False\n",
    "                break\n",
    "            else:\n",
    "                print('Choice Accepted.. Loading..!')\n",
    "                Choice_1 = Choice_affect(option)"
   ]
  },
  {
   "cell_type": "code",
   "execution_count": 40,
   "metadata": {},
   "outputs": [],
   "source": [
    "def Choice_affect(option_value):\n",
    "    if option_value == 1:\n",
    "        balance = balance_full()\n",
    "    elif option_value == 2:\n",
    "        withdrw = withdrawl_Full()\n",
    "    elif option_value == 3:\n",
    "        deposit_fun = Deposit_Full()\n",
    "    else:\n",
    "        Transfer_fun = Transfer_full(u1)"
   ]
  },
  {
   "cell_type": "code",
   "execution_count": 41,
   "metadata": {},
   "outputs": [],
   "source": [
    "def balance_full():\n",
    "    def balce_check1():\n",
    "        if u1 == key1['name']:\n",
    "            b1 = key1['Bal_amount']\n",
    "            print(f\"User {u1}'s Current Balance is ---> {b1}\")\n",
    "    def balce_check2():\n",
    "        if u1 == key2['name']:\n",
    "            b2 = key2['Bal_amount']\n",
    "            print(f\"User {u1}'s Current Balance is ---> {b2}\")\n",
    "    def balce_check3():\n",
    "        if u1 == key3['name']:\n",
    "            b3 = key3['Bal_amount']\n",
    "            print(f\"User {u1}'s Current Balance is ---> {b3}\")\n",
    "    def balce_check4():\n",
    "        if u1 == key4['name']:\n",
    "            b4 = key4['Bal_amount']\n",
    "            print(f\"User {u1}'s Current Balance is ---> {b4}\")\n",
    "    def balce_check5():\n",
    "        if u1 == key5['name']:\n",
    "            b5 = key5['Bal_amount']\n",
    "            print(f\"User {u1}'s Current Balance is ---> {b5}\")\n",
    "    balce_check1()\n",
    "    balce_check2()\n",
    "    balce_check3()\n",
    "    balce_check4()\n",
    "    balce_check5()"
   ]
  },
  {
   "cell_type": "code",
   "execution_count": 42,
   "metadata": {},
   "outputs": [],
   "source": [
    "def withdrawl_Full():\n",
    "    #Making each withdrw for every user \n",
    "    \n",
    "    def withdraw1():\n",
    "        #note key value match should be important\n",
    "        if u1 == key1['name']:\n",
    "            b1 = key1['Bal_amount']\n",
    "            #making a loop for insufficient balance\n",
    "            while True:\n",
    "                try:\n",
    "                    Amount = int(input(\"Enter amount to be taken : \"))\n",
    "                except ValueError:\n",
    "                    print('sorry enter no.of amount:')\n",
    "                else:\n",
    "                    if int(b1)<Amount:\n",
    "                        print('Insufficent Balance !!')\n",
    "                    else:\n",
    "                        key1['Bal_amount'] = int(b1) - Amount\n",
    "                        print(f'Please take the amount {Amount}')\n",
    "                        b1 = key1['Bal_amount']\n",
    "                        print(f'Balance amount is {b1}')\n",
    "                        break\n",
    "    def withdraw2():\n",
    "        if u1 == key2['name']:\n",
    "            b2 = key2['Bal_amount']\n",
    "            while True:\n",
    "                try:\n",
    "                    Amount = int(input(\"Enter amount to be taken : \"))\n",
    "                except ValueError:\n",
    "                    print('sorry enter no.of amount:')\n",
    "                else:\n",
    "                    if int(b2)<Amount:\n",
    "                        print('Insufficent Balance !!')\n",
    "                    else:\n",
    "                        key2['Bal_amount'] = int(b2) - Amount\n",
    "                        print(f'Please take the amount {Amount}')\n",
    "                        b2 = key2['Bal_amount']\n",
    "                        print(f'Balance amount is {b2}')\n",
    "                        break\n",
    "    def withdraw3():\n",
    "        if u1 == key3['name']:\n",
    "            b3 = key3['Bal_amount']\n",
    "            while True:\n",
    "                try:\n",
    "                    Amount = int(input(\"Enter amount to be taken : \"))\n",
    "                except ValueError:\n",
    "                    print('sorry enter no.of amount:')\n",
    "                else:\n",
    "                    if int(b3)<Amount:\n",
    "                        print('Insufficent Balance !!')\n",
    "                    else:\n",
    "                        key3['Bal_amount'] = int(b3) - Amount\n",
    "                        print(f'Please take the amount {Amount}')\n",
    "                        b3 = key3['Bal_amount']\n",
    "                        print(f'Balance amount is {b3}')\n",
    "                        break\n",
    "    def withdraw4():\n",
    "        if u1 == key4['name']:\n",
    "            b1 = key4['Bal_amount']\n",
    "            while True:\n",
    "                try:\n",
    "                    Amount = int(input(\"Enter amount to be taken : \"))\n",
    "                except ValueError:\n",
    "                    print('sorry enter no.of amount:')\n",
    "                else:\n",
    "                    if int(b4)<Amount:\n",
    "                        print('Insufficent Balance !!')\n",
    "                    else:\n",
    "                        key4['Bal_amount'] = int(b4) - Amount\n",
    "                        print(f'Please take the amount {Amount}')\n",
    "                        b4 = key1['Bal_amount']\n",
    "                        print(f'Balance amount is {b4}')\n",
    "                        break\n",
    "    def withdraw5():\n",
    "        if u1 == key5['name']:\n",
    "            b5 = key5['Bal_amount']\n",
    "            while True:\n",
    "                try:\n",
    "                    Amount = int(input(\"Enter amount to be taken : \"))\n",
    "                except ValueError:\n",
    "                    print('sorry enter no.of amount:')\n",
    "                else:\n",
    "                    if int(b5)<Amount:\n",
    "                        print('Insufficent Balance !!')\n",
    "                    else:\n",
    "                        key5['Bal_amount'] = int(b5) - Amount\n",
    "                        print(f'Please take the amount {Amount}')\n",
    "                        b5 = key5['Bal_amount']\n",
    "                        print(f'Balance amount is {b5}')\n",
    "                        break                     \n",
    "    withdraw1()\n",
    "    withdraw2()\n",
    "    withdraw3()\n",
    "    withdraw4()\n",
    "    withdraw5()"
   ]
  },
  {
   "cell_type": "code",
   "execution_count": 43,
   "metadata": {},
   "outputs": [],
   "source": [
    "def Deposit_Full():    \n",
    "    def deposit_U1():\n",
    "        if u1 == key1['name']:\n",
    "            d1 = key1['Bal_amount']\n",
    "            print('How much do u wana deposit :\\n')\n",
    "            while True:\n",
    "                amountdep = int(input('Enter the Amount :'))\n",
    "                key1['Bal_amount'] = int(d1) + amountdep\n",
    "                print(f'Amount addedd!!! to your account ,Old Balance {d1} ')\n",
    "                d1 = key1['Bal_amount']\n",
    "                print(f'Current Balance is {d1}')\n",
    "                break\n",
    "    def deposit_U2():\n",
    "        if u1 == key2['name']:\n",
    "            d2 = key2['Bal_amount']\n",
    "            print('How much do u wana deposit :\\n')\n",
    "            while True:\n",
    "                amountdep = int(input('Enter the Amount :'))\n",
    "                key2['Bal_amount'] = int(d2) + amountdep\n",
    "                print(f'Amount addedd!!! to your account ,Old Balance {d2} ')\n",
    "                d2 = key2['Bal_amount']\n",
    "                print(f'Current Balance is {d2}')\n",
    "                break\n",
    "    def deposit_U3():\n",
    "        if u1 == key3['name']:\n",
    "            d3 = key3['Bal_amount']\n",
    "            print('How much do u wana deposit :\\n')\n",
    "            while True:\n",
    "                amountdep = int(input('Enter the Amount :'))\n",
    "                key3['Bal_amount'] = int(d3) + amountdep\n",
    "                print(f'Amount addedd!!! to your account ,Old Balance {d3} ')\n",
    "                d3 = key3['Bal_amount']\n",
    "                print(f'Current Balance is {d3}')\n",
    "                break\n",
    "    def deposit_U4():\n",
    "        if u1 == key4['name']:\n",
    "            d4 = key4['Bal_amount']\n",
    "            print('How much do u wana deposit :\\n')\n",
    "            while True:\n",
    "                amountdep = int(input('Enter the Amount :'))\n",
    "                key4['Bal_amount'] = int(d4) + amountdep\n",
    "                print(f'Amount addedd!!! to your account ,Old Balance {d4} ')\n",
    "                d4 = key4['Bal_amount']\n",
    "                print(f'Current Balance is {d4}')\n",
    "                break\n",
    "    def deposit_U5():\n",
    "        if u1 == key5['name']:\n",
    "            d2 = key5['Bal_amount']\n",
    "            print('How much do u wana deposit :\\n')\n",
    "            while True:\n",
    "                amountdep = int(input('Enter the Amount :'))\n",
    "                key5['Bal_amount'] = int(d5) + amountdep\n",
    "                print(f'Amount addedd!!! to your account ,Old Balance {d5}')\n",
    "                d5 = key5['Bal_amount']\n",
    "                print(f'Currrent Balance is {d5}')\n",
    "                break\n",
    "    \n",
    "    deposit_U1()\n",
    "    deposit_U2()\n",
    "    deposit_U3()\n",
    "    deposit_U4()\n",
    "    deposit_U5()\n",
    "            "
   ]
  },
  {
   "cell_type": "code",
   "execution_count": 44,
   "metadata": {},
   "outputs": [],
   "source": [
    "def Transfer_nn(TUD,u1,T1,Amount):\n",
    "    print(f'your account has {T1} balance')\n",
    "    def tansfer_amount1(T1):\n",
    "            TUN1 = key1['name']\n",
    "            TUNA1 = key1['Bal_amount']\n",
    "            print(f' Amount Transfer to {TUN1} !')\n",
    "            key1['Bal_amount'] = int(TUNA1) + Amount\n",
    "            print(\"Amount Transfered successfully!!\")\n",
    "            TUNA1 = key1['Bal_amount']\n",
    "            print(f'Current balance of {u1} is {T1}') \n",
    "            return TUN1,TUNA1,u1,T1,Amount\n",
    "    def tansfer_amount2(T1):\n",
    "            TUN2 = key2['name']\n",
    "            TUNA2 = key2['Bal_amount']\n",
    "            print(f'Enter Transfer amount to {TUN2} !')\n",
    "            key2['Bal_amount'] = int(TUNA2) + Amount\n",
    "            print(\"Amount Transfered successfully!!\")\n",
    "            TUNA2 = key2['Bal_amount']\n",
    "            print(f'Current balance of {u1} is {T1}') \n",
    "            return TUN2,TUNA2,u1,T1,Amount\n",
    "    \n",
    "    def tansfer_amount3(T1):\n",
    "            TUN3 = key3['name']\n",
    "            TUNA3 = key3['Bal_amount']\n",
    "            print(f'Enter Transfer amount to {TUN3} !')\n",
    "            key3['Bal_amount'] = int(TUNA3) + Amount\n",
    "            print(\"Amount Transfered successfully!!\")\n",
    "            TUNA3 = key3['Bal_amount']\n",
    "            print(f'Current balance of {u1} is {T1}') \n",
    "            return TUN3,TUNA3,u1,T1,Amount\n",
    "    def tansfer_amount4(T1):\n",
    "            TUN4 = key4['name']\n",
    "            TUNA4 = key4['Bal_amount']\n",
    "            print(f'Enter Transfer amount to {TUN4} !')\n",
    "            key4['Bal_amount'] = int(TUNA4) + Amount\n",
    "            print(\"Amount Transfered successfully!!\")\n",
    "            TUNA4 = key4['Bal_amount']\n",
    "            print(f'Current balance of {u1} is {T1}') \n",
    "            return TUN4,TUNA4,u1,T1,Amount\n",
    "    def tansfer_amount5(T1):\n",
    "            TUN5 = key5['name']\n",
    "            TUNA5 = key5['Bal_amount']\n",
    "            print(f'Enter Transfer amount to {TUN5} !')\n",
    "            key5['Bal_amount'] = int(TUNA5) + Amount\n",
    "            print(\"Amount Transfered successfully!!\")\n",
    "            TUNA5 = key5['Bal_amount']\n",
    "            print(f'Current balance of {u1} is {T1}') \n",
    "            return TUN5,TUNA5,u1,T1,Amount\n",
    "    if TUD == key1['name']:\n",
    "        TUN1,TUNA1,u1,T1,Amount_get = tansfer_amount1(T1)\n",
    "        return Amount_get\n",
    "    elif TUD == key2['name']:\n",
    "        TUN2,TUNA2,u1,T1,Amount_get = tansfer_amount2(T1)\n",
    "        return Amount_get\n",
    "    elif TUD == key3['name']:\n",
    "        TUN3,TUNA3,u1,T1,Amount_get = tansfer_amount3(T1)\n",
    "        return Amount_get\n",
    "    elif TUD == key4['name']:\n",
    "        TUN4,TUNA4,u1,T1,Amount_get = tansfer_amount4(T1)\n",
    "        return Amount_get\n",
    "    elif TUD == key5['name']:\n",
    "        TUN4,TUNA4,u1,T1,Amount_get = tansfer_amount5(T1)\n",
    "        return Amount_get\n",
    "    else:\n",
    "        print('NONE')\n",
    "    \n"
   ]
  },
  {
   "cell_type": "code",
   "execution_count": 50,
   "metadata": {},
   "outputs": [],
   "source": [
    "def Transfer_full(u1):\n",
    "    def transfer_1():\n",
    "            T1 = key1['Bal_amount']\n",
    "            print(f'\\n Welcome {u1}')\n",
    "            print(\"\"\"\\nWlcome to transfer Window !\n",
    "            Please, Check the details about the receiver Correctly...\n",
    "            NOTE : Once the process is done it cannot be Changed!!!\n",
    "            \"\"\")\n",
    "            while True:\n",
    "                TUD = input('Enter the Receiver ID : ')\n",
    "                try:\n",
    "                    Amount = int(input('Amount : '))\n",
    "                except ValueError:\n",
    "                    print('Please enter only respective values!')   \n",
    "                else:\n",
    "                    if T1 < Amount :\n",
    "                        print('Insufficient Balance !\\n')\n",
    "                        print('Try again!!!')\n",
    "                    else:\n",
    "                        key1['Bal_amount'] = int(T1) - Amount\n",
    "                        T1 = key1['Bal_amount']\n",
    "                        break\n",
    "            return TUD,u1,T1,Amount\n",
    "    def transfer_2():\n",
    "            T1 = key2['Bal_amount']\n",
    "            print(f'\\n Welcome {u1}')\n",
    "            print(\"\"\"\\nWlcome to transfer Window !\n",
    "            Please, Check the details about the receiver Correctly...\n",
    "            NOTE : Once the process is done it cannot be Changed!!!\n",
    "            \"\"\")\n",
    "            while True:\n",
    "                TUD = input('Enter the Receiver ID : ')\n",
    "                try:\n",
    "                    Amount = int(input('Amount : '))\n",
    "                except ValueError:\n",
    "                    print('Please enter only respective values!')   \n",
    "                else:\n",
    "                    if T1 < Amount :\n",
    "                        print('Insufficient Balance !\\n')\n",
    "                        print('Try again!!!')\n",
    "                    else:\n",
    "                        key2['Bal_amount'] = int(T1) - Amount\n",
    "                        T1 = key2['Bal_amount']\n",
    "                        break\n",
    "            return TUD,u1,T1,Amount\n",
    "    def transfer_3():\n",
    "            T1 = key3['Bal_amount']\n",
    "            print(f'\\n Welcome {u1}')\n",
    "            print(\"\"\"\\nWlcome to transfer Window !\n",
    "            Please, Check the details about the receiver Correctly...\n",
    "            NOTE : Once the process is done it cannot be Changed!!!\n",
    "            \"\"\")\n",
    "            while True:\n",
    "                TUD = input('Enter the Receiver ID : ')\n",
    "                try:\n",
    "                    Amount = int(input('Amount : '))\n",
    "                except ValueError:\n",
    "                    print('Please enter only respective values!')   \n",
    "                else:\n",
    "                    if T1 < Amount :\n",
    "                        print('Insufficient Balance !\\n')\n",
    "                        print('Try again!!!')\n",
    "                    else:\n",
    "                        key3['Bal_amount'] = int(T1) - Amount\n",
    "                        T1 = key3['Bal_amount']\n",
    "                        break\n",
    "            return TUD,u1,T1,Amount\n",
    "    def transfer_4():\n",
    "            T1 = key4['Bal_amount']\n",
    "            print(f'\\n Welcome {u1}')\n",
    "            print(\"\"\"\\nWlcome to transfer Window !\n",
    "            Please, Check the details about the receiver Correctly...\n",
    "            NOTE : Once the process is done it cannot be Changed!!!\n",
    "            \"\"\")\n",
    "            while True:\n",
    "                TUD = input('Enter the Receiver ID : ')\n",
    "                try:\n",
    "                    Amount = int(input('Amount : '))\n",
    "                except ValueError:\n",
    "                    print('Please enter only respective values!')   \n",
    "                else:\n",
    "                    if T1 < Amount :\n",
    "                        print('Insufficient Balance !\\n')\n",
    "                        print('Try again!!!')\n",
    "                        \n",
    "                    else:\n",
    "                        key4['Bal_amount'] = int(T1) - Amount\n",
    "                        T1 = key4['Bal_amount']\n",
    "                        break\n",
    "            return TUD,u1,T1,Amount\n",
    "    def transfer_5():\n",
    "            T1 = key5['Bal_amount']\n",
    "            print(f'\\n Welcome {u1}')\n",
    "            print(\"\"\"\\nWlcome to transfer Window !\n",
    "            Please, Check the details about the receiver Correctly...\n",
    "            NOTE : Once the process is done it cannot be Changed!!!\n",
    "            \"\"\")\n",
    "            while True:\n",
    "                TUD = input('Enter the Receiver ID : ')\n",
    "                try:\n",
    "                    Amount = int(input('Amount : '))\n",
    "                except ValueError:\n",
    "                    print('Please enter only respective values!')   \n",
    "                else:\n",
    "                    if T1 < Amount :\n",
    "                        print('Insufficient Balance !\\n')\n",
    "                        print('Try again!!!')\n",
    "                        \n",
    "                    else:\n",
    "                        key5['Bal_amount'] = int(T1) - Amount\n",
    "                        T1 = key5['Bal_amount']\n",
    "                        break\n",
    "            return TUD,u1,T1,Amount\n",
    "    if u1 == key1['name']:  \n",
    "        TUD,u1,T1,Amount = transfer_1()\n",
    "    elif u1 == key2['name']:\n",
    "        TUD,u1,T1,Amount = transfer_2()\n",
    "    elif u1 == key3['name']:        \n",
    "        TUD,u1,T1,Amount = transfer_3()\n",
    "    elif u1 == key4['name']:    \n",
    "        TUD,u1,T1,Amount = transfer_4()\n",
    "    elif u1 == key5['name']:\n",
    "        TUD,u1,T1,Amount = transfer_5()\n",
    "    else:\n",
    "        print('NONE FOUND!!')\n",
    "    Result = Transfer_nn(TUD,u1,T1,Amount)"
   ]
  },
  {
   "cell_type": "code",
   "execution_count": 63,
   "metadata": {},
   "outputs": [
    {
     "name": "stdout",
     "output_type": "stream",
     "text": [
      "Welcome to Sample bank program!!\n",
      "\n",
      "Login with your user name and password\n",
      "\n",
      "Your user name :Govind\n",
      "Password :1234\n",
      "Welcome Govind Have a good banking with us !!\n",
      "\n",
      " THIS IS THE MAIN PAGE OF THE SIMPLE BANK PROGRAM \n",
      "\n",
      "    PLease Choose any option that Listed below :\n",
      "\n",
      "    _______________________________________________\n",
      "    \n",
      "    1.Balance Check\n",
      "    2.Withdraw\n",
      "    3.Deposit\n",
      "    4.Transfer\n",
      "    5.Exit\n",
      "    ________________________________________________\n",
      "    \n",
      "Pick a Choice! 1-5 :3\n",
      "Choice Accepted.. Loading..!\n",
      "How much do u wana deposit :\n",
      "\n",
      "Enter the Amount :10000000\n",
      "Amount addedd!!! to your account ,Old Balance 5250389 \n",
      "Current Balance is 15250389\n",
      "Pick a Choice! 1-5 :4\n",
      "Choice Accepted.. Loading..!\n",
      "\n",
      " Welcome Govind\n",
      "\n",
      "Wlcome to transfer Window !\n",
      "            Please, Check the details about the receiver Correctly...\n",
      "            NOTE : Once the process is done it cannot be Changed!!!\n",
      "            \n",
      "Enter the Receiver ID : Jose\n",
      "Amount : 1000000000000000\n",
      "Insufficient Balance !\n",
      "\n",
      "Try again!!!\n",
      "Enter the Receiver ID : Jose\n",
      "Amount : 100\n",
      "your account has 15250289 balance\n",
      "Enter Transfer amount to Jose !\n",
      "Amount Transfered successfully!!\n",
      "Current balance of Govind is 15250289\n",
      "Pick a Choice! 1-5 :1\n",
      "Choice Accepted.. Loading..!\n",
      "User Govind's Current Balance is ---> 15250289\n",
      "Pick a Choice! 1-5 :5\n",
      "Logging Out!! Please wait.....\n",
      "Thanks for Banking!!\n"
     ]
    }
   ],
   "source": [
    "u1,p1 = Account_check()\n",
    "\n",
    "b = Banking_menu(u1)"
   ]
  },
  {
   "cell_type": "code",
   "execution_count": 69,
   "metadata": {},
   "outputs": [
    {
     "name": "stdout",
     "output_type": "stream",
     "text": [
      "Welcome to Sample bank program!!\n",
      "\n",
      "Login with your user name and password\n",
      "\n",
      "Your user name :Roshu\n",
      "Password :1000\n",
      "Welcome Roshu Have a good banking with us !!\n",
      "\n",
      " THIS IS THE MAIN PAGE OF THE SIMPLE BANK PROGRAM \n",
      "\n",
      "    PLease Choose any option that Listed below :\n",
      "\n",
      "    _______________________________________________\n",
      "    \n",
      "    1.Balance Check\n",
      "    2.Withdraw\n",
      "    3.Deposit\n",
      "    4.Transfer\n",
      "    5.Exit\n",
      "    ________________________________________________\n",
      "    \n",
      "Pick a Choice! 1-5 :1\n",
      "Choice Accepted.. Loading..!\n",
      "User Roshu's Current Balance is ---> 1001553875\n",
      "Pick a Choice! 1-5 :4\n",
      "Choice Accepted.. Loading..!\n",
      "\n",
      " Welcome Roshu\n",
      "\n",
      "Wlcome to transfer Window !\n",
      "            Please, Check the details about the receiver Correctly...\n",
      "            NOTE : Once the process is done it cannot be Changed!!!\n",
      "            \n",
      "Enter the Receiver ID : Srngs\n",
      "Amount : 1000000000\n",
      "your account has 1553875 balance\n",
      "Enter Transfer amount to Srngs !\n",
      "Amount Transfered successfully!!\n",
      "Current balance of Roshu is 1553875\n",
      "Pick a Choice! 1-5 :1\n",
      "Choice Accepted.. Loading..!\n",
      "User Roshu's Current Balance is ---> 1553875\n",
      "Pick a Choice! 1-5 :5\n",
      "Logging Out!! Please wait.....\n",
      "Thanks for Banking!!\n"
     ]
    }
   ],
   "source": [
    "u1,p1 = Account_check()\n",
    "\n",
    "Banking_menu(u1)"
   ]
  },
  {
   "cell_type": "code",
   "execution_count": 70,
   "metadata": {},
   "outputs": [
    {
     "data": {
      "text/plain": [
       "{'name': 'Govind', 'passw': '1234', 'Bal_amount': 15250289}"
      ]
     },
     "execution_count": 70,
     "metadata": {},
     "output_type": "execute_result"
    }
   ],
   "source": [
    "key1"
   ]
  },
  {
   "cell_type": "code",
   "execution_count": 71,
   "metadata": {},
   "outputs": [
    {
     "data": {
      "text/plain": [
       "{'name': 'Saro', 'passw': '5678', 'Bal_amount': 4787878}"
      ]
     },
     "execution_count": 71,
     "metadata": {},
     "output_type": "execute_result"
    }
   ],
   "source": [
    "key2"
   ]
  },
  {
   "cell_type": "code",
   "execution_count": 72,
   "metadata": {},
   "outputs": [
    {
     "data": {
      "text/plain": [
       "{'name': 'Jose', 'passw': '9876', 'Bal_amount': 456645}"
      ]
     },
     "execution_count": 72,
     "metadata": {},
     "output_type": "execute_result"
    }
   ],
   "source": [
    "key3"
   ]
  },
  {
   "cell_type": "code",
   "execution_count": 73,
   "metadata": {},
   "outputs": [
    {
     "data": {
      "text/plain": [
       "{'name': 'Srngs', 'passw': '5432', 'Bal_amount': 11000955878}"
      ]
     },
     "execution_count": 73,
     "metadata": {},
     "output_type": "execute_result"
    }
   ],
   "source": [
    "key4"
   ]
  },
  {
   "cell_type": "code",
   "execution_count": 74,
   "metadata": {},
   "outputs": [
    {
     "data": {
      "text/plain": [
       "{'name': 'Roshu', 'passw': '1000', 'Bal_amount': 1553875}"
      ]
     },
     "execution_count": 74,
     "metadata": {},
     "output_type": "execute_result"
    }
   ],
   "source": [
    "key5"
   ]
  },
  {
   "cell_type": "code",
   "execution_count": null,
   "metadata": {},
   "outputs": [],
   "source": []
  }
 ],
 "metadata": {
  "kernelspec": {
   "display_name": "Python 3",
   "language": "python",
   "name": "python3"
  },
  "language_info": {
   "codemirror_mode": {
    "name": "ipython",
    "version": 3
   },
   "file_extension": ".py",
   "mimetype": "text/x-python",
   "name": "python",
   "nbconvert_exporter": "python",
   "pygments_lexer": "ipython3",
   "version": "3.7.6"
  }
 },
 "nbformat": 4,
 "nbformat_minor": 4
}
