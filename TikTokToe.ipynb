{
 "cells": [
  {
   "cell_type": "code",
   "execution_count": 1,
   "metadata": {},
   "outputs": [],
   "source": [
    "def play_1():\n",
    "    p = player_choice()\n",
    "    (v1,v2) = p\n",
    "    position1 =''\n",
    "    while position1 not in range(1,9):\n",
    "        position1 = input(f'Enter the area where Player 1 need to put the {v1} :')\n",
    "        if position1.isdigit() ==False or position1== '0' :\n",
    "            print('Please enter a valid Digit !')\n",
    "        else:\n",
    "            break\n",
    "    return int(position1)\n",
    "        \n",
    "    "
   ]
  },
  {
   "cell_type": "code",
   "execution_count": 2,
   "metadata": {},
   "outputs": [],
   "source": [
    "def play_2():\n",
    "    p = player_choice()\n",
    "    (v1,v2) = p\n",
    "    position2 =''\n",
    "    while position2 not in range(1,9):\n",
    "        position2 = input(f'Enter the area where Player 2 need to put the {v2} :')\n",
    "        if position2.isdigit() ==False or position2== '0' :\n",
    "            print('Please enter a valid Digit !')\n",
    "        else:\n",
    "            break\n",
    "    return int(position2)\n",
    "        "
   ]
  },
  {
   "cell_type": "code",
   "execution_count": 3,
   "metadata": {},
   "outputs": [],
   "source": [
    "def player_choice():   \n",
    "    player_1 = 'X'\n",
    "    player_2 = 'O'    \n",
    "    value_1 = player_1\n",
    "    value_2 = player_2\n",
    "    return (value_1,value_2)    "
   ]
  },
  {
   "cell_type": "code",
   "execution_count": 4,
   "metadata": {},
   "outputs": [],
   "source": [
    "def default_board(place):\n",
    "    board = ['#',' ',' ',' ',' ',' ',' ',' ',' ',' ']\n",
    "    print(place[7]+' | '+place[8] +' | '+place[9])\n",
    "    print(place[4]+' | '+place[5] +' | '+place[6])\n",
    "    print(place[1]+' | '+place[2] +' | '+place[3])"
   ]
  },
  {
   "cell_type": "code",
   "execution_count": 11,
   "metadata": {},
   "outputs": [],
   "source": [
    "def game1():\n",
    "    board = ['#',' ',' ',' ',' ',' ',' ',' ',' ',' ']\n",
    "    default_board(board)\n",
    "    life = True\n",
    "    life_2 = ''\n",
    "    while life:\n",
    "        life_3 =True\n",
    "        p1 = play_1()\n",
    "        board[p1] = 'X'\n",
    "        default_board(board)\n",
    "        if board[1]==board[2]==board[3]== 'X' or  board[4]==board[5]==board[6]== 'X' or  board[7]==board[8]==board[9]== 'X' or board[1]==board[4]==board[7]== 'X' or board[2]==board[5]==board[8]== 'X' or board[3]==board[6]==board[9]== 'X' or board[1]==board[5]==board[9]== 'X' or board[3]==board[5]==board[7]== 'X': \n",
    "            print('Congrats!, Player 1 Wins the game')\n",
    "            life = False\n",
    "            print('Game Over!')\n",
    "            break\n",
    "        elif (board[1]=='X'or board[1]=='O') and (board[2]=='X'or board[2]=='O') and (board[3]=='X'or board[3]=='O') and (board[4]=='X'or board[4]=='O')and (board[5]=='X'or board[5]=='O') and (board[6]=='X'or board[6]=='O') and (board[7]=='X'or board[7]=='O') and (board[8]=='X'or board[8]=='O')and (board[9]=='X'or board[9]=='O'):\n",
    "            print('The Match is draw !!')\n",
    "            choice =''\n",
    "            while choice != ('yes' or 'Yes') and choice!= ('No' or 'no'):\n",
    "                choice = input(\"\\ndo you wanna start the play ? : Yes or No \")\n",
    "                if choice not in ('yes','Yes','No','no'):\n",
    "                    print('Please enter a valid input !')\n",
    "                elif choice in ('No','no'):\n",
    "                    print('Thank You!, Play again if you want :)')\n",
    "                    life_2 = 'done'\n",
    "                    life = False\n",
    "                    break\n",
    "                else:\n",
    "                    life = True\n",
    "                    life_3 = False\n",
    "                    board = ['#',' ',' ',' ',' ',' ',' ',' ',' ',' ']            \n",
    "        if life_2 =='' and life_3 == True:            \n",
    "            p2 = play_2()\n",
    "            board[p2] = 'O'\n",
    "            default_board(board)\n",
    "            if board[1]==board[2]==board[3]== 'O' or board[4]==board[5]==board[6]== 'O' or board[7]==board[8]==board[9]== 'O' or board[1]==board[4]==board[7]== 'O' or board[2]==board[5]==board[8]== 'O' or board[3]==board[6]==board[9]== 'O' or board[1]==board[5]==board[9]== 'O' or board[3]==board[5]==board[7]== 'O':\n",
    "                print('Congrats!, Player 2 Wins the game')\n",
    "                life = False\n",
    "                print('Game Over!')"
   ]
  },
  {
   "cell_type": "code",
   "execution_count": 12,
   "metadata": {},
   "outputs": [
    {
     "name": "stdout",
     "output_type": "stream",
     "text": [
      "  |   |  \n",
      "  |   |  \n",
      "  |   |  \n",
      "Enter the area where Player 1 need to put the X :7\n",
      "X |   |  \n",
      "  |   |  \n",
      "  |   |  \n",
      "Enter the area where Player 2 need to put the O :8\n",
      "X | O |  \n",
      "  |   |  \n",
      "  |   |  \n",
      "Enter the area where Player 1 need to put the X :9\n",
      "X | O | X\n",
      "  |   |  \n",
      "  |   |  \n",
      "Enter the area where Player 2 need to put the O :5\n",
      "X | O | X\n",
      "  | O |  \n",
      "  |   |  \n",
      "Enter the area where Player 1 need to put the X :6\n",
      "X | O | X\n",
      "  | O | X\n",
      "  |   |  \n",
      "Enter the area where Player 2 need to put the O :2\n",
      "X | O | X\n",
      "  | O | X\n",
      "  | O |  \n",
      "Congrats!, Player 2 Wins the game\n",
      "Game Over!\n"
     ]
    }
   ],
   "source": [
    "game1()"
   ]
  },
  {
   "cell_type": "code",
   "execution_count": null,
   "metadata": {},
   "outputs": [],
   "source": []
  }
 ],
 "metadata": {
  "kernelspec": {
   "display_name": "Python 3",
   "language": "python",
   "name": "python3"
  },
  "language_info": {
   "codemirror_mode": {
    "name": "ipython",
    "version": 3
   },
   "file_extension": ".py",
   "mimetype": "text/x-python",
   "name": "python",
   "nbconvert_exporter": "python",
   "pygments_lexer": "ipython3",
   "version": "3.7.6"
  }
 },
 "nbformat": 4,
 "nbformat_minor": 4
}
