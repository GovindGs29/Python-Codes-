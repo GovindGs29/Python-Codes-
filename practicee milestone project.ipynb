{
 "cells": [
  {
   "cell_type": "code",
   "execution_count": 39,
   "metadata": {},
   "outputs": [],
   "source": [
    "def display_board(place):\n",
    "    \n",
    "    print(place[7]+' | '+place[8] +' | '+place[9])\n",
    "    print(place[4]+' | '+place[5] +' | '+place[6])\n",
    "    print(place[1]+' | '+place[2] +' | '+place[3])\n",
    "    print(\"\\nWelcome the TIC TOK TOE game!!\\n\")\n",
    "    "
   ]
  },
  {
   "cell_type": "code",
   "execution_count": 16,
   "metadata": {},
   "outputs": [],
   "source": [
    "board = ['#','','','','','','','','','']"
   ]
  },
  {
   "cell_type": "code",
   "execution_count": 17,
   "metadata": {},
   "outputs": [
    {
     "name": "stdout",
     "output_type": "stream",
     "text": [
      " |  | \n",
      " |  | \n",
      " |  | \n"
     ]
    }
   ],
   "source": [
    "display_board(board)"
   ]
  },
  {
   "cell_type": "code",
   "execution_count": 40,
   "metadata": {},
   "outputs": [],
   "source": [
    "def player_choice_2():\n",
    "    \n",
    "    design = ''\n",
    "    \n",
    "    while design!= 'X' and design!= 'O':\n",
    "        \n",
    "        design = input('Choose Player_1 Side you need to be play X or O :')\n",
    "        if design!= 'X' and design!= 'O': \n",
    "                       print('Sorry! , Please Enter the correct input!\\n')\n",
    "        \n",
    "        player_1 = design\n",
    "    if design == 'X':\n",
    "        print('\\nPlayer_1 Starts First')\n",
    "        player_2 = 'O'\n",
    "    else:\n",
    "        print('\\nPlayer_2 starts First')\n",
    "        player_2 = 'X'\n",
    "        \n",
    "    value_1 = player_1\n",
    "    value_2 = player_2\n",
    "    \n",
    "    return (value_1,value_2)\n",
    "    "
   ]
  },
  {
   "cell_type": "code",
   "execution_count": 50,
   "metadata": {},
   "outputs": [],
   "source": [
    "def change_boardvalue():\n",
    "    p = player_choice_2()\n",
    "    s = startplay()\n",
    "    (v1,v2)= p\n",
    "    \n",
    "\n",
    "    if s in ('yes','Yes'):\n",
    "        \n",
    "    \n",
    "        print(f'The Player 1 is {v1}')\n",
    "        print(f'The Player 2 is {v2}')\n",
    "        position =''\n",
    "        \n",
    "        while position not in range(1,9):\n",
    "            \n",
    "            if v1 == 'X'and v2 =='O':\n",
    "                print('The Player_1 Needs to be started : ')\n",
    "            \n",
    "                position = input(f'Enter the area where you need to put the {v1} :')\n",
    "                break\n",
    "            \n",
    "            elif v1 == 'O'and v2 =='X':\n",
    "                print('The Player_2 Needs to be started : ')\n",
    "                position = input(f'Enter the area where you need to put the {v2} :')\n",
    "                break\n",
    "            \n",
    "            elif position.isdigit() ==False or position== '0' :\n",
    "                \n",
    "                print('Please enter a valid Digit !')\n",
    "    \n",
    "            else:\n",
    "                break\n",
    "                \n",
    "        x = int(position)\n",
    "        \n",
    "        return x,v1,v2\n",
    "        \n",
    "    \n",
    "    "
   ]
  },
  {
   "cell_type": "code",
   "execution_count": 51,
   "metadata": {},
   "outputs": [],
   "source": [
    "def startplay():\n",
    "    choice =''\n",
    "    \n",
    "    while choice != ('yes' or 'Yes') and choice!= ('No' or 'no'):\n",
    "        choice = input(\"\\ndo you wanna start the play ? : Yes or No \")\n",
    "        \n",
    "        if choice not in ('yes','Yes','No','no'):\n",
    "            print('Please enter a valid input !')\n",
    "        elif choice in ('No','no'):\n",
    "            print('Thank You!, Play again if you want :)')\n",
    "            break\n",
    "        else:\n",
    "            return choice"
   ]
  },
  {
   "cell_type": "code",
   "execution_count": 54,
   "metadata": {},
   "outputs": [],
   "source": [
    "def placing_value():\n",
    "    \n",
    "    board = ['#',' ',' ',' ',' ',' ',' ',' ',' ',' ']\n",
    "    \n",
    "    d = display_board(board)\n",
    "    fill_out = True\n",
    "    \n",
    "    while fill_out is True:\n",
    "        \n",
    "        \n",
    "        \n",
    "        c = change_boardvalue()\n",
    "        \n",
    "        (V,P1,P2) = c\n",
    "        \n",
    "        value = V\n",
    "        \n",
    "        if P1 == 'X':\n",
    "            choosen = 'X'\n",
    "        else:\n",
    "            choosen = 'O'\n",
    "            \n",
    "        board[value] = choosen\n",
    "        \n",
    "        print('\\n')\n",
    "        \n",
    "        display_board(board)\n",
    "    \n",
    "    "
   ]
  },
  {
   "cell_type": "code",
   "execution_count": null,
   "metadata": {},
   "outputs": [
    {
     "name": "stdout",
     "output_type": "stream",
     "text": [
      "  |   |  \n",
      "  |   |  \n",
      "  |   |  \n",
      "\n",
      "Welcome the TIC TOK TOE game!!\n",
      "\n",
      "Choose Player_1 Side you need to be play X or O :X\n",
      "\n",
      "Player_1 Starts First\n",
      "\n",
      "do you wanna start the play ? : Yes or No yes\n",
      "The Player 1 is X\n",
      "The Player 2 is O\n",
      "The Player_1 Needs to be started : \n",
      "Enter the area where you need to put the X :5\n",
      "\n",
      "\n",
      "  |   |  \n",
      "  | X |  \n",
      "  |   |  \n",
      "\n",
      "Welcome the TIC TOK TOE game!!\n",
      "\n"
     ]
    }
   ],
   "source": [
    "placing_value()"
   ]
  },
  {
   "cell_type": "code",
   "execution_count": 1,
   "metadata": {},
   "outputs": [],
   "source": [
    "def player_choice_3():\n",
    "    \n",
    "        \n",
    "    player_1 = 'X'\n",
    "    player_2 = 'O'\n",
    "        \n",
    "    value_1 = player_1\n",
    "    value_2 = player_2\n",
    "    \n",
    "    return (value_1,value_2)\n",
    "    "
   ]
  },
  {
   "cell_type": "code",
   "execution_count": null,
   "metadata": {},
   "outputs": [],
   "source": [
    "def game_time():\n",
    "    \n",
    "    \n",
    "    "
   ]
  }
 ],
 "metadata": {
  "kernelspec": {
   "display_name": "Python 3",
   "language": "python",
   "name": "python3"
  },
  "language_info": {
   "codemirror_mode": {
    "name": "ipython",
    "version": 3
   },
   "file_extension": ".py",
   "mimetype": "text/x-python",
   "name": "python",
   "nbconvert_exporter": "python",
   "pygments_lexer": "ipython3",
   "version": "3.7.6"
  }
 },
 "nbformat": 4,
 "nbformat_minor": 4
}
