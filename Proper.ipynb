{
 "cells": [
  {
   "cell_type": "code",
   "execution_count": 13,
   "metadata": {},
   "outputs": [],
   "source": [
    "def display_board(place):\n",
    "    \n",
    "    print(place[7]+' | '+place[8] +' | '+place[9])\n",
    "    print(place[4]+' | '+place[5] +' | '+place[6])\n",
    "    print(place[1]+' | '+place[2] +' | '+place[3])"
   ]
  },
  {
   "cell_type": "code",
   "execution_count": 14,
   "metadata": {},
   "outputs": [],
   "source": [
    "board = ['#','','','','','','','','','']"
   ]
  },
  {
   "cell_type": "code",
   "execution_count": 15,
   "metadata": {},
   "outputs": [
    {
     "name": "stdout",
     "output_type": "stream",
     "text": [
      " |  | \n",
      " |  | \n",
      " |  | \n"
     ]
    }
   ],
   "source": [
    "display_board(board)"
   ]
  },
  {
   "cell_type": "code",
   "execution_count": 16,
   "metadata": {},
   "outputs": [],
   "source": [
    "def player_choice_2():\n",
    "    \n",
    "    design = ''\n",
    "    \n",
    "    print(\"\\nWelcome the TIC TOK TOE game!!\\n\")\n",
    "    \n",
    "    while design!= 'X' and design!= 'O':\n",
    "        \n",
    "        design = input('Choose Player_1 Side you need to be play X or O :')\n",
    "        if design!= 'X' and design!= 'O': \n",
    "                       print('Sorry! , Please Enter the correct input!\\n')\n",
    "        \n",
    "        player_1 = design\n",
    "    if design == 'X':\n",
    "        print('\\nPlayer_1 Starts First')\n",
    "        player_2 = 'O'\n",
    "    else:\n",
    "        print('\\nPlayer_2 starts First')\n",
    "        player_2 = 'X'\n",
    "        \n",
    "    value_1 = player_1\n",
    "    value_2 = player_2\n",
    "    \n",
    "    return (value_1,value_2)\n",
    "    "
   ]
  },
  {
   "cell_type": "code",
   "execution_count": 45,
   "metadata": {},
   "outputs": [],
   "source": [
    "def change_boardvalue():\n",
    "    \n",
    "    d = display_board(board)\n",
    "    p = player_choice_2()\n",
    "    s = startplay()\n",
    "    (v1,v2)= p\n",
    "    \n",
    "\n",
    "    if s in ('yes','Yes'):\n",
    "        \n",
    "    \n",
    "        print(f'The Player 1 is {v1}')\n",
    "        print(f'The Player 2 is {v2}')\n",
    "        \n",
    "        if v1 == 'X'and v2 =='O':\n",
    "            print('The Player_1 Needs to be started : ')\n",
    "        else:\n",
    "            print('The Player_2 Needs to be started : ')\n",
    "        \n",
    "        position =''\n",
    "        \n",
    "        while position not in range(1,9):\n",
    "            \n",
    "            position = input('Enter the area where you need to put the X :')\n",
    "            \n",
    "            if position.isdigit() ==False or position== '0' :\n",
    "                \n",
    "                print('Please enter a valid Digit !')\n",
    "    \n",
    "            else:\n",
    "                break\n",
    "                \n",
    "        x = int(position)\n",
    "        \n",
    "        return x\n",
    "        \n",
    "    \n",
    "    "
   ]
  },
  {
   "cell_type": "code",
   "execution_count": 46,
   "metadata": {},
   "outputs": [],
   "source": [
    "def startplay():\n",
    "    choice =''\n",
    "    \n",
    "    while choice != ('yes' or 'Yes') and choice!= ('No' or 'no'):\n",
    "        choice = input(\"\\ndo you wanna start the play ? : Yes or No \")\n",
    "        \n",
    "        if choice not in ('yes','Yes','No','no'):\n",
    "            print('Please enter a valid input !')\n",
    "        elif choice in ('No','no'):\n",
    "            print('Thank You!, Play again if you want :)')\n",
    "            break\n",
    "        else:\n",
    "            return choice"
   ]
  },
  {
   "cell_type": "code",
   "execution_count": 47,
   "metadata": {},
   "outputs": [
    {
     "name": "stdout",
     "output_type": "stream",
     "text": [
      " |  | \n",
      " |  | \n",
      " |  | \n",
      "\n",
      "Welcome the TIC TOK TOE game!!\n",
      "\n",
      "Choose Player_1 Side you need to be play X or O :X\n",
      "\n",
      "Player_1 Starts First\n",
      "\n",
      "do you wanna start the play ? : Yes or No Yes\n",
      "The Player 1 is X\n",
      "The Player 2 is O\n",
      "The Player_1 Needs to be started : \n",
      "Enter the area where you need to put the X :5\n"
     ]
    },
    {
     "data": {
      "text/plain": [
       "5"
      ]
     },
     "execution_count": 47,
     "metadata": {},
     "output_type": "execute_result"
    }
   ],
   "source": [
    "change_boardvalue()"
   ]
  },
  {
   "cell_type": "code",
   "execution_count": 1,
   "metadata": {},
   "outputs": [
    {
     "ename": "IndentationError",
     "evalue": "unexpected indent (<ipython-input-1-e99a48577e43>, line 8)",
     "output_type": "error",
     "traceback": [
      "\u001b[1;36m  File \u001b[1;32m\"<ipython-input-1-e99a48577e43>\"\u001b[1;36m, line \u001b[1;32m8\u001b[0m\n\u001b[1;33m    break\u001b[0m\n\u001b[1;37m    ^\u001b[0m\n\u001b[1;31mIndentationError\u001b[0m\u001b[1;31m:\u001b[0m unexpected indent\n"
     ]
    }
   ],
   "source": [
    "def value_get():\n",
    "    p = player_choice_3()\n",
    "    (v1,v2) = p\n",
    "    position=''\n",
    "    while position not in range(1,9):\n",
    "        position1 = input(f'Enter the area where you need to put the {v1} :')\n",
    "            \n",
    "            break\n",
    "        elif v1 == 'O'and v2 =='X':\n",
    "            print('The Player_2 Needs to be play : ')\n",
    "            position = input(f'Enter the area where you need to put the {v2} :')\n",
    "            break\n",
    "        elif position.isdigit() ==False or position== '0' :\n",
    "            print('Please enter a valid Digit !')\n",
    "        else:\n",
    "            break\n",
    "    x = int(position)\n",
    "    return x,v1,v2"
   ]
  },
  {
   "cell_type": "code",
   "execution_count": 2,
   "metadata": {},
   "outputs": [],
   "source": [
    "def player_choice():   \n",
    "    player_1 = 'X'\n",
    "    player_2 = 'O'    \n",
    "    value_1 = player_1\n",
    "    value_2 = player_2\n",
    "    return (value_1,value_2)    "
   ]
  },
  {
   "cell_type": "code",
   "execution_count": 3,
   "metadata": {},
   "outputs": [],
   "source": [
    "def placing_value():\n",
    "    l = True\n",
    "    while l == True:\n",
    "        p = player_choice_3()\n",
    "        x = value_get()\n",
    "        (v,v1,v1) = x\n",
    "        value = v\n",
    "        if v1 == 'X':\n",
    "            choosen = 'X'\n",
    "        else:\n",
    "            choosen = 'O'        \n",
    "        board[value] = choosen\n",
    "            \n",
    "        print('\\n')\n",
    "            \n",
    "        default_board(board)\n",
    "    \n",
    "    "
   ]
  },
  {
   "cell_type": "code",
   "execution_count": 4,
   "metadata": {},
   "outputs": [],
   "source": [
    "def game():\n",
    "    board = ['#',' ',' ',' ',' ',' ',' ',' ',' ',' ']\n",
    "    default_board(board)\n",
    "    life = True\n",
    "    while life:\n",
    "        p1 = play_1()\n",
    "        board[p1] = 'X'\n",
    "        default_board(board)\n",
    "        p2 = play_2()\n",
    "        board[p2] = 'O'\n",
    "        default_board(board)\n",
    "        \n",
    "        "
   ]
  },
  {
   "cell_type": "code",
   "execution_count": 5,
   "metadata": {},
   "outputs": [],
   "source": [
    "def game():\n",
    "    board = ['#',' ',' ',' ',' ',' ',' ',' ',' ',' ']\n",
    "    default_board(board)\n",
    "    life = True\n",
    "    while life:\n",
    "        p1 = play_1()\n",
    "        board[p1] = 'X'\n",
    "        default_board(board)\n",
    "        if board[1]==board[2]==board[3]== 'X' or  board[4]==board[5]==board[6]== 'X' or  board[7]==board[8]==board[9]== 'X' or board[1]==board[4]==board[7]== 'X' or board[2]==board[5]==board[8]== 'X' or board[3]==board[6]==board[9]== 'X':\n",
    "            \n",
    "            print('Player 1 Wins the game')\n",
    "            life = False\n",
    "            print('Game Over!')\n",
    "            return life\n",
    "        p2 = play_2()\n",
    "        board[p2] = 'O'\n",
    "        default_board(board)\n",
    "        if board[1]==board[2]==board[3]== 'O' or board[4]==board[5]==board[6]== 'O' or board[7]==board[8]==board[9]== 'O' or board[1]==board[4]==board[7]== 'O' or board[2]==board[5]==board[8]== 'O' or board[3]==board[6]==board[9]== 'O':\n",
    "            print('Player 2 Wins the game')\n",
    "            life = False\n",
    "            print('Game Over!')  \n",
    "            return life"
   ]
  },
  {
   "cell_type": "code",
   "execution_count": 6,
   "metadata": {},
   "outputs": [],
   "source": [
    "def game():\n",
    "    board = ['#',' ',' ',' ',' ',' ',' ',' ',' ',' ']\n",
    "    default_board(board)\n",
    "    life = True\n",
    "    while life:\n",
    "        p1 = play_1()\n",
    "        board[p1] = 'X'\n",
    "        default_board(board)\n",
    "        if board[1]==board[2]==board[3]== 'X' or  board[4]==board[5]==board[6]== 'X' or  board[7]==board[8]==board[9]== 'X' or board[1]==board[4]==board[7]== 'X' or board[2]==board[5]==board[8]== 'X' or board[3]==board[6]==board[9]== 'X' or board[1]==board[5]==board[9]== 'X' or board[3]==board[5]==board[7]== 'X': \n",
    "            print('Player 1 Wins the game')\n",
    "            life = False\n",
    "            print('Game Over!')\n",
    "            break\n",
    "        p2 = play_2()\n",
    "        board[p2] = 'O'\n",
    "        default_board(board)\n",
    "        if board[1]==board[2]==board[3]== 'O' or board[4]==board[5]==board[6]== 'O' or board[7]==board[8]==board[9]== 'O' or board[1]==board[4]==board[7]== 'O' or board[2]==board[5]==board[8]== 'O' or board[3]==board[6]==board[9]== 'O' or board[1]==board[5]==board[9]== 'O' or board[3]==board[5]==board[7]== 'O':\n",
    "            print('Player 2 Wins the game')\n",
    "            life = False\n",
    "            print('Game Over!')"
   ]
  },
  {
   "cell_type": "code",
   "execution_count": 7,
   "metadata": {},
   "outputs": [
    {
     "ename": "NameError",
     "evalue": "name 'board' is not defined",
     "output_type": "error",
     "traceback": [
      "\u001b[1;31m---------------------------------------------------------------------------\u001b[0m",
      "\u001b[1;31mNameError\u001b[0m                                 Traceback (most recent call last)",
      "\u001b[1;32m<ipython-input-7-21c0814f0b26>\u001b[0m in \u001b[0;36m<module>\u001b[1;34m\u001b[0m\n\u001b[1;32m----> 1\u001b[1;33m \u001b[1;32mif\u001b[0m \u001b[0mboard\u001b[0m\u001b[1;33m[\u001b[0m\u001b[1;36m1\u001b[0m\u001b[1;33m]\u001b[0m\u001b[1;33m==\u001b[0m\u001b[1;34m'X'\u001b[0m\u001b[1;32mor\u001b[0m \u001b[0mboard\u001b[0m\u001b[1;33m[\u001b[0m\u001b[1;36m1\u001b[0m\u001b[1;33m]\u001b[0m\u001b[1;33m==\u001b[0m\u001b[1;34m'O'\u001b[0m \u001b[1;32mand\u001b[0m \u001b[0mboard\u001b[0m\u001b[1;33m[\u001b[0m\u001b[1;36m2\u001b[0m\u001b[1;33m]\u001b[0m\u001b[1;33m==\u001b[0m\u001b[1;34m'X'\u001b[0m\u001b[1;32mor\u001b[0m \u001b[0mboard\u001b[0m\u001b[1;33m[\u001b[0m\u001b[1;36m2\u001b[0m\u001b[1;33m]\u001b[0m\u001b[1;33m==\u001b[0m\u001b[1;34m'O'\u001b[0m \u001b[1;32mand\u001b[0m \u001b[0mboard\u001b[0m\u001b[1;33m[\u001b[0m\u001b[1;36m3\u001b[0m\u001b[1;33m]\u001b[0m\u001b[1;33m==\u001b[0m\u001b[1;34m'X'\u001b[0m\u001b[1;32mor\u001b[0m \u001b[0mboard\u001b[0m\u001b[1;33m[\u001b[0m\u001b[1;36m3\u001b[0m\u001b[1;33m]\u001b[0m\u001b[1;33m==\u001b[0m\u001b[1;34m'O'\u001b[0m \u001b[1;32mand\u001b[0m \u001b[0mboard\u001b[0m\u001b[1;33m[\u001b[0m\u001b[1;36m4\u001b[0m\u001b[1;33m]\u001b[0m\u001b[1;33m==\u001b[0m\u001b[1;34m'X'\u001b[0m\u001b[1;32mor\u001b[0m \u001b[0mboard\u001b[0m\u001b[1;33m[\u001b[0m\u001b[1;36m4\u001b[0m\u001b[1;33m]\u001b[0m\u001b[1;33m==\u001b[0m\u001b[1;34m'O'\u001b[0m\u001b[1;32mand\u001b[0m \u001b[0mboard\u001b[0m\u001b[1;33m[\u001b[0m\u001b[1;36m5\u001b[0m\u001b[1;33m]\u001b[0m\u001b[1;33m==\u001b[0m\u001b[1;34m'X'\u001b[0m\u001b[1;32mor\u001b[0m \u001b[0mboard\u001b[0m\u001b[1;33m[\u001b[0m\u001b[1;36m5\u001b[0m\u001b[1;33m]\u001b[0m\u001b[1;33m==\u001b[0m\u001b[1;34m'O'\u001b[0m \u001b[1;32mand\u001b[0m \u001b[0mboard\u001b[0m\u001b[1;33m[\u001b[0m\u001b[1;36m6\u001b[0m\u001b[1;33m]\u001b[0m\u001b[1;33m==\u001b[0m\u001b[1;34m'X'\u001b[0m\u001b[1;32mor\u001b[0m \u001b[0mboard\u001b[0m\u001b[1;33m[\u001b[0m\u001b[1;36m6\u001b[0m\u001b[1;33m]\u001b[0m\u001b[1;33m==\u001b[0m\u001b[1;34m'O'\u001b[0m \u001b[1;32mand\u001b[0m \u001b[0mboard\u001b[0m\u001b[1;33m[\u001b[0m\u001b[1;36m7\u001b[0m\u001b[1;33m]\u001b[0m\u001b[1;33m==\u001b[0m\u001b[1;34m'X'\u001b[0m\u001b[1;32mor\u001b[0m \u001b[0mboard\u001b[0m\u001b[1;33m[\u001b[0m\u001b[1;36m7\u001b[0m\u001b[1;33m]\u001b[0m\u001b[1;33m==\u001b[0m\u001b[1;34m'O'\u001b[0m \u001b[1;32mand\u001b[0m \u001b[0mboard\u001b[0m\u001b[1;33m[\u001b[0m\u001b[1;36m8\u001b[0m\u001b[1;33m]\u001b[0m\u001b[1;33m==\u001b[0m\u001b[1;34m'X'\u001b[0m\u001b[1;32mor\u001b[0m \u001b[0mboard\u001b[0m\u001b[1;33m[\u001b[0m\u001b[1;36m8\u001b[0m\u001b[1;33m]\u001b[0m\u001b[1;33m==\u001b[0m\u001b[1;34m'O'\u001b[0m\u001b[1;32mand\u001b[0m \u001b[0mboard\u001b[0m\u001b[1;33m[\u001b[0m\u001b[1;36m9\u001b[0m\u001b[1;33m]\u001b[0m\u001b[1;33m==\u001b[0m\u001b[1;34m'X'\u001b[0m\u001b[1;32mor\u001b[0m \u001b[0mboard\u001b[0m\u001b[1;33m[\u001b[0m\u001b[1;36m9\u001b[0m\u001b[1;33m]\u001b[0m\u001b[1;33m==\u001b[0m\u001b[1;34m'O'\u001b[0m\u001b[1;33m:\u001b[0m\u001b[1;33m\u001b[0m\u001b[1;33m\u001b[0m\u001b[0m\n\u001b[0m\u001b[0;32m      2\u001b[0m             \u001b[0mprint\u001b[0m\u001b[1;33m(\u001b[0m\u001b[1;34m'The Match is draw !!'\u001b[0m\u001b[1;33m)\u001b[0m\u001b[1;33m\u001b[0m\u001b[1;33m\u001b[0m\u001b[0m\n",
      "\u001b[1;31mNameError\u001b[0m: name 'board' is not defined"
     ]
    }
   ],
   "source": [
    "if board[1]=='X'or board[1]=='O' and board[2]=='X'or board[2]=='O' and board[3]=='X'or board[3]=='O' and board[4]=='X'or board[4]=='O'and board[5]=='X'or board[5]=='O' and board[6]=='X'or board[6]=='O' and board[7]=='X'or board[7]=='O' and board[8]=='X'or board[8]=='O'and board[9]=='X'or board[9]=='O':\n",
    "            print('The Match is draw !!')"
   ]
  },
  {
   "cell_type": "code",
   "execution_count": 23,
   "metadata": {},
   "outputs": [],
   "source": [
    "board = ['#','X','O','X','O','X','X','O','X','O']"
   ]
  },
  {
   "cell_type": "code",
   "execution_count": 24,
   "metadata": {},
   "outputs": [
    {
     "name": "stdout",
     "output_type": "stream",
     "text": [
      "The Match is draw !!\n"
     ]
    }
   ],
   "source": [
    "if (board[1]=='X'or board[1]=='O') and (board[2]=='X'or board[2]=='O') and (board[3]=='X'or board[3]=='O') and (board[4]=='X'or board[4]=='O')and (board[5]=='X'or board[5]=='O') and (board[6]=='X'or board[6]=='O') and (board[7]=='X'or board[7]=='O') and (board[8]=='X'or board[8]=='O')and (board[9]=='X'or board[9]=='O'):\n",
    "            print('The Match is draw !!')"
   ]
  },
  {
   "cell_type": "code",
   "execution_count": null,
   "metadata": {},
   "outputs": [],
   "source": [
    "def game1():\n",
    "    board = ['#',' ',' ',' ',' ',' ',' ',' ',' ',' ']\n",
    "    default_board(board)\n",
    "    life = True\n",
    "    life_2 = ''\n",
    "    while life:\n",
    "        p1 = play_1()\n",
    "        board[p1] = 'X'\n",
    "        default_board(board)\n",
    "        if board[1]==board[2]==board[3]== 'X' or  board[4]==board[5]==board[6]== 'X' or  board[7]==board[8]==board[9]== 'X' or board[1]==board[4]==board[7]== 'X' or board[2]==board[5]==board[8]== 'X' or board[3]==board[6]==board[9]== 'X' or board[1]==board[5]==board[9]== 'X' or board[3]==board[5]==board[7]== 'X': \n",
    "            print('Congrats!, Player 1 Wins the game')\n",
    "            life = False\n",
    "            print('Game Over!')\n",
    "            break\n",
    "        elif (board[1]=='X'or board[1]=='O') and (board[2]=='X'or board[2]=='O') and (board[3]=='X'or board[3]=='O') and (board[4]=='X'or board[4]=='O')and (board[5]=='X'or board[5]=='O') and (board[6]=='X'or board[6]=='O') and (board[7]=='X'or board[7]=='O') and (board[8]=='X'or board[8]=='O')and (board[9]=='X'or board[9]=='O'):\n",
    "            print('The Match is draw !!')\n",
    "            choice =''\n",
    "            while choice != ('yes' or 'Yes') and choice!= ('No' or 'no'):\n",
    "                choice = input(\"\\ndo you wanna start the play ? : Yes or No \")\n",
    "                if choice not in ('yes','Yes','No','no'):\n",
    "                    print('Please enter a valid input !')\n",
    "                elif choice in ('No','no'):\n",
    "                    print('Thank You!, Play again if you want :)')\n",
    "                    life_2 = 'done'\n",
    "                    life = False\n",
    "                    break\n",
    "                else:\n",
    "                    life = True\n",
    "                    board = ['#',' ',' ',' ',' ',' ',' ',' ',' ',' ']\n",
    "        if life_2 =='':            \n",
    "            p2 = play_2()\n",
    "            board[p2] = 'O'\n",
    "            default_board(board)\n",
    "            if board[1]==board[2]==board[3]== 'O' or board[4]==board[5]==board[6]== 'O' or board[7]==board[8]==board[9]== 'O' or board[1]==board[4]==board[7]== 'O' or board[2]==board[5]==board[8]== 'O' or board[3]==board[6]==board[9]== 'O' or board[1]==board[5]==board[9]== 'O' or board[3]==board[5]==board[7]== 'O':\n",
    "                print('Congrats!, Player 2 Wins the game')\n",
    "                life = False\n",
    "                print('Game Over!')\n",
    "        \n",
    "         \n",
    "        \n",
    "        "
   ]
  },
  {
   "cell_type": "code",
   "execution_count": 25,
   "metadata": {},
   "outputs": [],
   "source": [
    "def game1():\n",
    "    board = ['#',' ',' ',' ',' ',' ',' ',' ',' ',' ']\n",
    "    default_board(board)\n",
    "    life = True\n",
    "    life_2 = ''\n",
    "    life_3 =True\n",
    "    while life:\n",
    "        p1 = play_1()\n",
    "        board[p1] = 'X'\n",
    "        default_board(board)\n",
    "        if board[1]==board[2]==board[3]== 'X' or  board[4]==board[5]==board[6]== 'X' or  board[7]==board[8]==board[9]== 'X' or board[1]==board[4]==board[7]== 'X' or board[2]==board[5]==board[8]== 'X' or board[3]==board[6]==board[9]== 'X' or board[1]==board[5]==board[9]== 'X' or board[3]==board[5]==board[7]== 'X': \n",
    "            print('Congrats!, Player 1 Wins the game')\n",
    "            life = False\n",
    "            print('Game Over!')\n",
    "            break\n",
    "        elif (board[1]=='X'or board[1]=='O') and (board[2]=='X'or board[2]=='O') and (board[3]=='X'or board[3]=='O') and (board[4]=='X'or board[4]=='O')and (board[5]=='X'or board[5]=='O') and (board[6]=='X'or board[6]=='O') and (board[7]=='X'or board[7]=='O') and (board[8]=='X'or board[8]=='O')and (board[9]=='X'or board[9]=='O'):\n",
    "            print('The Match is draw !!')\n",
    "            choice =''\n",
    "            while choice != ('yes' or 'Yes') and choice!= ('No' or 'no'):\n",
    "                choice = input(\"\\ndo you wanna start the play ? : Yes or No \")\n",
    "                if choice not in ('yes','Yes','No','no'):\n",
    "                    print('Please enter a valid input !')\n",
    "                elif choice in ('No','no'):\n",
    "                    print('Thank You!, Play again if you want :)')\n",
    "                    life_2 = 'done'\n",
    "                    life = False\n",
    "                    break\n",
    "                else:\n",
    "                    life = True\n",
    "                    life_3 = False\n",
    "                    board = ['#',' ',' ',' ',' ',' ',' ',' ',' ',' ']            \n",
    "        if life_2 =='' and life_3 == True:            \n",
    "            p2 = play_2()\n",
    "            board[p2] = 'O'\n",
    "            default_board(board)\n",
    "            if board[1]==board[2]==board[3]== 'O' or board[4]==board[5]==board[6]== 'O' or board[7]==board[8]==board[9]== 'O' or board[1]==board[4]==board[7]== 'O' or board[2]==board[5]==board[8]== 'O' or board[3]==board[6]==board[9]== 'O' or board[1]==board[5]==board[9]== 'O' or board[3]==board[5]==board[7]== 'O':\n",
    "                print('Congrats!, Player 2 Wins the game')\n",
    "                life = False\n",
    "                print('Game Over!')\n",
    "        \n",
    "         \n",
    "        \n",
    "        "
   ]
  },
  {
   "cell_type": "code",
   "execution_count": 26,
   "metadata": {},
   "outputs": [],
   "source": [
    "def game1():\n",
    "    board = ['#',' ',' ',' ',' ',' ',' ',' ',' ',' ']\n",
    "    default_board(board)\n",
    "    life = True\n",
    "    life_2 = ''\n",
    "    while life:\n",
    "        life_3 =True\n",
    "        p1 = play_1()\n",
    "        board[p1] = 'X'\n",
    "        default_board(board)\n",
    "        if board[1]==board[2]==board[3]== 'X' or  board[4]==board[5]==board[6]== 'X' or  board[7]==board[8]==board[9]== 'X' or board[1]==board[4]==board[7]== 'X' or board[2]==board[5]==board[8]== 'X' or board[3]==board[6]==board[9]== 'X' or board[1]==board[5]==board[9]== 'X' or board[3]==board[5]==board[7]== 'X': \n",
    "            print('Congrats!, Player 1 Wins the game')\n",
    "            life = False\n",
    "            print('Game Over!')\n",
    "            break\n",
    "        elif (board[1]=='X'or board[1]=='O') and (board[2]=='X'or board[2]=='O') and (board[3]=='X'or board[3]=='O') and (board[4]=='X'or board[4]=='O')and (board[5]=='X'or board[5]=='O') and (board[6]=='X'or board[6]=='O') and (board[7]=='X'or board[7]=='O') and (board[8]=='X'or board[8]=='O')and (board[9]=='X'or board[9]=='O'):\n",
    "            print('The Match is draw !!')\n",
    "            choice =''\n",
    "            while choice != ('yes' or 'Yes') and choice!= ('No' or 'no'):\n",
    "                choice = input(\"\\ndo you wanna start the play ? : Yes or No \")\n",
    "                if choice not in ('yes','Yes','No','no'):\n",
    "                    print('Please enter a valid input !')\n",
    "                elif choice in ('No','no'):\n",
    "                    print('Thank You!, Play again if you want :)')\n",
    "                    life_2 = 'done'\n",
    "                    life = False\n",
    "                    break\n",
    "                else:\n",
    "                    life = True\n",
    "                    life_3 = False\n",
    "                    board = ['#',' ',' ',' ',' ',' ',' ',' ',' ',' ']            \n",
    "        if life_2 =='' and life_3 == True:            \n",
    "            p2 = play_2()\n",
    "            board[p2] = 'O'\n",
    "            default_board(board)\n",
    "            if board[1]==board[2]==board[3]== 'O' or board[4]==board[5]==board[6]== 'O' or board[7]==board[8]==board[9]== 'O' or board[1]==board[4]==board[7]== 'O' or board[2]==board[5]==board[8]== 'O' or board[3]==board[6]==board[9]== 'O' or board[1]==board[5]==board[9]== 'O' or board[3]==board[5]==board[7]== 'O':\n",
    "                print('Congrats!, Player 2 Wins the game')\n",
    "                life = False\n",
    "                print('Game Over!')"
   ]
  },
  {
   "cell_type": "code",
   "execution_count": 27,
   "metadata": {},
   "outputs": [],
   "source": [
    "def game2():\n",
    "    board = ['#',' ',' ',' ',' ',' ',' ',' ',' ',' ']\n",
    "    default_board(board)\n",
    "    life = True\n",
    "    while life:\n",
    "        p1 = play_1()\n",
    "        board[p1] = 'X'\n",
    "        default_board(board)\n",
    "        if board[1]==board[2]==board[3]== 'X' or  board[4]==board[5]==board[6]== 'X' or  board[7]==board[8]==board[9]== 'X' or board[1]==board[4]==board[7]== 'X' or board[2]==board[5]==board[8]== 'X' or board[3]==board[6]==board[9]== 'X' or board[1]==board[5]==board[9]== 'X' or board[3]==board[5]==board[7]== 'X': \n",
    "            print('Player 1 Wins the game')\n",
    "            life = False\n",
    "            print('Game Over!')\n",
    "            break\n",
    "        p2 = play_2()\n",
    "        board[p2] = 'O'\n",
    "        default_board(board)\n",
    "        if board[1]==board[2]==board[3]== 'O' or board[4]==board[5]==board[6]== 'O' or board[7]==board[8]==board[9]== 'O' or board[1]==board[4]==board[7]== 'O' or board[2]==board[5]==board[8]== 'O' or board[3]==board[6]==board[9]== 'O' or board[1]==board[5]==board[9]== 'O' or board[3]==board[5]==board[7]== 'O':\n",
    "            print('Player 2 Wins the game')\n",
    "            life = False\n",
    "            print('Game Over!')\n",
    "    choice =''\n",
    "    while choice != ('yes' or 'Yes') and choice!= ('No' or 'no'):\n",
    "        if (board[1]=='X'or board[1]=='O') and (board[2]=='X'or board[2]=='O') and (board[3]=='X'or board[3]=='O') and (board[4]=='X'or board[4]=='O')and (board[5]=='X'or board[5]=='O') and (board[6]=='X'or board[6]=='O') and (board[7]=='X'or board[7]=='O') and (board[8]=='X'or board[8]=='O')and (board[9]=='X'or board[9]=='O'):\n",
    "            print('The Match is draw !!')\n",
    "        choice = input(\"\\ndo you wanna start the play ? : Yes or No \")\n",
    "        \n",
    "        if choice not in ('yes','Yes','No','no'):\n",
    "            print('Please enter a valid input !')\n",
    "        elif choice in ('No','no'):\n",
    "            print('Thank You!, Play again if you want :)')\n",
    "            break\n",
    "        \n",
    "        "
   ]
  },
  {
   "cell_type": "code",
   "execution_count": 28,
   "metadata": {},
   "outputs": [],
   "source": [
    "def check():\n",
    "    choice =''\n",
    "    while choice != ('yes' or 'Yes') and choice!= ('No' or 'no'):\n",
    "        if board[1]=='X'or board[1]=='O' and board[2]=='X'or board[2]=='O' and board[3]=='X'or board[3]=='O' and board[4]=='X'or board[4]=='O'and board[5]=='X'or board[5]=='O' and board[6]=='X'or board[6]=='O' and board[7]=='X'or board[7]=='O' and board[8]=='X'or board[8]=='O'and board[9]=='X'or board[9]=='O':\n",
    "            print('The Match is draw !!')\n",
    "        choice = input(\"\\ndo you wanna start the play ? : Yes or No \")\n",
    "        \n",
    "        if choice not in ('yes','Yes','No','no'):\n",
    "            print('Please enter a valid input !')\n",
    "        elif choice in ('No','no'):\n",
    "            print('Thank You!, Play again if you want :)')\n",
    "            break"
   ]
  },
  {
   "cell_type": "code",
   "execution_count": null,
   "metadata": {},
   "outputs": [],
   "source": []
  }
 ],
 "metadata": {
  "kernelspec": {
   "display_name": "Python 3",
   "language": "python",
   "name": "python3"
  },
  "language_info": {
   "codemirror_mode": {
    "name": "ipython",
    "version": 3
   },
   "file_extension": ".py",
   "mimetype": "text/x-python",
   "name": "python",
   "nbconvert_exporter": "python",
   "pygments_lexer": "ipython3",
   "version": "3.7.6"
  }
 },
 "nbformat": 4,
 "nbformat_minor": 4
}
