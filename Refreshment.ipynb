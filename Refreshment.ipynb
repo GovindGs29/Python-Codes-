{
 "cells": [
  {
   "cell_type": "code",
   "execution_count": 1,
   "metadata": {},
   "outputs": [],
   "source": [
    "# THALAIVA PLEASE ALWAYS GUIDE ME"
   ]
  },
  {
   "cell_type": "code",
   "execution_count": 10,
   "metadata": {
    "scrolled": true
   },
   "outputs": [
    {
     "ename": "SyntaxError",
     "evalue": "invalid syntax (<ipython-input-10-9a35e168ab83>, line 1)",
     "output_type": "error",
     "traceback": [
      "\u001b[1;36m  File \u001b[1;32m\"<ipython-input-10-9a35e168ab83>\"\u001b[1;36m, line \u001b[1;32m1\u001b[0m\n\u001b[1;33m    print(\"Hello this is an example of string formating %s\", %'Govind')# , i must not be included\u001b[0m\n\u001b[1;37m                                                             ^\u001b[0m\n\u001b[1;31mSyntaxError\u001b[0m\u001b[1;31m:\u001b[0m invalid syntax\n"
     ]
    }
   ],
   "source": [
    "print(\"Hello this is an example of string formating %s\", %'Govind')# , i must not be included"
   ]
  },
  {
   "cell_type": "code",
   "execution_count": 11,
   "metadata": {},
   "outputs": [
    {
     "name": "stdout",
     "output_type": "stream",
     "text": [
      "I'm going to inject Govind here.\n"
     ]
    }
   ],
   "source": [
    "print(\"I'm going to inject %s here.\" %'Govind')"
   ]
  },
  {
   "cell_type": "code",
   "execution_count": 14,
   "metadata": {},
   "outputs": [
    {
     "name": "stdout",
     "output_type": "stream",
     "text": [
      "Hello Govind is my name\n"
     ]
    }
   ],
   "source": [
    "print(\"Hello %s is my name\" % 'Govind' )"
   ]
  },
  {
   "cell_type": "code",
   "execution_count": 16,
   "metadata": {},
   "outputs": [],
   "source": [
    "g = 'govind'"
   ]
  },
  {
   "cell_type": "code",
   "execution_count": 17,
   "metadata": {},
   "outputs": [
    {
     "name": "stdout",
     "output_type": "stream",
     "text": [
      "Hello govind\n"
     ]
    }
   ],
   "source": [
    "print('Hello %s'%g)"
   ]
  },
  {
   "cell_type": "code",
   "execution_count": 19,
   "metadata": {},
   "outputs": [
    {
     "name": "stdout",
     "output_type": "stream",
     "text": [
      " HEyy u this is 'Govind'\n"
     ]
    }
   ],
   "source": [
    "print(\" HEyy u this is %r\" %'Govind')"
   ]
  },
  {
   "cell_type": "code",
   "execution_count": 21,
   "metadata": {},
   "outputs": [
    {
     "name": "stdout",
     "output_type": "stream",
     "text": [
      "my cgpa is 7\n",
      "my cgpa is 7.53\n"
     ]
    }
   ],
   "source": [
    "print('my cgpa is %d'% 7.53)\n",
    "print('my cgpa is %s'% 7.53)"
   ]
  },
  {
   "cell_type": "code",
   "execution_count": 29,
   "metadata": {},
   "outputs": [
    {
     "name": "stdout",
     "output_type": "stream",
     "text": [
      "my cgpa is 7.53485\n",
      "my cgpa is 7.53\n",
      "my cgpa is            7.53\n",
      "my cgpa is 7.5348484999999998379394128278363496065139770507812500000\n"
     ]
    }
   ],
   "source": [
    "print('my cgpa is %1.5f'% 7.5348485)\n",
    "print('my cgpa is %1.2f'% 7.5348485)\n",
    "print('my cgpa is %15.2f'% 7.5348485)\n",
    "print('my cgpa is %1.55f'% 7.5348485)"
   ]
  },
  {
   "cell_type": "code",
   "execution_count": 26,
   "metadata": {},
   "outputs": [
    {
     "data": {
      "text/plain": [
       "55"
      ]
     },
     "execution_count": 26,
     "metadata": {},
     "output_type": "execute_result"
    }
   ],
   "source": [
    "len('5348484999999998379394128278363496065139770507812500000')"
   ]
  },
  {
   "cell_type": "code",
   "execution_count": 28,
   "metadata": {},
   "outputs": [
    {
     "data": {
      "text/plain": [
       "7"
      ]
     },
     "execution_count": 28,
     "metadata": {},
     "output_type": "execute_result"
    }
   ],
   "source": [
    "len('      7')"
   ]
  },
  {
   "cell_type": "code",
   "execution_count": 30,
   "metadata": {},
   "outputs": [
    {
     "data": {
      "text/plain": [
       "12"
      ]
     },
     "execution_count": 30,
     "metadata": {},
     "output_type": "execute_result"
    }
   ],
   "source": [
    "len('           7')"
   ]
  },
  {
   "cell_type": "code",
   "execution_count": 33,
   "metadata": {},
   "outputs": [
    {
     "name": "stdout",
     "output_type": "stream",
     "text": [
      "my cgpa is                    8\n",
      "my cgpa is            7.53\n",
      "my cgpa is 7.53\n"
     ]
    }
   ],
   "source": [
    "print('my cgpa is %20.0f'% 7.5348485)\n",
    "print('my cgpa is %15.2f'% 7.5348485)\n",
    "print('my cgpa is %1.2f'% 7.5348485)"
   ]
  },
  {
   "cell_type": "code",
   "execution_count": 34,
   "metadata": {},
   "outputs": [
    {
     "data": {
      "text/plain": [
       "20"
      ]
     },
     "execution_count": 34,
     "metadata": {},
     "output_type": "execute_result"
    }
   ],
   "source": [
    "len('                   8')"
   ]
  },
  {
   "cell_type": "code",
   "execution_count": 45,
   "metadata": {},
   "outputs": [
    {
     "name": "stdout",
     "output_type": "stream",
     "text": [
      "Floating point numbers: 1389648.14\n"
     ]
    }
   ],
   "source": [
    "print('Floating point numbers: %1.2f' %(1389648.1445585))"
   ]
  },
  {
   "cell_type": "code",
   "execution_count": 46,
   "metadata": {},
   "outputs": [
    {
     "name": "stdout",
     "output_type": "stream",
     "text": [
      " Hello my name is Govind Gs and having current cgpa of 7.6 and that's all about me 'Cheers!!' \n"
     ]
    }
   ],
   "source": [
    "print(\" Hello my name is %s and having current cgpa of %1.1f and that's all about me %r \" %('Govind Gs',7.563,'Cheers!!'))"
   ]
  },
  {
   "cell_type": "code",
   "execution_count": 47,
   "metadata": {},
   "outputs": [
    {
     "ename": "TypeError",
     "evalue": "must be real number, not str",
     "output_type": "error",
     "traceback": [
      "\u001b[1;31m---------------------------------------------------------------------------\u001b[0m",
      "\u001b[1;31mTypeError\u001b[0m                                 Traceback (most recent call last)",
      "\u001b[1;32m<ipython-input-47-f9a2940b562a>\u001b[0m in \u001b[0;36m<module>\u001b[1;34m\u001b[0m\n\u001b[1;32m----> 1\u001b[1;33m \u001b[0mprint\u001b[0m\u001b[1;33m(\u001b[0m\u001b[1;34m\" Hello my name is %s and having current cgpa of %1.1f and that's all about me %r \"\u001b[0m \u001b[1;33m%\u001b[0m\u001b[1;33m(\u001b[0m\u001b[1;36m563\u001b[0m\u001b[1;33m,\u001b[0m\u001b[1;34m'Cheers!!'\u001b[0m\u001b[1;33m,\u001b[0m\u001b[1;34m'Govind'\u001b[0m\u001b[1;33m)\u001b[0m\u001b[1;33m)\u001b[0m\u001b[1;33m\u001b[0m\u001b[1;33m\u001b[0m\u001b[0m\n\u001b[0m",
      "\u001b[1;31mTypeError\u001b[0m: must be real number, not str"
     ]
    }
   ],
   "source": [
    "print(\" Hello my name is %s and having current cgpa of %1.1f and that's all about me %r \" %(563,'Cheers!!','Govind'))"
   ]
  },
  {
   "cell_type": "code",
   "execution_count": 49,
   "metadata": {},
   "outputs": [
    {
     "name": "stdout",
     "output_type": "stream",
     "text": [
      " Hello my name is Govind and having current cgpa of 563 and that's all about me Cheers!! \n"
     ]
    }
   ],
   "source": [
    "print(\" Hello my name is {2} and having current cgpa of {0} and that's all about me {1} \" .format(563,'Cheers!!','Govind'))"
   ]
  },
  {
   "cell_type": "code",
   "execution_count": 50,
   "metadata": {},
   "outputs": [
    {
     "name": "stdout",
     "output_type": "stream",
     "text": [
      "Fruit    | Quantity \n",
      "Apples   |       3.0\n",
      "Oranges  |        10\n"
     ]
    }
   ],
   "source": [
    "print('{0:8} | {1:9}'.format('Fruit', 'Quantity'))\n",
    "print('{0:8} | {1:9}'.format('Apples', 3.))\n",
    "print('{0:8} | {1:9}'.format('Oranges', 10))"
   ]
  },
  {
   "cell_type": "code",
   "execution_count": 52,
   "metadata": {},
   "outputs": [
    {
     "name": "stdout",
     "output_type": "stream",
     "text": [
      "Fruit | Quantity\n",
      "Apples | 3.0\n",
      "Oranges | 10\n"
     ]
    }
   ],
   "source": [
    "print('{} | {}'.format('Fruit', 'Quantity'))\n",
    "print('{} | {}'.format('Apples', 3.))\n",
    "print('{} | {}'.format('Oranges', 10))"
   ]
  },
  {
   "cell_type": "code",
   "execution_count": 2,
   "metadata": {},
   "outputs": [
    {
     "data": {
      "text/plain": [
       "[0, 75, 150, 225, 300, 375, 450, 525, 600, 675, 750, 825, 900, 975]"
      ]
     },
     "execution_count": 2,
     "metadata": {},
     "output_type": "execute_result"
    }
   ],
   "source": [
    "list(range(0,1000,75))"
   ]
  },
  {
   "cell_type": "code",
   "execution_count": 5,
   "metadata": {},
   "outputs": [
    {
     "name": "stdout",
     "output_type": "stream",
     "text": [
      "the index 0 has value 0\n",
      "the index 1 has value 75\n",
      "the index 2 has value 150\n",
      "the index 3 has value 225\n",
      "the index 4 has value 300\n",
      "the index 5 has value 375\n",
      "the index 6 has value 450\n",
      "the index 7 has value 525\n",
      "the index 8 has value 600\n",
      "the index 9 has value 675\n",
      "the index 10 has value 750\n",
      "the index 11 has value 825\n",
      "the index 12 has value 900\n",
      "the index 13 has value 975\n"
     ]
    }
   ],
   "source": [
    "for i,value in enumerate(list(range(0,1000,75))):\n",
    "    print('the index {} has value {}'.format(i,value))"
   ]
  },
  {
   "cell_type": "code",
   "execution_count": 12,
   "metadata": {},
   "outputs": [],
   "source": [
    "def check_even(num):\n",
    "    return num % 2 == 0 "
   ]
  },
  {
   "cell_type": "code",
   "execution_count": 13,
   "metadata": {},
   "outputs": [],
   "source": [
    "nums = [0,1,2,3,4,5,6,7,8,9,10]"
   ]
  },
  {
   "cell_type": "code",
   "execution_count": 14,
   "metadata": {},
   "outputs": [
    {
     "data": {
      "text/plain": [
       "[True, False, True, False, True, False, True, False, True, False, True]"
      ]
     },
     "execution_count": 14,
     "metadata": {},
     "output_type": "execute_result"
    }
   ],
   "source": [
    "list(map(check_even,nums))"
   ]
  },
  {
   "cell_type": "code",
   "execution_count": 11,
   "metadata": {},
   "outputs": [
    {
     "data": {
      "text/plain": [
       "[0, 2, 4, 6, 8, 10]"
      ]
     },
     "execution_count": 11,
     "metadata": {},
     "output_type": "execute_result"
    }
   ],
   "source": [
    "list(filter(check_even,nums))"
   ]
  },
  {
   "cell_type": "code",
   "execution_count": 1,
   "metadata": {},
   "outputs": [
    {
     "ename": "SyntaxError",
     "evalue": "unexpected character after line continuation character (<ipython-input-1-5b7a07cfa989>, line 1)",
     "output_type": "error",
     "traceback": [
      "\u001b[1;36m  File \u001b[1;32m\"<ipython-input-1-5b7a07cfa989>\"\u001b[1;36m, line \u001b[1;32m1\u001b[0m\n\u001b[1;33m    \\n\\n\u001b[0m\n\u001b[1;37m        ^\u001b[0m\n\u001b[1;31mSyntaxError\u001b[0m\u001b[1;31m:\u001b[0m unexpected character after line continuation character\n"
     ]
    }
   ],
   "source": [
    "\\n\\n"
   ]
  },
  {
   "cell_type": "code",
   "execution_count": 1,
   "metadata": {},
   "outputs": [],
   "source": [
    "a = [12,5,45]\n",
    "b = [1,52,4]\n",
    "c = [7,26,1]"
   ]
  },
  {
   "cell_type": "code",
   "execution_count": 2,
   "metadata": {},
   "outputs": [
    {
     "data": {
      "text/plain": [
       "[13, 57, 49]"
      ]
     },
     "execution_count": 2,
     "metadata": {},
     "output_type": "execute_result"
    }
   ],
   "source": [
    "list(map(lambda x,y : x+y,a,b))"
   ]
  },
  {
   "cell_type": "code",
   "execution_count": 4,
   "metadata": {},
   "outputs": [
    {
     "data": {
      "text/plain": [
       "[20, 83, 50]"
      ]
     },
     "execution_count": 4,
     "metadata": {},
     "output_type": "execute_result"
    }
   ],
   "source": [
    "list(map(lambda x,y,z: x+y+z,a,b,c))"
   ]
  },
  {
   "cell_type": "code",
   "execution_count": 7,
   "metadata": {},
   "outputs": [
    {
     "data": {
      "text/plain": [
       "[0, 2, 4, 6, 8, 10, 12, 14, 16, 18]"
      ]
     },
     "execution_count": 7,
     "metadata": {},
     "output_type": "execute_result"
    }
   ],
   "source": [
    "list(filter(lambda x: x%2==0,lst))"
   ]
  },
  {
   "cell_type": "code",
   "execution_count": 6,
   "metadata": {},
   "outputs": [],
   "source": [
    "lst =range(20)"
   ]
  },
  {
   "cell_type": "code",
   "execution_count": 8,
   "metadata": {},
   "outputs": [
    {
     "data": {
      "text/plain": [
       "[True,\n",
       " False,\n",
       " True,\n",
       " False,\n",
       " True,\n",
       " False,\n",
       " True,\n",
       " False,\n",
       " True,\n",
       " False,\n",
       " True,\n",
       " False,\n",
       " True,\n",
       " False,\n",
       " True,\n",
       " False,\n",
       " True,\n",
       " False,\n",
       " True,\n",
       " False]"
      ]
     },
     "execution_count": 8,
     "metadata": {},
     "output_type": "execute_result"
    }
   ],
   "source": [
    "list(map(lambda x: x%2==0,lst))"
   ]
  },
  {
   "cell_type": "code",
   "execution_count": 13,
   "metadata": {},
   "outputs": [],
   "source": [
    "from functools import reduce"
   ]
  },
  {
   "cell_type": "code",
   "execution_count": 16,
   "metadata": {},
   "outputs": [
    {
     "ename": "TypeError",
     "evalue": "<lambda>() takes 1 positional argument but 2 were given",
     "output_type": "error",
     "traceback": [
      "\u001b[1;31m---------------------------------------------------------------------------\u001b[0m",
      "\u001b[1;31mTypeError\u001b[0m                                 Traceback (most recent call last)",
      "\u001b[1;32m<ipython-input-16-7df9788a511d>\u001b[0m in \u001b[0;36m<module>\u001b[1;34m\u001b[0m\n\u001b[1;32m----> 1\u001b[1;33m \u001b[0mlist\u001b[0m\u001b[1;33m(\u001b[0m\u001b[0mreduce\u001b[0m\u001b[1;33m(\u001b[0m\u001b[1;32mlambda\u001b[0m \u001b[0mx\u001b[0m\u001b[1;33m:\u001b[0m \u001b[0mx\u001b[0m\u001b[1;33m%\u001b[0m\u001b[1;36m2\u001b[0m\u001b[1;33m==\u001b[0m\u001b[1;36m0\u001b[0m\u001b[1;33m,\u001b[0m\u001b[0mlst\u001b[0m\u001b[1;33m)\u001b[0m\u001b[1;33m)\u001b[0m\u001b[1;33m\u001b[0m\u001b[1;33m\u001b[0m\u001b[0m\n\u001b[0m",
      "\u001b[1;31mTypeError\u001b[0m: <lambda>() takes 1 positional argument but 2 were given"
     ]
    }
   ],
   "source": [
    "list(reduce(lambda x: x%2==0,lst))"
   ]
  },
  {
   "cell_type": "code",
   "execution_count": 14,
   "metadata": {},
   "outputs": [
    {
     "name": "stdout",
     "output_type": "stream",
     "text": [
      "1.Ams\n",
      "2. PM n\n",
      "3.Exit\n",
      "4\n",
      "pick a correct one\n",
      "1.Ams\n",
      "2. PM n\n",
      "3.Exit\n",
      "3\n",
      "Tnk for playing\n"
     ]
    }
   ],
   "source": [
    "def arm():\n",
    "    num = int(input('Enter a number to check armstrong'))\n",
    "    temp =num\n",
    "    sum = 0\n",
    "    while (num>0):\n",
    "        rem = num%10\n",
    "        sum = sum+rem*rem*rem\n",
    "        num = num//10\n",
    "    if sum == temp:\n",
    "        print('Armstrong')\n",
    "    else:\n",
    "        print('Not an armstrong')\n",
    "\n",
    "def prime():\n",
    "    n = int(input('Enter a number to check prime'))\n",
    "    count = 0\n",
    "    for i in range(1,n+1):\n",
    "        rem = n%i\n",
    "        if rem == 0:\n",
    "            count = count+1\n",
    "    if count ==2 :\n",
    "        print('Prime number')\n",
    "    else:\n",
    "        print('Not a prime')\n",
    "\n",
    "while (1):\n",
    "    print('1.Ams')\n",
    "    print('2. PM n')\n",
    "    print('3.Exit')\n",
    "    option =int(input())\n",
    "    if option ==1:\n",
    "        ams = arm()\n",
    "    elif option ==2:\n",
    "        om = prime()\n",
    "    elif option == 3:\n",
    "        print('Tnk for playing')\n",
    "        break\n",
    "    else:\n",
    "        print('pick a correct one')\n",
    "        \n",
    "    "
   ]
  },
  {
   "cell_type": "code",
   "execution_count": 11,
   "metadata": {},
   "outputs": [
    {
     "name": "stdout",
     "output_type": "stream",
     "text": [
      "371\n",
      "371\n",
      "armstrong number\n"
     ]
    }
   ],
   "source": [
    "a=int(input())#yaser code\n",
    "c=str(a)\n",
    "print(c)\n",
    "\n",
    "sum=0\n",
    "for i in range(len(c)):\n",
    "\tcube=int(c[i])**3\n",
    "\tsum=sum+cube\n",
    "if sum == a:\n",
    "\tprint('armstrong number')\n",
    "else:\n",
    "\tprint('not armstrong number')"
   ]
  },
  {
   "cell_type": "code",
   "execution_count": 16,
   "metadata": {},
   "outputs": [],
   "source": [
    "list1 = [1,2,3,4,5,6,7]\n",
    "list2 = []"
   ]
  },
  {
   "cell_type": "code",
   "execution_count": 17,
   "metadata": {},
   "outputs": [],
   "source": [
    "def cloning(content,destination):\n",
    "    destination = content.copy()\n",
    "    return destination"
   ]
  },
  {
   "cell_type": "code",
   "execution_count": 18,
   "metadata": {},
   "outputs": [
    {
     "data": {
      "text/plain": [
       "[1, 2, 3, 4, 5, 6, 7]"
      ]
     },
     "execution_count": 18,
     "metadata": {},
     "output_type": "execute_result"
    }
   ],
   "source": [
    "cloning(list1,list2)"
   ]
  },
  {
   "cell_type": "code",
   "execution_count": 19,
   "metadata": {},
   "outputs": [
    {
     "data": {
      "text/plain": [
       "[]"
      ]
     },
     "execution_count": 19,
     "metadata": {},
     "output_type": "execute_result"
    }
   ],
   "source": [
    "list2"
   ]
  },
  {
   "cell_type": "code",
   "execution_count": 20,
   "metadata": {},
   "outputs": [],
   "source": [
    "import copy"
   ]
  },
  {
   "cell_type": "code",
   "execution_count": 21,
   "metadata": {},
   "outputs": [
    {
     "data": {
      "text/plain": [
       "[]"
      ]
     },
     "execution_count": 21,
     "metadata": {},
     "output_type": "execute_result"
    }
   ],
   "source": [
    "list2"
   ]
  },
  {
   "cell_type": "code",
   "execution_count": 22,
   "metadata": {},
   "outputs": [],
   "source": [
    "list2 = copy.deepcopy(list1)"
   ]
  },
  {
   "cell_type": "code",
   "execution_count": 23,
   "metadata": {},
   "outputs": [
    {
     "data": {
      "text/plain": [
       "[1, 2, 3, 4, 5, 6, 7]"
      ]
     },
     "execution_count": 23,
     "metadata": {},
     "output_type": "execute_result"
    }
   ],
   "source": [
    "list2"
   ]
  },
  {
   "cell_type": "code",
   "execution_count": 44,
   "metadata": {},
   "outputs": [],
   "source": [
    "def prime():\n",
    "    n = int(input('Enter a number to check prime'))\n",
    "    count = 0\n",
    "    for i in range(1,n+1):\n",
    "        rem = n%i\n",
    "        if rem == 0:\n",
    "            count = count+1\n",
    "    if count ==2 :\n",
    "        print('Prime number')\n",
    "    else:\n",
    "        print('Not a prime')\n",
    "\n",
    "        \n",
    "def prime2():\n",
    "    num = int(input('enter a number to check'))\n",
    "    \n",
    "    if num>1:\n",
    "        for i in range(2,num):\n",
    "            if num % i == 0:\n",
    "                print('The number is not a prime')\n",
    "                print(i , 'times', num//i , 'is', num)\n",
    "                break\n",
    "        else:\n",
    "            print(num,'Is a prime number')\n",
    "    else:\n",
    "        print('the number is not a prime number')\n"
   ]
  },
  {
   "cell_type": "code",
   "execution_count": 45,
   "metadata": {},
   "outputs": [
    {
     "name": "stdout",
     "output_type": "stream",
     "text": [
      "enter a number to check5\n",
      "5 Is a prime number\n"
     ]
    }
   ],
   "source": [
    "prime2()"
   ]
  },
  {
   "cell_type": "code",
   "execution_count": 1,
   "metadata": {},
   "outputs": [],
   "source": [
    "def gencubes(n):\n",
    "    for num in range(n):\n",
    "        yield num**3"
   ]
  },
  {
   "cell_type": "code",
   "execution_count": 2,
   "metadata": {},
   "outputs": [],
   "source": [
    "def gencubes2(n):\n",
    "    for num in range(n):\n",
    "        return num**3"
   ]
  },
  {
   "cell_type": "code",
   "execution_count": 3,
   "metadata": {},
   "outputs": [
    {
     "name": "stdout",
     "output_type": "stream",
     "text": [
      "0\n",
      "1\n",
      "8\n",
      "27\n",
      "64\n",
      "125\n",
      "216\n",
      "343\n",
      "512\n",
      "729\n"
     ]
    }
   ],
   "source": [
    "for x in gencubes(10):\n",
    "    print(x)"
   ]
  },
  {
   "cell_type": "code",
   "execution_count": 4,
   "metadata": {},
   "outputs": [
    {
     "ename": "TypeError",
     "evalue": "'int' object is not iterable",
     "output_type": "error",
     "traceback": [
      "\u001b[1;31m---------------------------------------------------------------------------\u001b[0m",
      "\u001b[1;31mTypeError\u001b[0m                                 Traceback (most recent call last)",
      "\u001b[1;32m<ipython-input-4-62d291ae26ca>\u001b[0m in \u001b[0;36m<module>\u001b[1;34m\u001b[0m\n\u001b[1;32m----> 1\u001b[1;33m \u001b[1;32mfor\u001b[0m \u001b[0mx\u001b[0m \u001b[1;32min\u001b[0m \u001b[0mgencubes2\u001b[0m\u001b[1;33m(\u001b[0m\u001b[1;36m10\u001b[0m\u001b[1;33m)\u001b[0m\u001b[1;33m:\u001b[0m\u001b[1;33m\u001b[0m\u001b[1;33m\u001b[0m\u001b[0m\n\u001b[0m\u001b[0;32m      2\u001b[0m     \u001b[0mprint\u001b[0m\u001b[1;33m(\u001b[0m\u001b[0mx\u001b[0m\u001b[1;33m)\u001b[0m\u001b[1;33m\u001b[0m\u001b[1;33m\u001b[0m\u001b[0m\n",
      "\u001b[1;31mTypeError\u001b[0m: 'int' object is not iterable"
     ]
    }
   ],
   "source": [
    "for x in gencubes2(10):\n",
    "    print(x)"
   ]
  },
  {
   "cell_type": "code",
   "execution_count": 5,
   "metadata": {},
   "outputs": [],
   "source": [
    "def genfibon(n):\n",
    "    \"\"\"\n",
    "    Generate a fibonnaci sequence up to n\n",
    "    \"\"\"\n",
    "    a = 1\n",
    "    b = 1\n",
    "    for i in range(n):\n",
    "        yield a\n",
    "        a,b = b,a+b"
   ]
  },
  {
   "cell_type": "code",
   "execution_count": 7,
   "metadata": {},
   "outputs": [],
   "source": [
    "l=[]\n",
    "for i in genfibon(10):\n",
    "    l.append(i)"
   ]
  },
  {
   "cell_type": "code",
   "execution_count": 8,
   "metadata": {},
   "outputs": [
    {
     "data": {
      "text/plain": [
       "[1, 1, 2, 3, 5, 8, 13, 21, 34, 55]"
      ]
     },
     "execution_count": 8,
     "metadata": {},
     "output_type": "execute_result"
    }
   ],
   "source": [
    "l"
   ]
  },
  {
   "cell_type": "code",
   "execution_count": 12,
   "metadata": {},
   "outputs": [],
   "source": [
    "from collections import Counter"
   ]
  },
  {
   "cell_type": "code",
   "execution_count": 13,
   "metadata": {},
   "outputs": [],
   "source": [
    "import os"
   ]
  },
  {
   "cell_type": "code",
   "execution_count": 14,
   "metadata": {},
   "outputs": [
    {
     "data": {
      "text/plain": [
       "'C:\\\\Users\\\\saamy\\\\Desktop\\\\Python'"
      ]
     },
     "execution_count": 14,
     "metadata": {},
     "output_type": "execute_result"
    }
   ],
   "source": [
    "os.getcwd()"
   ]
  },
  {
   "cell_type": "code",
   "execution_count": 15,
   "metadata": {},
   "outputs": [
    {
     "data": {
      "text/plain": [
       "['.ipynb_checkpoints',\n",
       " 'Additional Types.ipynb',\n",
       " 'Advanced python modules.ipynb',\n",
       " 'Bank example.ipynb',\n",
       " 'Complete-Python-3-Bootcamp-master',\n",
       " 'Decorators And Generators Practice .ipynb',\n",
       " 'desktop.ini',\n",
       " 'EDABIT.ipynb',\n",
       " 'Example1',\n",
       " 'Example1.py',\n",
       " 'FirstNotebook.ipynb',\n",
       " 'Fullstrech.ipynb',\n",
       " 'Milestone Project Practice.ipynb',\n",
       " 'My_practices.ipynb',\n",
       " 'OPP And ERROR & Exception.ipynb',\n",
       " 'Practice of milestone project 2.ipynb',\n",
       " 'practicee milestone project.ipynb',\n",
       " 'Proper milestone 2 .ipynb',\n",
       " 'Proper.ipynb',\n",
       " 'Refreshment.ipynb',\n",
       " 'sampletext.text',\n",
       " 'TIKTOK game rating for my code.txt',\n",
       " 'TIKTOK.py',\n",
       " 'TikTokToe.ipynb',\n",
       " 'try.py',\n",
       " 'Untitled.ipynb',\n",
       " 'Untitled1.ipynb',\n",
       " 'W3 Practices.ipynb',\n",
       " 'wt.txt']"
      ]
     },
     "execution_count": 15,
     "metadata": {},
     "output_type": "execute_result"
    }
   ],
   "source": [
    "os.listdir()"
   ]
  },
  {
   "cell_type": "code",
   "execution_count": 16,
   "metadata": {},
   "outputs": [],
   "source": [
    "import shutil"
   ]
  },
  {
   "cell_type": "code",
   "execution_count": 17,
   "metadata": {},
   "outputs": [
    {
     "data": {
      "text/plain": [
       "'C:\\\\Users\\\\saamy\\\\Desktop\\\\untitled.ipynb'"
      ]
     },
     "execution_count": 17,
     "metadata": {},
     "output_type": "execute_result"
    }
   ],
   "source": [
    "shutil.move('untitled.ipynb','C:\\\\Users\\\\saamy\\\\Desktop\\\\')"
   ]
  },
  {
   "cell_type": "code",
   "execution_count": 19,
   "metadata": {},
   "outputs": [],
   "source": [
    "import calendar"
   ]
  },
  {
   "cell_type": "code",
   "execution_count": 20,
   "metadata": {},
   "outputs": [
    {
     "data": {
      "text/plain": [
       "<module 'calendar' from 'C:\\\\MY STUDIES\\\\Anaconda Python\\\\lib\\\\calendar.py'>"
      ]
     },
     "execution_count": 20,
     "metadata": {},
     "output_type": "execute_result"
    }
   ],
   "source": [
    "calendar"
   ]
  },
  {
   "cell_type": "code",
   "execution_count": 26,
   "metadata": {},
   "outputs": [
    {
     "name": "stdout",
     "output_type": "stream",
     "text": [
      "   November 2020\n",
      "Mo Tu We Th Fr Sa Su\n",
      "                   1\n",
      " 2  3  4  5  6  7  8\n",
      " 9 10 11 12 13 14 15\n",
      "16 17 18 19 20 21 22\n",
      "23 24 25 26 27 28 29\n",
      "30\n",
      "\n"
     ]
    }
   ],
   "source": [
    "yy = 2020\n",
    "mm= 11\n",
    "print(calendar.month(yy,mm))"
   ]
  },
  {
   "cell_type": "code",
   "execution_count": 27,
   "metadata": {},
   "outputs": [
    {
     "ename": "NameError",
     "evalue": "name 'monthdayscalendar' is not defined",
     "output_type": "error",
     "traceback": [
      "\u001b[1;31m---------------------------------------------------------------------------\u001b[0m",
      "\u001b[1;31mNameError\u001b[0m                                 Traceback (most recent call last)",
      "\u001b[1;32m<ipython-input-27-775f2f94ddb9>\u001b[0m in \u001b[0;36m<module>\u001b[1;34m\u001b[0m\n\u001b[1;32m----> 1\u001b[1;33m \u001b[0mmonthdayscalendar\u001b[0m\u001b[1;33m(\u001b[0m\u001b[1;36m2020\u001b[0m\u001b[1;33m,\u001b[0m\u001b[1;36m2\u001b[0m\u001b[1;33m)\u001b[0m\u001b[1;33m\u001b[0m\u001b[1;33m\u001b[0m\u001b[0m\n\u001b[0m",
      "\u001b[1;31mNameError\u001b[0m: name 'monthdayscalendar' is not defined"
     ]
    }
   ],
   "source": [
    "monthdayscalendar(2020,2)"
   ]
  },
  {
   "cell_type": "code",
   "execution_count": 32,
   "metadata": {},
   "outputs": [
    {
     "name": "stdout",
     "output_type": "stream",
     "text": [
      "                                  2018\n",
      "\n",
      "      January                   February                   March\n",
      "Mo Tu We Th Fr Sa Su      Mo Tu We Th Fr Sa Su      Mo Tu We Th Fr Sa Su\n",
      " 1  2  3  4  5  6  7                1  2  3  4                1  2  3  4\n",
      " 8  9 10 11 12 13 14       5  6  7  8  9 10 11       5  6  7  8  9 10 11\n",
      "15 16 17 18 19 20 21      12 13 14 15 16 17 18      12 13 14 15 16 17 18\n",
      "22 23 24 25 26 27 28      19 20 21 22 23 24 25      19 20 21 22 23 24 25\n",
      "29 30 31                  26 27 28                  26 27 28 29 30 31\n",
      "\n",
      "       April                      May                       June\n",
      "Mo Tu We Th Fr Sa Su      Mo Tu We Th Fr Sa Su      Mo Tu We Th Fr Sa Su\n",
      "                   1          1  2  3  4  5  6                   1  2  3\n",
      " 2  3  4  5  6  7  8       7  8  9 10 11 12 13       4  5  6  7  8  9 10\n",
      " 9 10 11 12 13 14 15      14 15 16 17 18 19 20      11 12 13 14 15 16 17\n",
      "16 17 18 19 20 21 22      21 22 23 24 25 26 27      18 19 20 21 22 23 24\n",
      "23 24 25 26 27 28 29      28 29 30 31               25 26 27 28 29 30\n",
      "30\n",
      "\n",
      "        July                     August                  September\n",
      "Mo Tu We Th Fr Sa Su      Mo Tu We Th Fr Sa Su      Mo Tu We Th Fr Sa Su\n",
      "                   1             1  2  3  4  5                      1  2\n",
      " 2  3  4  5  6  7  8       6  7  8  9 10 11 12       3  4  5  6  7  8  9\n",
      " 9 10 11 12 13 14 15      13 14 15 16 17 18 19      10 11 12 13 14 15 16\n",
      "16 17 18 19 20 21 22      20 21 22 23 24 25 26      17 18 19 20 21 22 23\n",
      "23 24 25 26 27 28 29      27 28 29 30 31            24 25 26 27 28 29 30\n",
      "30 31\n",
      "\n",
      "      October                   November                  December\n",
      "Mo Tu We Th Fr Sa Su      Mo Tu We Th Fr Sa Su      Mo Tu We Th Fr Sa Su\n",
      " 1  2  3  4  5  6  7                1  2  3  4                      1  2\n",
      " 8  9 10 11 12 13 14       5  6  7  8  9 10 11       3  4  5  6  7  8  9\n",
      "15 16 17 18 19 20 21      12 13 14 15 16 17 18      10 11 12 13 14 15 16\n",
      "22 23 24 25 26 27 28      19 20 21 22 23 24 25      17 18 19 20 21 22 23\n",
      "29 30 31                  26 27 28 29 30            24 25 26 27 28 29 30\n",
      "                                                    31\n",
      "\n"
     ]
    }
   ],
   "source": [
    "print(calendar.calendar(2018))"
   ]
  },
  {
   "cell_type": "code",
   "execution_count": 33,
   "metadata": {},
   "outputs": [
    {
     "name": "stdout",
     "output_type": "stream",
     "text": [
      "<calendar.Calendar object at 0x000001F8AF2AEDC8>\n"
     ]
    }
   ],
   "source": [
    "print(calendar.Calendar(2021))"
   ]
  },
  {
   "cell_type": "code",
   "execution_count": 34,
   "metadata": {},
   "outputs": [],
   "source": [
    "import datetime"
   ]
  },
  {
   "cell_type": "code",
   "execution_count": 41,
   "metadata": {},
   "outputs": [],
   "source": [
    "date1 = datetime.date(2020,11,22)"
   ]
  },
  {
   "cell_type": "code",
   "execution_count": 42,
   "metadata": {},
   "outputs": [
    {
     "data": {
      "text/plain": [
       "'Sun Nov 22 00:00:00 2020'"
      ]
     },
     "execution_count": 42,
     "metadata": {},
     "output_type": "execute_result"
    }
   ],
   "source": [
    "date1.ctime()"
   ]
  },
  {
   "cell_type": "code",
   "execution_count": 45,
   "metadata": {},
   "outputs": [
    {
     "data": {
      "text/plain": [
       "(2020, 47, 7)"
      ]
     },
     "execution_count": 45,
     "metadata": {},
     "output_type": "execute_result"
    }
   ],
   "source": [
    "date1.isocalendar()"
   ]
  },
  {
   "cell_type": "code",
   "execution_count": 46,
   "metadata": {},
   "outputs": [
    {
     "data": {
      "text/plain": [
       "6"
      ]
     },
     "execution_count": 46,
     "metadata": {},
     "output_type": "execute_result"
    }
   ],
   "source": [
    "date1.weekday()"
   ]
  },
  {
   "cell_type": "code",
   "execution_count": 48,
   "metadata": {},
   "outputs": [
    {
     "data": {
      "text/plain": [
       "22"
      ]
     },
     "execution_count": 48,
     "metadata": {},
     "output_type": "execute_result"
    }
   ],
   "source": [
    "date1.day"
   ]
  },
  {
   "cell_type": "code",
   "execution_count": 56,
   "metadata": {},
   "outputs": [],
   "source": [
    "x1 = datetime.datetime.now()"
   ]
  },
  {
   "cell_type": "code",
   "execution_count": 57,
   "metadata": {},
   "outputs": [
    {
     "data": {
      "text/plain": [
       "'Sun Nov 22 22:29:26 2020'"
      ]
     },
     "execution_count": 57,
     "metadata": {},
     "output_type": "execute_result"
    }
   ],
   "source": [
    "x1.day\n",
    "x1.ctime()"
   ]
  },
  {
   "cell_type": "code",
   "execution_count": 58,
   "metadata": {},
   "outputs": [
    {
     "data": {
      "text/plain": [
       "387234"
      ]
     },
     "execution_count": 58,
     "metadata": {},
     "output_type": "execute_result"
    }
   ],
   "source": [
    "x1.microsecond"
   ]
  },
  {
   "cell_type": "code",
   "execution_count": 59,
   "metadata": {},
   "outputs": [
    {
     "data": {
      "text/plain": [
       "387234"
      ]
     },
     "execution_count": 59,
     "metadata": {},
     "output_type": "execute_result"
    }
   ],
   "source": [
    "x1.microsecond"
   ]
  },
  {
   "cell_type": "code",
   "execution_count": 61,
   "metadata": {},
   "outputs": [],
   "source": [
    "import pytz"
   ]
  },
  {
   "cell_type": "code",
   "execution_count": 65,
   "metadata": {},
   "outputs": [
    {
     "name": "stdout",
     "output_type": "stream",
     "text": [
      "America/Argentina/Cordoba\n",
      "America/Santo_Domingo\n",
      "Antarctica/DumontDUrville\n",
      "America/Grenada\n",
      "Australia/Victoria\n",
      "Indian/Mauritius\n",
      "America/Indiana/Winamac\n",
      "America/Mazatlan\n",
      "Asia/Pyongyang\n",
      "America/Montreal\n",
      "America/St_Thomas\n",
      "Europe/Malta\n",
      "America/Regina\n",
      "Africa/Tripoli\n",
      "America/Santa_Isabel\n",
      "Etc/GMT+11\n",
      "Etc/Zulu\n",
      "Pacific/Pago_Pago\n",
      "Atlantic/Faeroe\n",
      "Indian/Kerguelen\n",
      "America/Guadeloupe\n",
      "Mexico/General\n",
      "Etc/GMT+6\n",
      "Antarctica/Casey\n",
      "US/Hawaii\n",
      "Europe/Isle_of_Man\n",
      "Australia/Eucla\n",
      "America/Nassau\n",
      "Africa/Nairobi\n",
      "PRC\n",
      "Asia/Kuala_Lumpur\n",
      "Asia/Muscat\n",
      "America/Nipigon\n",
      "America/Jujuy\n",
      "Africa/Kigali\n",
      "Pacific/Port_Moresby\n",
      "America/Martinique\n",
      "Africa/Asmara\n",
      "Antarctica/Rothera\n",
      "Europe/Stockholm\n",
      "Pacific/Tahiti\n",
      "Australia/Tasmania\n",
      "Asia/Kabul\n",
      "America/Guyana\n",
      "Asia/Damascus\n",
      "GMT\n",
      "Asia/Novokuznetsk\n",
      "America/Blanc-Sablon\n",
      "America/Montserrat\n",
      "America/Indiana/Vincennes\n",
      "Etc/GMT0\n",
      "Europe/Rome\n",
      "Asia/Singapore\n",
      "Australia/LHI\n",
      "Asia/Yangon\n",
      "Iran\n",
      "Africa/Ndjamena\n",
      "Africa/Ouagadougou\n",
      "America/Porto_Velho\n",
      "America/Cordoba\n",
      "Africa/Casablanca\n",
      "Cuba\n",
      "Europe/Vilnius\n",
      "America/Monterrey\n",
      "Africa/Lusaka\n",
      "Europe/Vienna\n",
      "Indian/Antananarivo\n",
      "Asia/Ust-Nera\n",
      "America/North_Dakota/Beulah\n",
      "America/Indiana/Petersburg\n",
      "Australia/NSW\n",
      "Europe/Volgograd\n",
      "Asia/Ujung_Pandang\n",
      "Asia/Hovd\n",
      "Australia/Sydney\n",
      "Africa/Timbuktu\n",
      "Europe/Zaporozhye\n",
      "America/St_Barthelemy\n",
      "America/Punta_Arenas\n",
      "Africa/Bamako\n",
      "America/Havana\n",
      "Asia/Bishkek\n",
      "America/Dominica\n",
      "Etc/GMT-14\n",
      "Asia/Ashgabat\n",
      "Etc/GMT-0\n",
      "Europe/Busingen\n",
      "Asia/Brunei\n",
      "Europe/Tirane\n",
      "Japan\n",
      "US/Michigan\n",
      "America/Guayaquil\n",
      "Australia/Hobart\n",
      "Hongkong\n",
      "America/Virgin\n",
      "Europe/Helsinki\n",
      "Pacific/Guadalcanal\n",
      "HST\n",
      "US/Eastern\n",
      "Pacific/Pohnpei\n",
      "MST\n",
      "Atlantic/Azores\n",
      "Atlantic/Madeira\n",
      "Europe/Lisbon\n",
      "Asia/Famagusta\n",
      "America/Port_of_Spain\n",
      "Europe/Astrakhan\n",
      "Europe/Berlin\n",
      "America/Indiana/Vevay\n",
      "Europe/Ulyanovsk\n",
      "Pacific/Chatham\n",
      "Europe/Andorra\n",
      "Asia/Novosibirsk\n",
      "Asia/Kuwait\n",
      "Antarctica/Vostok\n",
      "Egypt\n",
      "Asia/Saigon\n",
      "America/Moncton\n",
      "Australia/Darwin\n",
      "Africa/Tunis\n",
      "Asia/Katmandu\n",
      "America/Fort_Wayne\n",
      "Asia/Yakutsk\n",
      "Asia/Pontianak\n",
      "America/Argentina/Buenos_Aires\n",
      "Asia/Urumqi\n",
      "Africa/Libreville\n",
      "Etc/GMT+12\n",
      "America/Argentina/Catamarca\n",
      "America/Sao_Paulo\n",
      "Australia/Melbourne\n",
      "Antarctica/McMurdo\n",
      "Greenwich\n",
      "America/Toronto\n",
      "Asia/Baghdad\n",
      "Asia/Tokyo\n",
      "Asia/Dhaka\n",
      "Etc/GMT-4\n",
      "US/Mountain\n",
      "America/Catamarca\n",
      "Brazil/DeNoronha\n",
      "Etc/GMT+4\n",
      "Africa/El_Aaiun\n",
      "EET\n",
      "Europe/Podgorica\n",
      "America/Mendoza\n",
      "Australia/Brisbane\n",
      "Etc/GMT+7\n",
      "Canada/Yukon\n",
      "America/Menominee\n",
      "America/Shiprock\n",
      "Canada/Eastern\n",
      "Asia/Baku\n",
      "Asia/Colombo\n",
      "Iceland\n",
      "America/Indiana/Knox\n",
      "Africa/Niamey\n",
      "Africa/Johannesburg\n",
      "Asia/Tel_Aviv\n",
      "US/Samoa\n",
      "Mexico/BajaSur\n",
      "Pacific/Tongatapu\n",
      "Africa/Banjul\n",
      "America/Antigua\n",
      "Australia/North\n",
      "Asia/Samarkand\n",
      "Chile/EasterIsland\n",
      "Europe/Monaco\n",
      "America/Edmonton\n",
      "Africa/Kampala\n",
      "ROK\n",
      "America/Indiana/Tell_City\n",
      "America/Fort_Nelson\n",
      "Pacific/Gambier\n",
      "NZ-CHAT\n",
      "Asia/Almaty\n",
      "Europe/Vatican\n",
      "America/Inuvik\n",
      "Asia/Jakarta\n",
      "America/Los_Angeles\n",
      "Pacific/Midway\n",
      "Africa/Asmera\n",
      "Asia/Riyadh\n",
      "Pacific/Enderbury\n",
      "Pacific/Pitcairn\n",
      "Europe/Minsk\n",
      "America/Thunder_Bay\n",
      "America/Ojinaga\n",
      "America/Buenos_Aires\n",
      "Pacific/Tarawa\n",
      "Indian/Comoro\n",
      "America/Sitka\n",
      "America/North_Dakota/New_Salem\n",
      "Australia/West\n",
      "America/Denver\n",
      "Indian/Reunion\n",
      "America/Santarem\n",
      "America/Chicago\n",
      "Europe/Saratov\n",
      "America/Marigot\n",
      "Asia/Harbin\n",
      "Pacific/Wake\n",
      "Pacific/Niue\n",
      "America/Rosario\n",
      "US/Central\n",
      "America/Yakutat\n",
      "America/Paramaribo\n",
      "Indian/Mahe\n",
      "Pacific/Nauru\n",
      "America/Pangnirtung\n",
      "America/Yellowknife\n",
      "America/Argentina/Mendoza\n",
      "EST\n",
      "Etc/GMT+5\n",
      "America/Maceio\n",
      "Asia/Qatar\n",
      "Asia/Chita\n",
      "Atlantic/Canary\n",
      "Asia/Manila\n",
      "Africa/Khartoum\n",
      "Europe/Sofia\n",
      "America/Winnipeg\n",
      "Atlantic/Jan_Mayen\n",
      "Asia/Yerevan\n",
      "Etc/GMT-5\n",
      "America/Argentina/Ushuaia\n",
      "Pacific/Noumea\n",
      "Africa/Lome\n",
      "America/Bahia_Banderas\n",
      "Europe/Sarajevo\n",
      "Europe/Nicosia\n",
      "Antarctica/Syowa\n",
      "America/Lower_Princes\n",
      "Asia/Dushanbe\n",
      "Etc/GMT-2\n",
      "Europe/Zurich\n",
      "America/Danmarkshavn\n",
      "Asia/Chungking\n",
      "America/Juneau\n",
      "Africa/Gaborone\n",
      "America/Coral_Harbour\n",
      "Africa/Douala\n",
      "UCT\n",
      "Asia/Seoul\n",
      "Pacific/Chuuk\n",
      "MST7MDT\n",
      "Asia/Jerusalem\n",
      "Africa/Bissau\n",
      "Australia/Queensland\n",
      "America/Metlakatla\n",
      "Canada/Saskatchewan\n",
      "America/La_Paz\n",
      "Canada/Newfoundland\n",
      "PST8PDT\n",
      "America/Tortola\n",
      "America/Phoenix\n",
      "Africa/Juba\n",
      "Africa/Dakar\n",
      "Pacific/Fakaofo\n",
      "GMT-0\n",
      "America/Argentina/Salta\n",
      "America/Jamaica\n",
      "Asia/Magadan\n",
      "America/Dawson\n",
      "Asia/Macau\n",
      "Asia/Vientiane\n",
      "Asia/Bahrain\n",
      "US/East-Indiana\n",
      "Etc/GMT-9\n",
      "Asia/Vladivostok\n",
      "America/Argentina/Rio_Gallegos\n",
      "America/Glace_Bay\n",
      "Pacific/Wallis\n",
      "Asia/Aqtobe\n",
      "Europe/Skopje\n",
      "Antarctica/Troll\n",
      "Africa/Windhoek\n",
      "Europe/Tiraspol\n",
      "Europe/Kiev\n",
      "Etc/GMT+0\n",
      "Atlantic/Stanley\n",
      "Africa/Lubumbashi\n",
      "Etc/GMT+1\n",
      "Asia/Beirut\n",
      "America/Cayenne\n",
      "Zulu\n",
      "America/Dawson_Creek\n",
      "America/Cambridge_Bay\n",
      "America/Managua\n",
      "Asia/Macao\n",
      "America/Knox_IN\n",
      "Etc/Universal\n",
      "Europe/Warsaw\n",
      "Pacific/Marquesas\n",
      "America/Rio_Branco\n",
      "Africa/Lagos\n",
      "Pacific/Ponape\n",
      "America/Merida\n",
      "Pacific/Palau\n",
      "Asia/Kathmandu\n",
      "Pacific/Guam\n",
      "Asia/Nicosia\n",
      "America/Resolute\n",
      "Australia/Perth\n",
      "Australia/Adelaide\n",
      "Etc/GMT+3\n",
      "Asia/Barnaul\n",
      "W-SU\n",
      "Europe/Tallinn\n",
      "America/Panama\n",
      "Libya\n",
      "Asia/Aden\n",
      "Europe/Brussels\n",
      "US/Alaska\n",
      "MET\n",
      "Pacific/Fiji\n",
      "Asia/Chongqing\n",
      "Israel\n",
      "Etc/GMT-6\n",
      "Africa/Conakry\n",
      "Europe/Chisinau\n",
      "Asia/Bangkok\n",
      "Indian/Christmas\n",
      "Asia/Qostanay\n",
      "Asia/Kolkata\n",
      "Africa/Bangui\n",
      "America/El_Salvador\n",
      "Pacific/Samoa\n",
      "America/Boise\n",
      "Africa/Freetown\n",
      "America/Iqaluit\n",
      "Africa/Monrovia\n",
      "Pacific/Rarotonga\n",
      "Africa/Nouakchott\n",
      "America/Noronha\n",
      "Atlantic/South_Georgia\n",
      "Brazil/Acre\n",
      "Asia/Dili\n",
      "Universal\n",
      "Asia/Kuching\n",
      "America/Argentina/San_Luis\n",
      "America/Santiago\n",
      "Asia/Yekaterinburg\n",
      "Asia/Tbilisi\n",
      "Etc/GMT+2\n",
      "Australia/Yancowinna\n",
      "Etc/UCT\n",
      "Europe/San_Marino\n",
      "Asia/Karachi\n",
      "Asia/Dacca\n",
      "US/Arizona\n",
      "America/Cancun\n",
      "America/Boa_Vista\n",
      "Etc/GMT\n",
      "Indian/Chagos\n",
      "Atlantic/St_Helena\n",
      "Europe/Istanbul\n",
      "America/St_Kitts\n",
      "Africa/Luanda\n",
      "America/Recife\n",
      "Asia/Calcutta\n",
      "Atlantic/Cape_Verde\n",
      "Australia/ACT\n",
      "EST5EDT\n",
      "America/Caracas\n",
      "America/Grand_Turk\n",
      "America/Mexico_City\n",
      "Europe/Athens\n",
      "America/Belize\n",
      "Africa/Sao_Tome\n",
      "Pacific/Johnston\n",
      "Australia/Broken_Hill\n",
      "Asia/Hebron\n",
      "America/Indianapolis\n",
      "Antarctica/Palmer\n",
      "Asia/Ulaanbaatar\n",
      "America/Montevideo\n",
      "Europe/Mariehamn\n",
      "Europe/Zagreb\n",
      "America/Asuncion\n",
      "Europe/Ljubljana\n",
      "Arctic/Longyearbyen\n",
      "Pacific/Majuro\n",
      "Asia/Dubai\n",
      "Europe/Jersey\n",
      "Asia/Irkutsk\n",
      "America/Eirunepe\n",
      "America/Indiana/Indianapolis\n",
      "Asia/Shanghai\n",
      "Europe/Kaliningrad\n",
      "America/Bahia\n",
      "Africa/Cairo\n",
      "UTC\n",
      "Asia/Istanbul\n",
      "Etc/GMT+8\n",
      "Antarctica/Davis\n",
      "Antarctica/Mawson\n",
      "Kwajalein\n",
      "Pacific/Auckland\n",
      "Asia/Thimbu\n",
      "Canada/Atlantic\n",
      "Etc/GMT-11\n",
      "GB-Eire\n",
      "Africa/Mogadishu\n",
      "America/Rankin_Inlet\n",
      "America/Cuiaba\n",
      "GB\n",
      "Asia/Omsk\n",
      "America/Halifax\n",
      "Antarctica/Macquarie\n",
      "Africa/Malabo\n",
      "Brazil/West\n",
      "Pacific/Saipan\n",
      "America/St_Johns\n",
      "Europe/Guernsey\n",
      "Canada/Mountain\n",
      "America/Puerto_Rico\n",
      "Africa/Bujumbura\n",
      "Europe/Dublin\n",
      "America/Matamoros\n",
      "Africa/Addis_Ababa\n",
      "Asia/Amman\n",
      "Europe/Oslo\n",
      "America/Kralendijk\n",
      "Indian/Cocos\n",
      "Africa/Porto-Novo\n",
      "Navajo\n",
      "Asia/Tomsk\n",
      "Europe/Copenhagen\n",
      "America/North_Dakota/Center\n",
      "America/Atikokan\n",
      "Pacific/Galapagos\n",
      "America/Barbados\n",
      "Poland\n",
      "Europe/Paris\n",
      "America/Indiana/Marengo\n",
      "America/Lima\n",
      "US/Indiana-Starke\n",
      "WET\n",
      "Europe/Simferopol\n",
      "America/Rainy_River\n",
      "Etc/GMT-1\n",
      "Asia/Khandyga\n",
      "America/St_Lucia\n",
      "America/St_Vincent\n",
      "America/Belem\n",
      "America/Anchorage\n",
      "GMT0\n",
      "Europe/Budapest\n",
      "America/Scoresbysund\n",
      "America/Fortaleza\n",
      "Asia/Sakhalin\n",
      "America/Manaus\n",
      "Europe/Belgrade\n",
      "Australia/South\n",
      "America/Louisville\n",
      "America/Whitehorse\n",
      "Asia/Krasnoyarsk\n",
      "America/Miquelon\n",
      "America/Swift_Current\n",
      "Etc/Greenwich\n",
      "America/Port-au-Prince\n",
      "Asia/Hong_Kong\n",
      "Atlantic/Reykjavik\n",
      "Asia/Ho_Chi_Minh\n",
      "Africa/Harare\n",
      "Etc/GMT-7\n",
      "Africa/Maputo\n",
      "Asia/Gaza\n",
      "Atlantic/Faroe\n",
      "Africa/Blantyre\n",
      "Europe/Luxembourg\n",
      "Turkey\n",
      "Pacific/Apia\n",
      "America/Argentina/San_Juan\n",
      "America/Atka\n",
      "America/Creston\n",
      "America/Bogota\n",
      "Portugal\n",
      "Pacific/Bougainville\n",
      "America/Hermosillo\n",
      "America/Kentucky/Monticello\n",
      "Australia/Currie\n",
      "Europe/Uzhgorod\n",
      "Singapore\n",
      "America/Aruba\n",
      "CET\n",
      "Pacific/Kiritimati\n",
      "Asia/Kashgar\n",
      "Pacific/Yap\n",
      "Canada/Pacific\n",
      "Etc/GMT-12\n",
      "Canada/Central\n",
      "Pacific/Norfolk\n",
      "Etc/GMT-3\n",
      "Africa/Abidjan\n",
      "Asia/Kamchatka\n",
      "Pacific/Truk\n",
      "Etc/GMT+10\n",
      "Europe/Gibraltar\n",
      "America/Tijuana\n",
      "Jamaica\n",
      "Europe/London\n",
      "America/Chihuahua\n",
      "Africa/Ceuta\n",
      "US/Pacific\n",
      "America/Godthab\n",
      "America/New_York\n",
      "Pacific/Funafuti\n",
      "Pacific/Easter\n",
      "Asia/Tashkent\n",
      "America/Adak\n",
      "Antarctica/South_Pole\n",
      "Indian/Maldives\n",
      "Pacific/Kwajalein\n",
      "Asia/Tehran\n",
      "Africa/Dar_es_Salaam\n",
      "Europe/Bucharest\n",
      "America/Argentina/Jujuy\n",
      "America/Curacao\n",
      "Etc/GMT+9\n",
      "America/Guatemala\n",
      "Asia/Aqtau\n",
      "Europe/Samara\n",
      "Europe/Madrid\n",
      "Europe/Moscow\n",
      "America/Vancouver\n",
      "Europe/Kirov\n",
      "Asia/Qyzylorda\n",
      "Africa/Algiers\n",
      "America/Porto_Acre\n",
      "Eire\n",
      "America/Tegucigalpa\n",
      "Africa/Accra\n",
      "Etc/GMT-8\n",
      "America/Detroit\n",
      "America/Kentucky/Louisville\n",
      "Brazil/East\n",
      "US/Aleutian\n",
      "Asia/Rangoon\n",
      "Asia/Thimphu\n",
      "Asia/Ulan_Bator\n",
      "America/Costa_Rica\n",
      "ROC\n",
      "Asia/Srednekolymsk\n",
      "America/Anguilla\n",
      "Europe/Vaduz\n",
      "Asia/Atyrau\n",
      "Etc/GMT-13\n",
      "Etc/UTC\n",
      "Australia/Lindeman\n",
      "America/Campo_Grande\n",
      "America/Nome\n",
      "Asia/Oral\n",
      "Pacific/Honolulu\n",
      "Africa/Brazzaville\n",
      "America/Argentina/La_Rioja\n",
      "America/Argentina/ComodRivadavia\n",
      "America/Cayman\n",
      "Pacific/Efate\n",
      "Asia/Jayapura\n",
      "Africa/Djibouti\n",
      "America/Thule\n",
      "Asia/Anadyr\n",
      "Asia/Makassar\n",
      "Atlantic/Bermuda\n",
      "Asia/Phnom_Penh\n",
      "Australia/Canberra\n",
      "Europe/Bratislava\n",
      "America/Ensenada\n",
      "NZ\n",
      "Asia/Choibalsan\n",
      "Australia/Lord_Howe\n",
      "Chile/Continental\n",
      "Europe/Belfast\n",
      "Europe/Prague\n",
      "Asia/Taipei\n",
      "Europe/Riga\n",
      "America/Araguaina\n",
      "Asia/Ashkhabad\n",
      "Africa/Maseru\n",
      "America/Argentina/Tucuman\n",
      "Europe/Amsterdam\n",
      "CST6CDT\n",
      "Mexico/BajaNorte\n",
      "America/Goose_Bay\n",
      "GMT+0\n",
      "Africa/Mbabane\n",
      "Africa/Kinshasa\n",
      "Indian/Mayotte\n",
      "Pacific/Kosrae\n",
      "Etc/GMT-10\n"
     ]
    }
   ],
   "source": [
    "for i in pytz.all_timezones_set:\n",
    "    print (i)"
   ]
  },
  {
   "cell_type": "code",
   "execution_count": 70,
   "metadata": {},
   "outputs": [
    {
     "data": {
      "text/plain": [
       "['Africa/Abidjan', 'Africa/Accra', 'Africa/Addis_Ababa', 'Africa/Algiers', 'Africa/Asmara', 'Africa/Bamako', 'Africa/Bangui', 'Africa/Banjul', 'Africa/Bissau', 'Africa/Blantyre', 'Africa/Brazzaville', 'Africa/Bujumbura', 'Africa/Cairo', 'Africa/Casablanca', 'Africa/Ceuta', 'Africa/Conakry', 'Africa/Dakar', 'Africa/Dar_es_Salaam', 'Africa/Djibouti', 'Africa/Douala', 'Africa/El_Aaiun', 'Africa/Freetown', 'Africa/Gaborone', 'Africa/Harare', 'Africa/Johannesburg', 'Africa/Juba', 'Africa/Kampala', 'Africa/Khartoum', 'Africa/Kigali', 'Africa/Kinshasa', 'Africa/Lagos', 'Africa/Libreville', 'Africa/Lome', 'Africa/Luanda', 'Africa/Lubumbashi', 'Africa/Lusaka', 'Africa/Malabo', 'Africa/Maputo', 'Africa/Maseru', 'Africa/Mbabane', 'Africa/Mogadishu', 'Africa/Monrovia', 'Africa/Nairobi', 'Africa/Ndjamena', 'Africa/Niamey', 'Africa/Nouakchott', 'Africa/Ouagadougou', 'Africa/Porto-Novo', 'Africa/Sao_Tome', 'Africa/Tripoli', 'Africa/Tunis', 'Africa/Windhoek', 'America/Adak', 'America/Anchorage', 'America/Anguilla', 'America/Antigua', 'America/Araguaina', 'America/Argentina/Buenos_Aires', 'America/Argentina/Catamarca', 'America/Argentina/Cordoba', 'America/Argentina/Jujuy', 'America/Argentina/La_Rioja', 'America/Argentina/Mendoza', 'America/Argentina/Rio_Gallegos', 'America/Argentina/Salta', 'America/Argentina/San_Juan', 'America/Argentina/San_Luis', 'America/Argentina/Tucuman', 'America/Argentina/Ushuaia', 'America/Aruba', 'America/Asuncion', 'America/Atikokan', 'America/Bahia', 'America/Bahia_Banderas', 'America/Barbados', 'America/Belem', 'America/Belize', 'America/Blanc-Sablon', 'America/Boa_Vista', 'America/Bogota', 'America/Boise', 'America/Cambridge_Bay', 'America/Campo_Grande', 'America/Cancun', 'America/Caracas', 'America/Cayenne', 'America/Cayman', 'America/Chicago', 'America/Chihuahua', 'America/Costa_Rica', 'America/Creston', 'America/Cuiaba', 'America/Curacao', 'America/Danmarkshavn', 'America/Dawson', 'America/Dawson_Creek', 'America/Denver', 'America/Detroit', 'America/Dominica', 'America/Edmonton', 'America/Eirunepe', 'America/El_Salvador', 'America/Fort_Nelson', 'America/Fortaleza', 'America/Glace_Bay', 'America/Godthab', 'America/Goose_Bay', 'America/Grand_Turk', 'America/Grenada', 'America/Guadeloupe', 'America/Guatemala', 'America/Guayaquil', 'America/Guyana', 'America/Halifax', 'America/Havana', 'America/Hermosillo', 'America/Indiana/Indianapolis', 'America/Indiana/Knox', 'America/Indiana/Marengo', 'America/Indiana/Petersburg', 'America/Indiana/Tell_City', 'America/Indiana/Vevay', 'America/Indiana/Vincennes', 'America/Indiana/Winamac', 'America/Inuvik', 'America/Iqaluit', 'America/Jamaica', 'America/Juneau', 'America/Kentucky/Louisville', 'America/Kentucky/Monticello', 'America/Kralendijk', 'America/La_Paz', 'America/Lima', 'America/Los_Angeles', 'America/Lower_Princes', 'America/Maceio', 'America/Managua', 'America/Manaus', 'America/Marigot', 'America/Martinique', 'America/Matamoros', 'America/Mazatlan', 'America/Menominee', 'America/Merida', 'America/Metlakatla', 'America/Mexico_City', 'America/Miquelon', 'America/Moncton', 'America/Monterrey', 'America/Montevideo', 'America/Montserrat', 'America/Nassau', 'America/New_York', 'America/Nipigon', 'America/Nome', 'America/Noronha', 'America/North_Dakota/Beulah', 'America/North_Dakota/Center', 'America/North_Dakota/New_Salem', 'America/Ojinaga', 'America/Panama', 'America/Pangnirtung', 'America/Paramaribo', 'America/Phoenix', 'America/Port-au-Prince', 'America/Port_of_Spain', 'America/Porto_Velho', 'America/Puerto_Rico', 'America/Punta_Arenas', 'America/Rainy_River', 'America/Rankin_Inlet', 'America/Recife', 'America/Regina', 'America/Resolute', 'America/Rio_Branco', 'America/Santarem', 'America/Santiago', 'America/Santo_Domingo', 'America/Sao_Paulo', 'America/Scoresbysund', 'America/Sitka', 'America/St_Barthelemy', 'America/St_Johns', 'America/St_Kitts', 'America/St_Lucia', 'America/St_Thomas', 'America/St_Vincent', 'America/Swift_Current', 'America/Tegucigalpa', 'America/Thule', 'America/Thunder_Bay', 'America/Tijuana', 'America/Toronto', 'America/Tortola', 'America/Vancouver', 'America/Whitehorse', 'America/Winnipeg', 'America/Yakutat', 'America/Yellowknife', 'Antarctica/Casey', 'Antarctica/Davis', 'Antarctica/DumontDUrville', 'Antarctica/Macquarie', 'Antarctica/Mawson', 'Antarctica/McMurdo', 'Antarctica/Palmer', 'Antarctica/Rothera', 'Antarctica/Syowa', 'Antarctica/Troll', 'Antarctica/Vostok', 'Arctic/Longyearbyen', 'Asia/Aden', 'Asia/Almaty', 'Asia/Amman', 'Asia/Anadyr', 'Asia/Aqtau', 'Asia/Aqtobe', 'Asia/Ashgabat', 'Asia/Atyrau', 'Asia/Baghdad', 'Asia/Bahrain', 'Asia/Baku', 'Asia/Bangkok', 'Asia/Barnaul', 'Asia/Beirut', 'Asia/Bishkek', 'Asia/Brunei', 'Asia/Chita', 'Asia/Choibalsan', 'Asia/Colombo', 'Asia/Damascus', 'Asia/Dhaka', 'Asia/Dili', 'Asia/Dubai', 'Asia/Dushanbe', 'Asia/Famagusta', 'Asia/Gaza', 'Asia/Hebron', 'Asia/Ho_Chi_Minh', 'Asia/Hong_Kong', 'Asia/Hovd', 'Asia/Irkutsk', 'Asia/Jakarta', 'Asia/Jayapura', 'Asia/Jerusalem', 'Asia/Kabul', 'Asia/Kamchatka', 'Asia/Karachi', 'Asia/Kathmandu', 'Asia/Khandyga', 'Asia/Kolkata', 'Asia/Krasnoyarsk', 'Asia/Kuala_Lumpur', 'Asia/Kuching', 'Asia/Kuwait', 'Asia/Macau', 'Asia/Magadan', 'Asia/Makassar', 'Asia/Manila', 'Asia/Muscat', 'Asia/Nicosia', 'Asia/Novokuznetsk', 'Asia/Novosibirsk', 'Asia/Omsk', 'Asia/Oral', 'Asia/Phnom_Penh', 'Asia/Pontianak', 'Asia/Pyongyang', 'Asia/Qatar', 'Asia/Qostanay', 'Asia/Qyzylorda', 'Asia/Riyadh', 'Asia/Sakhalin', 'Asia/Samarkand', 'Asia/Seoul', 'Asia/Shanghai', 'Asia/Singapore', 'Asia/Srednekolymsk', 'Asia/Taipei', 'Asia/Tashkent', 'Asia/Tbilisi', 'Asia/Tehran', 'Asia/Thimphu', 'Asia/Tokyo', 'Asia/Tomsk', 'Asia/Ulaanbaatar', 'Asia/Urumqi', 'Asia/Ust-Nera', 'Asia/Vientiane', 'Asia/Vladivostok', 'Asia/Yakutsk', 'Asia/Yangon', 'Asia/Yekaterinburg', 'Asia/Yerevan', 'Atlantic/Azores', 'Atlantic/Bermuda', 'Atlantic/Canary', 'Atlantic/Cape_Verde', 'Atlantic/Faroe', 'Atlantic/Madeira', 'Atlantic/Reykjavik', 'Atlantic/South_Georgia', 'Atlantic/St_Helena', 'Atlantic/Stanley', 'Australia/Adelaide', 'Australia/Brisbane', 'Australia/Broken_Hill', 'Australia/Currie', 'Australia/Darwin', 'Australia/Eucla', 'Australia/Hobart', 'Australia/Lindeman', 'Australia/Lord_Howe', 'Australia/Melbourne', 'Australia/Perth', 'Australia/Sydney', 'Canada/Atlantic', 'Canada/Central', 'Canada/Eastern', 'Canada/Mountain', 'Canada/Newfoundland', 'Canada/Pacific', 'Europe/Amsterdam', 'Europe/Andorra', 'Europe/Astrakhan', 'Europe/Athens', 'Europe/Belgrade', 'Europe/Berlin', 'Europe/Bratislava', 'Europe/Brussels', 'Europe/Bucharest', 'Europe/Budapest', 'Europe/Busingen', 'Europe/Chisinau', 'Europe/Copenhagen', 'Europe/Dublin', 'Europe/Gibraltar', 'Europe/Guernsey', 'Europe/Helsinki', 'Europe/Isle_of_Man', 'Europe/Istanbul', 'Europe/Jersey', 'Europe/Kaliningrad', 'Europe/Kiev', 'Europe/Kirov', 'Europe/Lisbon', 'Europe/Ljubljana', 'Europe/London', 'Europe/Luxembourg', 'Europe/Madrid', 'Europe/Malta', 'Europe/Mariehamn', 'Europe/Minsk', 'Europe/Monaco', 'Europe/Moscow', 'Europe/Oslo', 'Europe/Paris', 'Europe/Podgorica', 'Europe/Prague', 'Europe/Riga', 'Europe/Rome', 'Europe/Samara', 'Europe/San_Marino', 'Europe/Sarajevo', 'Europe/Saratov', 'Europe/Simferopol', 'Europe/Skopje', 'Europe/Sofia', 'Europe/Stockholm', 'Europe/Tallinn', 'Europe/Tirane', 'Europe/Ulyanovsk', 'Europe/Uzhgorod', 'Europe/Vaduz', 'Europe/Vatican', 'Europe/Vienna', 'Europe/Vilnius', 'Europe/Volgograd', 'Europe/Warsaw', 'Europe/Zagreb', 'Europe/Zaporozhye', 'Europe/Zurich', 'GMT', 'Indian/Antananarivo', 'Indian/Chagos', 'Indian/Christmas', 'Indian/Cocos', 'Indian/Comoro', 'Indian/Kerguelen', 'Indian/Mahe', 'Indian/Maldives', 'Indian/Mauritius', 'Indian/Mayotte', 'Indian/Reunion', 'Pacific/Apia', 'Pacific/Auckland', 'Pacific/Bougainville', 'Pacific/Chatham', 'Pacific/Chuuk', 'Pacific/Easter', 'Pacific/Efate', 'Pacific/Enderbury', 'Pacific/Fakaofo', 'Pacific/Fiji', 'Pacific/Funafuti', 'Pacific/Galapagos', 'Pacific/Gambier', 'Pacific/Guadalcanal', 'Pacific/Guam', 'Pacific/Honolulu', 'Pacific/Kiritimati', 'Pacific/Kosrae', 'Pacific/Kwajalein', 'Pacific/Majuro', 'Pacific/Marquesas', 'Pacific/Midway', 'Pacific/Nauru', 'Pacific/Niue', 'Pacific/Norfolk', 'Pacific/Noumea', 'Pacific/Pago_Pago', 'Pacific/Palau', 'Pacific/Pitcairn', 'Pacific/Pohnpei', 'Pacific/Port_Moresby', 'Pacific/Rarotonga', 'Pacific/Saipan', 'Pacific/Tahiti', 'Pacific/Tarawa', 'Pacific/Tongatapu', 'Pacific/Wake', 'Pacific/Wallis', 'US/Alaska', 'US/Arizona', 'US/Central', 'US/Eastern', 'US/Hawaii', 'US/Mountain', 'US/Pacific', 'UTC']"
      ]
     },
     "execution_count": 70,
     "metadata": {},
     "output_type": "execute_result"
    }
   ],
   "source": [
    "pytz.common_timezones"
   ]
  },
  {
   "cell_type": "code",
   "execution_count": 76,
   "metadata": {},
   "outputs": [
    {
     "data": {
      "text/plain": [
       "{'Africa/Abidjan',\n",
       " 'Africa/Accra',\n",
       " 'Africa/Addis_Ababa',\n",
       " 'Africa/Algiers',\n",
       " 'Africa/Asmara',\n",
       " 'Africa/Asmera',\n",
       " 'Africa/Bamako',\n",
       " 'Africa/Bangui',\n",
       " 'Africa/Banjul',\n",
       " 'Africa/Bissau',\n",
       " 'Africa/Blantyre',\n",
       " 'Africa/Brazzaville',\n",
       " 'Africa/Bujumbura',\n",
       " 'Africa/Cairo',\n",
       " 'Africa/Casablanca',\n",
       " 'Africa/Ceuta',\n",
       " 'Africa/Conakry',\n",
       " 'Africa/Dakar',\n",
       " 'Africa/Dar_es_Salaam',\n",
       " 'Africa/Djibouti',\n",
       " 'Africa/Douala',\n",
       " 'Africa/El_Aaiun',\n",
       " 'Africa/Freetown',\n",
       " 'Africa/Gaborone',\n",
       " 'Africa/Harare',\n",
       " 'Africa/Johannesburg',\n",
       " 'Africa/Juba',\n",
       " 'Africa/Kampala',\n",
       " 'Africa/Khartoum',\n",
       " 'Africa/Kigali',\n",
       " 'Africa/Kinshasa',\n",
       " 'Africa/Lagos',\n",
       " 'Africa/Libreville',\n",
       " 'Africa/Lome',\n",
       " 'Africa/Luanda',\n",
       " 'Africa/Lubumbashi',\n",
       " 'Africa/Lusaka',\n",
       " 'Africa/Malabo',\n",
       " 'Africa/Maputo',\n",
       " 'Africa/Maseru',\n",
       " 'Africa/Mbabane',\n",
       " 'Africa/Mogadishu',\n",
       " 'Africa/Monrovia',\n",
       " 'Africa/Nairobi',\n",
       " 'Africa/Ndjamena',\n",
       " 'Africa/Niamey',\n",
       " 'Africa/Nouakchott',\n",
       " 'Africa/Ouagadougou',\n",
       " 'Africa/Porto-Novo',\n",
       " 'Africa/Sao_Tome',\n",
       " 'Africa/Timbuktu',\n",
       " 'Africa/Tripoli',\n",
       " 'Africa/Tunis',\n",
       " 'Africa/Windhoek',\n",
       " 'America/Adak',\n",
       " 'America/Anchorage',\n",
       " 'America/Anguilla',\n",
       " 'America/Antigua',\n",
       " 'America/Araguaina',\n",
       " 'America/Argentina/Buenos_Aires',\n",
       " 'America/Argentina/Catamarca',\n",
       " 'America/Argentina/ComodRivadavia',\n",
       " 'America/Argentina/Cordoba',\n",
       " 'America/Argentina/Jujuy',\n",
       " 'America/Argentina/La_Rioja',\n",
       " 'America/Argentina/Mendoza',\n",
       " 'America/Argentina/Rio_Gallegos',\n",
       " 'America/Argentina/Salta',\n",
       " 'America/Argentina/San_Juan',\n",
       " 'America/Argentina/San_Luis',\n",
       " 'America/Argentina/Tucuman',\n",
       " 'America/Argentina/Ushuaia',\n",
       " 'America/Aruba',\n",
       " 'America/Asuncion',\n",
       " 'America/Atikokan',\n",
       " 'America/Atka',\n",
       " 'America/Bahia',\n",
       " 'America/Bahia_Banderas',\n",
       " 'America/Barbados',\n",
       " 'America/Belem',\n",
       " 'America/Belize',\n",
       " 'America/Blanc-Sablon',\n",
       " 'America/Boa_Vista',\n",
       " 'America/Bogota',\n",
       " 'America/Boise',\n",
       " 'America/Buenos_Aires',\n",
       " 'America/Cambridge_Bay',\n",
       " 'America/Campo_Grande',\n",
       " 'America/Cancun',\n",
       " 'America/Caracas',\n",
       " 'America/Catamarca',\n",
       " 'America/Cayenne',\n",
       " 'America/Cayman',\n",
       " 'America/Chicago',\n",
       " 'America/Chihuahua',\n",
       " 'America/Coral_Harbour',\n",
       " 'America/Cordoba',\n",
       " 'America/Costa_Rica',\n",
       " 'America/Creston',\n",
       " 'America/Cuiaba',\n",
       " 'America/Curacao',\n",
       " 'America/Danmarkshavn',\n",
       " 'America/Dawson',\n",
       " 'America/Dawson_Creek',\n",
       " 'America/Denver',\n",
       " 'America/Detroit',\n",
       " 'America/Dominica',\n",
       " 'America/Edmonton',\n",
       " 'America/Eirunepe',\n",
       " 'America/El_Salvador',\n",
       " 'America/Ensenada',\n",
       " 'America/Fort_Nelson',\n",
       " 'America/Fort_Wayne',\n",
       " 'America/Fortaleza',\n",
       " 'America/Glace_Bay',\n",
       " 'America/Godthab',\n",
       " 'America/Goose_Bay',\n",
       " 'America/Grand_Turk',\n",
       " 'America/Grenada',\n",
       " 'America/Guadeloupe',\n",
       " 'America/Guatemala',\n",
       " 'America/Guayaquil',\n",
       " 'America/Guyana',\n",
       " 'America/Halifax',\n",
       " 'America/Havana',\n",
       " 'America/Hermosillo',\n",
       " 'America/Indiana/Indianapolis',\n",
       " 'America/Indiana/Knox',\n",
       " 'America/Indiana/Marengo',\n",
       " 'America/Indiana/Petersburg',\n",
       " 'America/Indiana/Tell_City',\n",
       " 'America/Indiana/Vevay',\n",
       " 'America/Indiana/Vincennes',\n",
       " 'America/Indiana/Winamac',\n",
       " 'America/Indianapolis',\n",
       " 'America/Inuvik',\n",
       " 'America/Iqaluit',\n",
       " 'America/Jamaica',\n",
       " 'America/Jujuy',\n",
       " 'America/Juneau',\n",
       " 'America/Kentucky/Louisville',\n",
       " 'America/Kentucky/Monticello',\n",
       " 'America/Knox_IN',\n",
       " 'America/Kralendijk',\n",
       " 'America/La_Paz',\n",
       " 'America/Lima',\n",
       " 'America/Los_Angeles',\n",
       " 'America/Louisville',\n",
       " 'America/Lower_Princes',\n",
       " 'America/Maceio',\n",
       " 'America/Managua',\n",
       " 'America/Manaus',\n",
       " 'America/Marigot',\n",
       " 'America/Martinique',\n",
       " 'America/Matamoros',\n",
       " 'America/Mazatlan',\n",
       " 'America/Mendoza',\n",
       " 'America/Menominee',\n",
       " 'America/Merida',\n",
       " 'America/Metlakatla',\n",
       " 'America/Mexico_City',\n",
       " 'America/Miquelon',\n",
       " 'America/Moncton',\n",
       " 'America/Monterrey',\n",
       " 'America/Montevideo',\n",
       " 'America/Montreal',\n",
       " 'America/Montserrat',\n",
       " 'America/Nassau',\n",
       " 'America/New_York',\n",
       " 'America/Nipigon',\n",
       " 'America/Nome',\n",
       " 'America/Noronha',\n",
       " 'America/North_Dakota/Beulah',\n",
       " 'America/North_Dakota/Center',\n",
       " 'America/North_Dakota/New_Salem',\n",
       " 'America/Ojinaga',\n",
       " 'America/Panama',\n",
       " 'America/Pangnirtung',\n",
       " 'America/Paramaribo',\n",
       " 'America/Phoenix',\n",
       " 'America/Port-au-Prince',\n",
       " 'America/Port_of_Spain',\n",
       " 'America/Porto_Acre',\n",
       " 'America/Porto_Velho',\n",
       " 'America/Puerto_Rico',\n",
       " 'America/Punta_Arenas',\n",
       " 'America/Rainy_River',\n",
       " 'America/Rankin_Inlet',\n",
       " 'America/Recife',\n",
       " 'America/Regina',\n",
       " 'America/Resolute',\n",
       " 'America/Rio_Branco',\n",
       " 'America/Rosario',\n",
       " 'America/Santa_Isabel',\n",
       " 'America/Santarem',\n",
       " 'America/Santiago',\n",
       " 'America/Santo_Domingo',\n",
       " 'America/Sao_Paulo',\n",
       " 'America/Scoresbysund',\n",
       " 'America/Shiprock',\n",
       " 'America/Sitka',\n",
       " 'America/St_Barthelemy',\n",
       " 'America/St_Johns',\n",
       " 'America/St_Kitts',\n",
       " 'America/St_Lucia',\n",
       " 'America/St_Thomas',\n",
       " 'America/St_Vincent',\n",
       " 'America/Swift_Current',\n",
       " 'America/Tegucigalpa',\n",
       " 'America/Thule',\n",
       " 'America/Thunder_Bay',\n",
       " 'America/Tijuana',\n",
       " 'America/Toronto',\n",
       " 'America/Tortola',\n",
       " 'America/Vancouver',\n",
       " 'America/Virgin',\n",
       " 'America/Whitehorse',\n",
       " 'America/Winnipeg',\n",
       " 'America/Yakutat',\n",
       " 'America/Yellowknife',\n",
       " 'Antarctica/Casey',\n",
       " 'Antarctica/Davis',\n",
       " 'Antarctica/DumontDUrville',\n",
       " 'Antarctica/Macquarie',\n",
       " 'Antarctica/Mawson',\n",
       " 'Antarctica/McMurdo',\n",
       " 'Antarctica/Palmer',\n",
       " 'Antarctica/Rothera',\n",
       " 'Antarctica/South_Pole',\n",
       " 'Antarctica/Syowa',\n",
       " 'Antarctica/Troll',\n",
       " 'Antarctica/Vostok',\n",
       " 'Arctic/Longyearbyen',\n",
       " 'Asia/Aden',\n",
       " 'Asia/Almaty',\n",
       " 'Asia/Amman',\n",
       " 'Asia/Anadyr',\n",
       " 'Asia/Aqtau',\n",
       " 'Asia/Aqtobe',\n",
       " 'Asia/Ashgabat',\n",
       " 'Asia/Ashkhabad',\n",
       " 'Asia/Atyrau',\n",
       " 'Asia/Baghdad',\n",
       " 'Asia/Bahrain',\n",
       " 'Asia/Baku',\n",
       " 'Asia/Bangkok',\n",
       " 'Asia/Barnaul',\n",
       " 'Asia/Beirut',\n",
       " 'Asia/Bishkek',\n",
       " 'Asia/Brunei',\n",
       " 'Asia/Calcutta',\n",
       " 'Asia/Chita',\n",
       " 'Asia/Choibalsan',\n",
       " 'Asia/Chongqing',\n",
       " 'Asia/Chungking',\n",
       " 'Asia/Colombo',\n",
       " 'Asia/Dacca',\n",
       " 'Asia/Damascus',\n",
       " 'Asia/Dhaka',\n",
       " 'Asia/Dili',\n",
       " 'Asia/Dubai',\n",
       " 'Asia/Dushanbe',\n",
       " 'Asia/Famagusta',\n",
       " 'Asia/Gaza',\n",
       " 'Asia/Harbin',\n",
       " 'Asia/Hebron',\n",
       " 'Asia/Ho_Chi_Minh',\n",
       " 'Asia/Hong_Kong',\n",
       " 'Asia/Hovd',\n",
       " 'Asia/Irkutsk',\n",
       " 'Asia/Istanbul',\n",
       " 'Asia/Jakarta',\n",
       " 'Asia/Jayapura',\n",
       " 'Asia/Jerusalem',\n",
       " 'Asia/Kabul',\n",
       " 'Asia/Kamchatka',\n",
       " 'Asia/Karachi',\n",
       " 'Asia/Kashgar',\n",
       " 'Asia/Kathmandu',\n",
       " 'Asia/Katmandu',\n",
       " 'Asia/Khandyga',\n",
       " 'Asia/Kolkata',\n",
       " 'Asia/Krasnoyarsk',\n",
       " 'Asia/Kuala_Lumpur',\n",
       " 'Asia/Kuching',\n",
       " 'Asia/Kuwait',\n",
       " 'Asia/Macao',\n",
       " 'Asia/Macau',\n",
       " 'Asia/Magadan',\n",
       " 'Asia/Makassar',\n",
       " 'Asia/Manila',\n",
       " 'Asia/Muscat',\n",
       " 'Asia/Nicosia',\n",
       " 'Asia/Novokuznetsk',\n",
       " 'Asia/Novosibirsk',\n",
       " 'Asia/Omsk',\n",
       " 'Asia/Oral',\n",
       " 'Asia/Phnom_Penh',\n",
       " 'Asia/Pontianak',\n",
       " 'Asia/Pyongyang',\n",
       " 'Asia/Qatar',\n",
       " 'Asia/Qostanay',\n",
       " 'Asia/Qyzylorda',\n",
       " 'Asia/Rangoon',\n",
       " 'Asia/Riyadh',\n",
       " 'Asia/Saigon',\n",
       " 'Asia/Sakhalin',\n",
       " 'Asia/Samarkand',\n",
       " 'Asia/Seoul',\n",
       " 'Asia/Shanghai',\n",
       " 'Asia/Singapore',\n",
       " 'Asia/Srednekolymsk',\n",
       " 'Asia/Taipei',\n",
       " 'Asia/Tashkent',\n",
       " 'Asia/Tbilisi',\n",
       " 'Asia/Tehran',\n",
       " 'Asia/Tel_Aviv',\n",
       " 'Asia/Thimbu',\n",
       " 'Asia/Thimphu',\n",
       " 'Asia/Tokyo',\n",
       " 'Asia/Tomsk',\n",
       " 'Asia/Ujung_Pandang',\n",
       " 'Asia/Ulaanbaatar',\n",
       " 'Asia/Ulan_Bator',\n",
       " 'Asia/Urumqi',\n",
       " 'Asia/Ust-Nera',\n",
       " 'Asia/Vientiane',\n",
       " 'Asia/Vladivostok',\n",
       " 'Asia/Yakutsk',\n",
       " 'Asia/Yangon',\n",
       " 'Asia/Yekaterinburg',\n",
       " 'Asia/Yerevan',\n",
       " 'Atlantic/Azores',\n",
       " 'Atlantic/Bermuda',\n",
       " 'Atlantic/Canary',\n",
       " 'Atlantic/Cape_Verde',\n",
       " 'Atlantic/Faeroe',\n",
       " 'Atlantic/Faroe',\n",
       " 'Atlantic/Jan_Mayen',\n",
       " 'Atlantic/Madeira',\n",
       " 'Atlantic/Reykjavik',\n",
       " 'Atlantic/South_Georgia',\n",
       " 'Atlantic/St_Helena',\n",
       " 'Atlantic/Stanley',\n",
       " 'Australia/ACT',\n",
       " 'Australia/Adelaide',\n",
       " 'Australia/Brisbane',\n",
       " 'Australia/Broken_Hill',\n",
       " 'Australia/Canberra',\n",
       " 'Australia/Currie',\n",
       " 'Australia/Darwin',\n",
       " 'Australia/Eucla',\n",
       " 'Australia/Hobart',\n",
       " 'Australia/LHI',\n",
       " 'Australia/Lindeman',\n",
       " 'Australia/Lord_Howe',\n",
       " 'Australia/Melbourne',\n",
       " 'Australia/NSW',\n",
       " 'Australia/North',\n",
       " 'Australia/Perth',\n",
       " 'Australia/Queensland',\n",
       " 'Australia/South',\n",
       " 'Australia/Sydney',\n",
       " 'Australia/Tasmania',\n",
       " 'Australia/Victoria',\n",
       " 'Australia/West',\n",
       " 'Australia/Yancowinna',\n",
       " 'Brazil/Acre',\n",
       " 'Brazil/DeNoronha',\n",
       " 'Brazil/East',\n",
       " 'Brazil/West',\n",
       " 'CET',\n",
       " 'CST6CDT',\n",
       " 'Canada/Atlantic',\n",
       " 'Canada/Central',\n",
       " 'Canada/Eastern',\n",
       " 'Canada/Mountain',\n",
       " 'Canada/Newfoundland',\n",
       " 'Canada/Pacific',\n",
       " 'Canada/Saskatchewan',\n",
       " 'Canada/Yukon',\n",
       " 'Chile/Continental',\n",
       " 'Chile/EasterIsland',\n",
       " 'Cuba',\n",
       " 'EET',\n",
       " 'EST',\n",
       " 'EST5EDT',\n",
       " 'Egypt',\n",
       " 'Eire',\n",
       " 'Etc/GMT',\n",
       " 'Etc/GMT+0',\n",
       " 'Etc/GMT+1',\n",
       " 'Etc/GMT+10',\n",
       " 'Etc/GMT+11',\n",
       " 'Etc/GMT+12',\n",
       " 'Etc/GMT+2',\n",
       " 'Etc/GMT+3',\n",
       " 'Etc/GMT+4',\n",
       " 'Etc/GMT+5',\n",
       " 'Etc/GMT+6',\n",
       " 'Etc/GMT+7',\n",
       " 'Etc/GMT+8',\n",
       " 'Etc/GMT+9',\n",
       " 'Etc/GMT-0',\n",
       " 'Etc/GMT-1',\n",
       " 'Etc/GMT-10',\n",
       " 'Etc/GMT-11',\n",
       " 'Etc/GMT-12',\n",
       " 'Etc/GMT-13',\n",
       " 'Etc/GMT-14',\n",
       " 'Etc/GMT-2',\n",
       " 'Etc/GMT-3',\n",
       " 'Etc/GMT-4',\n",
       " 'Etc/GMT-5',\n",
       " 'Etc/GMT-6',\n",
       " 'Etc/GMT-7',\n",
       " 'Etc/GMT-8',\n",
       " 'Etc/GMT-9',\n",
       " 'Etc/GMT0',\n",
       " 'Etc/Greenwich',\n",
       " 'Etc/UCT',\n",
       " 'Etc/UTC',\n",
       " 'Etc/Universal',\n",
       " 'Etc/Zulu',\n",
       " 'Europe/Amsterdam',\n",
       " 'Europe/Andorra',\n",
       " 'Europe/Astrakhan',\n",
       " 'Europe/Athens',\n",
       " 'Europe/Belfast',\n",
       " 'Europe/Belgrade',\n",
       " 'Europe/Berlin',\n",
       " 'Europe/Bratislava',\n",
       " 'Europe/Brussels',\n",
       " 'Europe/Bucharest',\n",
       " 'Europe/Budapest',\n",
       " 'Europe/Busingen',\n",
       " 'Europe/Chisinau',\n",
       " 'Europe/Copenhagen',\n",
       " 'Europe/Dublin',\n",
       " 'Europe/Gibraltar',\n",
       " 'Europe/Guernsey',\n",
       " 'Europe/Helsinki',\n",
       " 'Europe/Isle_of_Man',\n",
       " 'Europe/Istanbul',\n",
       " 'Europe/Jersey',\n",
       " 'Europe/Kaliningrad',\n",
       " 'Europe/Kiev',\n",
       " 'Europe/Kirov',\n",
       " 'Europe/Lisbon',\n",
       " 'Europe/Ljubljana',\n",
       " 'Europe/London',\n",
       " 'Europe/Luxembourg',\n",
       " 'Europe/Madrid',\n",
       " 'Europe/Malta',\n",
       " 'Europe/Mariehamn',\n",
       " 'Europe/Minsk',\n",
       " 'Europe/Monaco',\n",
       " 'Europe/Moscow',\n",
       " 'Europe/Nicosia',\n",
       " 'Europe/Oslo',\n",
       " 'Europe/Paris',\n",
       " 'Europe/Podgorica',\n",
       " 'Europe/Prague',\n",
       " 'Europe/Riga',\n",
       " 'Europe/Rome',\n",
       " 'Europe/Samara',\n",
       " 'Europe/San_Marino',\n",
       " 'Europe/Sarajevo',\n",
       " 'Europe/Saratov',\n",
       " 'Europe/Simferopol',\n",
       " 'Europe/Skopje',\n",
       " 'Europe/Sofia',\n",
       " 'Europe/Stockholm',\n",
       " 'Europe/Tallinn',\n",
       " 'Europe/Tirane',\n",
       " 'Europe/Tiraspol',\n",
       " 'Europe/Ulyanovsk',\n",
       " 'Europe/Uzhgorod',\n",
       " 'Europe/Vaduz',\n",
       " 'Europe/Vatican',\n",
       " 'Europe/Vienna',\n",
       " 'Europe/Vilnius',\n",
       " 'Europe/Volgograd',\n",
       " 'Europe/Warsaw',\n",
       " 'Europe/Zagreb',\n",
       " 'Europe/Zaporozhye',\n",
       " 'Europe/Zurich',\n",
       " 'GB',\n",
       " 'GB-Eire',\n",
       " 'GMT',\n",
       " 'GMT+0',\n",
       " 'GMT-0',\n",
       " 'GMT0',\n",
       " 'Greenwich',\n",
       " 'HST',\n",
       " 'Hongkong',\n",
       " 'Iceland',\n",
       " 'Indian/Antananarivo',\n",
       " 'Indian/Chagos',\n",
       " 'Indian/Christmas',\n",
       " 'Indian/Cocos',\n",
       " 'Indian/Comoro',\n",
       " 'Indian/Kerguelen',\n",
       " 'Indian/Mahe',\n",
       " 'Indian/Maldives',\n",
       " 'Indian/Mauritius',\n",
       " 'Indian/Mayotte',\n",
       " 'Indian/Reunion',\n",
       " 'Iran',\n",
       " 'Israel',\n",
       " 'Jamaica',\n",
       " 'Japan',\n",
       " 'Kwajalein',\n",
       " 'Libya',\n",
       " 'MET',\n",
       " 'MST',\n",
       " 'MST7MDT',\n",
       " 'Mexico/BajaNorte',\n",
       " 'Mexico/BajaSur',\n",
       " 'Mexico/General',\n",
       " 'NZ',\n",
       " 'NZ-CHAT',\n",
       " 'Navajo',\n",
       " 'PRC',\n",
       " 'PST8PDT',\n",
       " 'Pacific/Apia',\n",
       " 'Pacific/Auckland',\n",
       " 'Pacific/Bougainville',\n",
       " 'Pacific/Chatham',\n",
       " 'Pacific/Chuuk',\n",
       " 'Pacific/Easter',\n",
       " 'Pacific/Efate',\n",
       " 'Pacific/Enderbury',\n",
       " 'Pacific/Fakaofo',\n",
       " 'Pacific/Fiji',\n",
       " 'Pacific/Funafuti',\n",
       " 'Pacific/Galapagos',\n",
       " 'Pacific/Gambier',\n",
       " 'Pacific/Guadalcanal',\n",
       " 'Pacific/Guam',\n",
       " 'Pacific/Honolulu',\n",
       " 'Pacific/Johnston',\n",
       " 'Pacific/Kiritimati',\n",
       " 'Pacific/Kosrae',\n",
       " 'Pacific/Kwajalein',\n",
       " 'Pacific/Majuro',\n",
       " 'Pacific/Marquesas',\n",
       " 'Pacific/Midway',\n",
       " 'Pacific/Nauru',\n",
       " 'Pacific/Niue',\n",
       " 'Pacific/Norfolk',\n",
       " 'Pacific/Noumea',\n",
       " 'Pacific/Pago_Pago',\n",
       " 'Pacific/Palau',\n",
       " 'Pacific/Pitcairn',\n",
       " 'Pacific/Pohnpei',\n",
       " 'Pacific/Ponape',\n",
       " 'Pacific/Port_Moresby',\n",
       " 'Pacific/Rarotonga',\n",
       " 'Pacific/Saipan',\n",
       " 'Pacific/Samoa',\n",
       " 'Pacific/Tahiti',\n",
       " 'Pacific/Tarawa',\n",
       " 'Pacific/Tongatapu',\n",
       " 'Pacific/Truk',\n",
       " 'Pacific/Wake',\n",
       " 'Pacific/Wallis',\n",
       " 'Pacific/Yap',\n",
       " 'Poland',\n",
       " 'Portugal',\n",
       " 'ROC',\n",
       " 'ROK',\n",
       " 'Singapore',\n",
       " 'Turkey',\n",
       " 'UCT',\n",
       " 'US/Alaska',\n",
       " 'US/Aleutian',\n",
       " 'US/Arizona',\n",
       " 'US/Central',\n",
       " 'US/East-Indiana',\n",
       " 'US/Eastern',\n",
       " 'US/Hawaii',\n",
       " 'US/Indiana-Starke',\n",
       " 'US/Michigan',\n",
       " 'US/Mountain',\n",
       " 'US/Pacific',\n",
       " 'US/Samoa',\n",
       " 'UTC',\n",
       " 'Universal',\n",
       " 'W-SU',\n",
       " 'WET',\n",
       " 'Zulu'}"
      ]
     },
     "execution_count": 76,
     "metadata": {},
     "output_type": "execute_result"
    }
   ],
   "source": [
    "pytz.all_timezones_set"
   ]
  },
  {
   "cell_type": "code",
   "execution_count": 79,
   "metadata": {},
   "outputs": [
    {
     "name": "stdout",
     "output_type": "stream",
     "text": [
      "AD\n",
      "AE\n",
      "AF\n",
      "AG\n",
      "AI\n",
      "AL\n",
      "AM\n",
      "AO\n",
      "AQ\n",
      "AR\n",
      "AS\n",
      "AT\n",
      "AU\n",
      "AW\n",
      "AX\n",
      "AZ\n",
      "BA\n",
      "BB\n",
      "BD\n",
      "BE\n",
      "BF\n",
      "BG\n",
      "BH\n",
      "BI\n",
      "BJ\n",
      "BL\n",
      "BM\n",
      "BN\n",
      "BO\n",
      "BQ\n",
      "BR\n",
      "BS\n",
      "BT\n",
      "BV\n",
      "BW\n",
      "BY\n",
      "BZ\n",
      "CA\n",
      "CC\n",
      "CD\n",
      "CF\n",
      "CG\n",
      "CH\n",
      "CI\n",
      "CK\n",
      "CL\n",
      "CM\n",
      "CN\n",
      "CO\n",
      "CR\n",
      "CU\n",
      "CV\n",
      "CW\n",
      "CX\n",
      "CY\n",
      "CZ\n",
      "DE\n",
      "DJ\n",
      "DK\n",
      "DM\n",
      "DO\n",
      "DZ\n",
      "EC\n",
      "EE\n",
      "EG\n",
      "EH\n",
      "ER\n",
      "ES\n",
      "ET\n",
      "FI\n",
      "FJ\n",
      "FK\n",
      "FM\n",
      "FO\n",
      "FR\n",
      "GA\n",
      "GB\n",
      "GD\n",
      "GE\n",
      "GF\n",
      "GG\n",
      "GH\n",
      "GI\n",
      "GL\n",
      "GM\n",
      "GN\n",
      "GP\n",
      "GQ\n",
      "GR\n",
      "GS\n",
      "GT\n",
      "GU\n",
      "GW\n",
      "GY\n",
      "HK\n",
      "HM\n",
      "HN\n",
      "HR\n",
      "HT\n",
      "HU\n",
      "ID\n",
      "IE\n",
      "IL\n",
      "IM\n",
      "IN\n",
      "IO\n",
      "IQ\n",
      "IR\n",
      "IS\n",
      "IT\n",
      "JE\n",
      "JM\n",
      "JO\n",
      "JP\n",
      "KE\n",
      "KG\n",
      "KH\n",
      "KI\n",
      "KM\n",
      "KN\n",
      "KP\n",
      "KR\n",
      "KW\n",
      "KY\n",
      "KZ\n",
      "LA\n",
      "LB\n",
      "LC\n",
      "LI\n",
      "LK\n",
      "LR\n",
      "LS\n",
      "LT\n",
      "LU\n",
      "LV\n",
      "LY\n",
      "MA\n",
      "MC\n",
      "MD\n",
      "ME\n",
      "MF\n",
      "MG\n",
      "MH\n",
      "MK\n",
      "ML\n",
      "MM\n",
      "MN\n",
      "MO\n",
      "MP\n",
      "MQ\n",
      "MR\n",
      "MS\n",
      "MT\n",
      "MU\n",
      "MV\n",
      "MW\n",
      "MX\n",
      "MY\n",
      "MZ\n",
      "NA\n",
      "NC\n",
      "NE\n",
      "NF\n",
      "NG\n",
      "NI\n",
      "NL\n",
      "NO\n",
      "NP\n",
      "NR\n",
      "NU\n",
      "NZ\n",
      "OM\n",
      "PA\n",
      "PE\n",
      "PF\n",
      "PG\n",
      "PH\n",
      "PK\n",
      "PL\n",
      "PM\n",
      "PN\n",
      "PR\n",
      "PS\n",
      "PT\n",
      "PW\n",
      "PY\n",
      "QA\n",
      "RE\n",
      "RO\n",
      "RS\n",
      "RU\n",
      "RW\n",
      "SA\n",
      "SB\n",
      "SC\n",
      "SD\n",
      "SE\n",
      "SG\n",
      "SH\n",
      "SI\n",
      "SJ\n",
      "SK\n",
      "SL\n",
      "SM\n",
      "SN\n",
      "SO\n",
      "SR\n",
      "SS\n",
      "ST\n",
      "SV\n",
      "SX\n",
      "SY\n",
      "SZ\n",
      "TC\n",
      "TD\n",
      "TF\n",
      "TG\n",
      "TH\n",
      "TJ\n",
      "TK\n",
      "TL\n",
      "TM\n",
      "TN\n",
      "TO\n",
      "TR\n",
      "TT\n",
      "TV\n",
      "TW\n",
      "TZ\n",
      "UA\n",
      "UG\n",
      "UM\n",
      "US\n",
      "UY\n",
      "UZ\n",
      "VA\n",
      "VC\n",
      "VE\n",
      "VG\n",
      "VI\n",
      "VN\n",
      "VU\n",
      "WF\n",
      "WS\n",
      "YE\n",
      "YT\n",
      "ZA\n",
      "ZM\n",
      "ZW\n"
     ]
    }
   ],
   "source": [
    "for i in pytz.country_names:\n",
    "    print (i)"
   ]
  },
  {
   "cell_type": "code",
   "execution_count": 85,
   "metadata": {},
   "outputs": [
    {
     "name": "stdout",
     "output_type": "stream",
     "text": [
      "AD\n",
      "AE\n",
      "AF\n",
      "AG\n",
      "AI\n",
      "AL\n",
      "AM\n",
      "AO\n",
      "AQ\n",
      "AR\n",
      "AS\n",
      "AT\n",
      "AU\n",
      "AW\n",
      "AX\n",
      "AZ\n",
      "BA\n",
      "BB\n",
      "BD\n",
      "BE\n",
      "BF\n",
      "BG\n",
      "BH\n",
      "BI\n",
      "BJ\n",
      "BL\n",
      "BM\n",
      "BN\n",
      "BO\n",
      "BQ\n",
      "BR\n",
      "BS\n",
      "BT\n",
      "BW\n",
      "BY\n",
      "BZ\n",
      "CA\n",
      "CC\n",
      "CD\n",
      "CF\n",
      "CG\n",
      "CH\n",
      "CI\n",
      "CK\n",
      "CL\n",
      "CM\n",
      "CN\n",
      "CO\n",
      "CR\n",
      "CU\n",
      "CV\n",
      "CW\n",
      "CX\n",
      "CY\n",
      "CZ\n",
      "DE\n",
      "DJ\n",
      "DK\n",
      "DM\n",
      "DO\n",
      "DZ\n",
      "EC\n",
      "EE\n",
      "EG\n",
      "EH\n",
      "ER\n",
      "ES\n",
      "ET\n",
      "FI\n",
      "FJ\n",
      "FK\n",
      "FM\n",
      "FO\n",
      "FR\n",
      "GA\n",
      "GB\n",
      "GD\n",
      "GE\n",
      "GF\n",
      "GG\n",
      "GH\n",
      "GI\n",
      "GL\n",
      "GM\n",
      "GN\n",
      "GP\n",
      "GQ\n",
      "GR\n",
      "GS\n",
      "GT\n",
      "GU\n",
      "GW\n",
      "GY\n",
      "HK\n",
      "HN\n",
      "HR\n",
      "HT\n",
      "HU\n",
      "ID\n",
      "IE\n",
      "IL\n",
      "IM\n",
      "IN\n",
      "IO\n",
      "IQ\n",
      "IR\n",
      "IS\n",
      "IT\n",
      "JE\n",
      "JM\n",
      "JO\n",
      "JP\n",
      "KE\n",
      "KG\n",
      "KH\n",
      "KI\n",
      "KM\n",
      "KN\n",
      "KP\n",
      "KR\n",
      "KW\n",
      "KY\n",
      "KZ\n",
      "LA\n",
      "LB\n",
      "LC\n",
      "LI\n",
      "LK\n",
      "LR\n",
      "LS\n",
      "LT\n",
      "LU\n",
      "LV\n",
      "LY\n",
      "MA\n",
      "MC\n",
      "MD\n",
      "ME\n",
      "MF\n",
      "MG\n",
      "MH\n",
      "MK\n",
      "ML\n",
      "MM\n",
      "MN\n",
      "MO\n",
      "MP\n",
      "MQ\n",
      "MR\n",
      "MS\n",
      "MT\n",
      "MU\n",
      "MV\n",
      "MW\n",
      "MX\n",
      "MY\n",
      "MZ\n",
      "NA\n",
      "NC\n",
      "NE\n",
      "NF\n",
      "NG\n",
      "NI\n",
      "NL\n",
      "NO\n",
      "NP\n",
      "NR\n",
      "NU\n",
      "NZ\n",
      "OM\n",
      "PA\n",
      "PE\n",
      "PF\n",
      "PG\n",
      "PH\n",
      "PK\n",
      "PL\n",
      "PM\n",
      "PN\n",
      "PR\n",
      "PS\n",
      "PT\n",
      "PW\n",
      "PY\n",
      "QA\n",
      "RE\n",
      "RO\n",
      "RS\n",
      "RU\n",
      "UA\n",
      "RW\n",
      "SA\n",
      "SB\n",
      "SC\n",
      "SD\n",
      "SE\n",
      "SG\n",
      "SH\n",
      "SI\n",
      "SJ\n",
      "SK\n",
      "SL\n",
      "SM\n",
      "SN\n",
      "SO\n",
      "SR\n",
      "SS\n",
      "ST\n",
      "SV\n",
      "SX\n",
      "SY\n",
      "SZ\n",
      "TC\n",
      "TD\n",
      "TF\n",
      "TG\n",
      "TH\n",
      "TJ\n",
      "TK\n",
      "TL\n",
      "TM\n",
      "TN\n",
      "TO\n",
      "TR\n",
      "TT\n",
      "TV\n",
      "TW\n",
      "TZ\n",
      "UG\n",
      "UM\n",
      "US\n",
      "UY\n",
      "UZ\n",
      "VA\n",
      "VC\n",
      "VE\n",
      "VG\n",
      "VI\n",
      "VN\n",
      "VU\n",
      "WF\n",
      "WS\n",
      "YE\n",
      "YT\n",
      "ZA\n",
      "ZM\n",
      "ZW\n"
     ]
    }
   ],
   "source": [
    "for i in pytz.country_timezones:\n",
    "    print (i)"
   ]
  },
  {
   "cell_type": "code",
   "execution_count": 86,
   "metadata": {},
   "outputs": [],
   "source": [
    "import random"
   ]
  },
  {
   "cell_type": "code",
   "execution_count": 110,
   "metadata": {},
   "outputs": [
    {
     "data": {
      "text/plain": [
       "28"
      ]
     },
     "execution_count": 110,
     "metadata": {},
     "output_type": "execute_result"
    }
   ],
   "source": [
    "random.randint(20,56)"
   ]
  },
  {
   "cell_type": "code",
   "execution_count": 111,
   "metadata": {},
   "outputs": [
    {
     "ename": "TypeError",
     "evalue": "random() takes no arguments (1 given)",
     "output_type": "error",
     "traceback": [
      "\u001b[1;31m---------------------------------------------------------------------------\u001b[0m",
      "\u001b[1;31mTypeError\u001b[0m                                 Traceback (most recent call last)",
      "\u001b[1;32m<ipython-input-111-b7c526f20b91>\u001b[0m in \u001b[0;36m<module>\u001b[1;34m\u001b[0m\n\u001b[1;32m----> 1\u001b[1;33m \u001b[0mrandom\u001b[0m\u001b[1;33m.\u001b[0m\u001b[0mrandom\u001b[0m\u001b[1;33m(\u001b[0m\u001b[0mrange\u001b[0m\u001b[1;33m(\u001b[0m\u001b[1;36m2\u001b[0m\u001b[1;33m,\u001b[0m\u001b[1;36m26\u001b[0m\u001b[1;33m)\u001b[0m\u001b[1;33m)\u001b[0m\u001b[1;33m\u001b[0m\u001b[1;33m\u001b[0m\u001b[0m\n\u001b[0m",
      "\u001b[1;31mTypeError\u001b[0m: random() takes no arguments (1 given)"
     ]
    }
   ],
   "source": [
    "random.random(range(2,26))"
   ]
  },
  {
   "cell_type": "code",
   "execution_count": 108,
   "metadata": {},
   "outputs": [
    {
     "data": {
      "text/plain": [
       "20"
      ]
     },
     "execution_count": 108,
     "metadata": {},
     "output_type": "execute_result"
    }
   ],
   "source": [
    "random.randrange(20,55,9)"
   ]
  },
  {
   "cell_type": "code",
   "execution_count": 112,
   "metadata": {},
   "outputs": [],
   "source": [
    "names =\"\"\"America/Regina\n",
    "Africa/Tripoli\n",
    "America/Santa_Isabel\n",
    "Etc/GMT+11\n",
    "Etc/Zulu\n",
    "Pacific/Pago_Pago\n",
    "Atlantic/Faeroe\n",
    "Indian/Kerguelen\n",
    "America/Guadeloupe\n",
    "Mexico/General\n",
    "Etc/GMT+6\n",
    "Antarctica/Casey\n",
    "US/Hawaii\n",
    "Europe/Isle_of_Man\n",
    "Australia/Eucla\n",
    "America/Nassau\n",
    "Africa/Nairobi\n",
    "PRC\n",
    "Asia/Kuala_Lumpur\n",
    "Asia/Muscat\n",
    "America/Nipigon\n",
    "America/Jujuy\n",
    "Africa/Kigali\n",
    "Pacific/Port_Moresby\n",
    "America/Martinique\n",
    "Africa/Asmara\n",
    "Antarctica/Rothera\n",
    "Europe/Stockholm\n",
    "Pacific/Tahiti\n",
    "Australia/Tasmania\n",
    "Asia/Kabul\n",
    "America/Guyana\n",
    "Asia/Damascus\n",
    "GMT\n",
    "Asia/Novokuznetsk\n",
    "America/Blanc-Sablon\n",
    "America/Montserrat\n",
    "America/Indiana/Vincennes\n",
    "Etc/GMT0\n",
    "Europe/Rome\n",
    "Asia/Singapore\n",
    "Australia/LHI\n",
    "Asia/Yangon\n",
    "Iran\n",
    "Africa/Ndjamena\n",
    "Africa/Ouagadougou\n",
    "America/Porto_Velho\n",
    "America/Cordoba\n",
    "Africa/Casablanca\n",
    "Cuba\n",
    "Europe/Vilnius\n",
    "America/Monterrey\n",
    "Africa/Lusaka\n",
    "Europe/Vienna\n",
    "Indian/Antananarivo\n",
    "Asia/Ust-Nera\n",
    "America/North_Dakota/Beulah\n",
    "America/Indiana/Petersburg\n",
    "Australia/NSW\n",
    "Europe/Volgograd\n",
    "Asia/Ujung_Pandang\n",
    "Asia/Hovd\n",
    "Australia/Sydney\n",
    "Africa/Timbuktu\n",
    "Europe/Zaporozhye\n",
    "America/St_Barthelemy\n",
    "America/Punta_Arenas\n",
    "Africa/Bamako\n",
    "America/Havana\n",
    "Asia/Bishkek\n",
    "America/Dominica\n",
    "Etc/GMT-14\n",
    "Asia/Ashgabat\n",
    "Etc/GMT-0\n",
    "Europe/Busingen\n",
    "Asia/Brunei\n",
    "Europe/Tirane\n",
    "Japan\n",
    "US/Michigan\n",
    "America/Guayaquil\n",
    "Australia/Hobart\n",
    "Hongkong\n",
    "America/Virgin\n",
    "Europe/Helsinki\n",
    "Pacific/Guadalcanal\n",
    "HST\n",
    "US/Eastern\n",
    "Pacific/Pohnpei\n",
    "MST\n",
    "Atlantic/Azores\n",
    "Atlantic/Madeira\n",
    "Europe/Lisbon\n",
    "Asia/Famagusta\n",
    "America/Port_of_Spain\n",
    "Europe/Astrakhan\n",
    "Europe/Berlin\n",
    "America/Indiana/Vevay\n",
    "Europe/Ulyanovsk\n",
    "Pacific/Chatham\n",
    "Europe/Andorra\n",
    "Asia/Novosibirsk\n",
    "Asia/Kuwait\n",
    "Antarctica/Vostok\n",
    "Egypt\n",
    "Asia/Saigon\n",
    "America/Moncton\n",
    "Australia/Darwin\n",
    "Africa/Tunis\n",
    "Asia/Katmandu\n",
    "America/Fort_Wayne\n",
    "Asia/Yakutsk\n",
    "Asia/Pontianak\n",
    "America/Argentina/Buenos_Aires\n",
    "Asia/Urumqi\n",
    "Africa/Libreville\n",
    "Etc/GMT+12\n",
    "America/Argentina/Catamarca\n",
    "America/Sao_Paulo\n",
    "Australia/Melbourne\n",
    "Antarctica/McMurdo\n",
    "Greenwich\n",
    "America/Toronto\n",
    "Asia/Baghdad\n",
    "Asia/Tokyo\n",
    "Asia/Dhaka\n",
    "Etc/GMT-4\n",
    "US/Mountain\n",
    "America/Catamarca\n",
    "Brazil/DeNoronha\n",
    "Etc/GMT+4\n",
    "Africa/El_Aaiun\n",
    "EET\"\"\""
   ]
  },
  {
   "cell_type": "code",
   "execution_count": 113,
   "metadata": {},
   "outputs": [],
   "source": [
    "import re"
   ]
  },
  {
   "cell_type": "code",
   "execution_count": 118,
   "metadata": {},
   "outputs": [
    {
     "name": "stdout",
     "output_type": "stream",
     "text": [
      "(262, 264)\n",
      "(280, 282)\n",
      "(383, 385)\n",
      "(460, 462)\n",
      "(486, 488)\n",
      "(504, 506)\n",
      "(609, 611)\n",
      "(638, 640)\n",
      "(830, 832)\n",
      "(930, 932)\n",
      "(949, 951)\n",
      "(1082, 1084)\n",
      "(1123, 1125)\n",
      "(1128, 1130)\n",
      "(1163, 1165)\n",
      "(1384, 1386)\n",
      "(1428, 1430)\n",
      "(1522, 1524)\n",
      "(1539, 1541)\n",
      "(1575, 1577)\n",
      "(1633, 1635)\n",
      "(1666, 1668)\n",
      "(1679, 1681)\n",
      "(1725, 1727)\n",
      "(1877, 1879)\n",
      "(1890, 1892)\n",
      "(1901, 1903)\n"
     ]
    }
   ],
   "source": [
    "for values in re.finditer(pattern,names):\n",
    "    print(values.span())"
   ]
  },
  {
   "cell_type": "code",
   "execution_count": 115,
   "metadata": {},
   "outputs": [],
   "source": [
    "pattern = 'As'"
   ]
  },
  {
   "cell_type": "code",
   "execution_count": 121,
   "metadata": {},
   "outputs": [
    {
     "data": {
      "text/plain": [
       "['As',\n",
       " 'As',\n",
       " 'As',\n",
       " 'As',\n",
       " 'As',\n",
       " 'As',\n",
       " 'As',\n",
       " 'As',\n",
       " 'As',\n",
       " 'As',\n",
       " 'As',\n",
       " 'As',\n",
       " 'As',\n",
       " 'As',\n",
       " 'As',\n",
       " 'As',\n",
       " 'As',\n",
       " 'As',\n",
       " 'As',\n",
       " 'As',\n",
       " 'As',\n",
       " 'As',\n",
       " 'As',\n",
       " 'As',\n",
       " 'As',\n",
       " 'As',\n",
       " 'As']"
      ]
     },
     "execution_count": 121,
     "metadata": {},
     "output_type": "execute_result"
    }
   ],
   "source": [
    "re.findall(pattern,names)"
   ]
  },
  {
   "cell_type": "code",
   "execution_count": 1,
   "metadata": {},
   "outputs": [],
   "source": [
    "import sys"
   ]
  },
  {
   "cell_type": "code",
   "execution_count": 3,
   "metadata": {},
   "outputs": [
    {
     "data": {
      "text/plain": [
       "'3.7.6 (default, Jan  8 2020, 20:23:39) [MSC v.1916 64 bit (AMD64)]'"
      ]
     },
     "execution_count": 3,
     "metadata": {},
     "output_type": "execute_result"
    }
   ],
   "source": [
    "sys.version"
   ]
  },
  {
   "cell_type": "code",
   "execution_count": 4,
   "metadata": {},
   "outputs": [],
   "source": [
    "import array as arr"
   ]
  },
  {
   "cell_type": "code",
   "execution_count": 7,
   "metadata": {},
   "outputs": [],
   "source": [
    "x = arr.array('i',[1,2,3,6])"
   ]
  },
  {
   "cell_type": "code",
   "execution_count": 6,
   "metadata": {},
   "outputs": [],
   "source": [
    "My_Array=arr.array('i',[1,2,3,4])"
   ]
  },
  {
   "cell_type": "code",
   "execution_count": 8,
   "metadata": {},
   "outputs": [
    {
     "data": {
      "text/plain": [
       "array('i', [1, 2, 3, 6])"
      ]
     },
     "execution_count": 8,
     "metadata": {},
     "output_type": "execute_result"
    }
   ],
   "source": [
    "x"
   ]
  },
  {
   "cell_type": "code",
   "execution_count": 9,
   "metadata": {},
   "outputs": [
    {
     "data": {
      "text/plain": [
       "array('i', [1, 2, 3, 4])"
      ]
     },
     "execution_count": 9,
     "metadata": {},
     "output_type": "execute_result"
    }
   ],
   "source": [
    "My_Array"
   ]
  },
  {
   "cell_type": "code",
   "execution_count": null,
   "metadata": {},
   "outputs": [],
   "source": []
  },
  {
   "cell_type": "code",
   "execution_count": null,
   "metadata": {},
   "outputs": [],
   "source": []
  },
  {
   "cell_type": "code",
   "execution_count": null,
   "metadata": {},
   "outputs": [],
   "source": []
  },
  {
   "cell_type": "code",
   "execution_count": 1,
   "metadata": {},
   "outputs": [],
   "source": [
    "#24 - 11 - 2020"
   ]
  },
  {
   "cell_type": "code",
   "execution_count": null,
   "metadata": {},
   "outputs": [],
   "source": []
  },
  {
   "cell_type": "code",
   "execution_count": null,
   "metadata": {},
   "outputs": [],
   "source": []
  }
 ],
 "metadata": {
  "kernelspec": {
   "display_name": "Python 3",
   "language": "python",
   "name": "python3"
  },
  "language_info": {
   "codemirror_mode": {
    "name": "ipython",
    "version": 3
   },
   "file_extension": ".py",
   "mimetype": "text/x-python",
   "name": "python",
   "nbconvert_exporter": "python",
   "pygments_lexer": "ipython3",
   "version": "3.7.6"
  }
 },
 "nbformat": 4,
 "nbformat_minor": 4
}
